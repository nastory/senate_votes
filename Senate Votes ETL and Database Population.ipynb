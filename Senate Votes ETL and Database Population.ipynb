{
 "cells": [
  {
   "cell_type": "markdown",
   "metadata": {},
   "source": [
    " "
   ]
  },
  {
   "cell_type": "markdown",
   "metadata": {},
   "source": [
    "# <center>Senate Votes ETL and Database Population</center>\n",
    "<center>By Nigel Story</center>"
   ]
  },
  {
   "cell_type": "markdown",
   "metadata": {},
   "source": [
    "---"
   ]
  },
  {
   "cell_type": "markdown",
   "metadata": {},
   "source": [
    "## Introduction\n",
    "\n",
    "This is the ETL notebook that populates my locally hosted `senate` MySQL database, used for the machine learning notebook <a href=\"./senate.html\">Analysis of U.S. Senate Polarization</a>. Here, we scrape publicly available voting records for each U.S. senator, along with data about the proceedings and issues at vote."
   ]
  },
  {
   "cell_type": "markdown",
   "metadata": {},
   "source": [
    "## Packages"
   ]
  },
  {
   "cell_type": "code",
   "execution_count": 2,
   "metadata": {},
   "outputs": [],
   "source": [
    "import requests\n",
    "from bs4 import BeautifulSoup\n",
    "import xml.etree.ElementTree as ET\n",
    "import pandas as pd\n",
    "import numpy as np\n",
    "import re\n",
    "import os\n",
    "from io import StringIO\n",
    "from tqdm import tqdm\n",
    "from helpers.db_connection import DBConnect"
   ]
  },
  {
   "cell_type": "markdown",
   "metadata": {},
   "source": [
    "## Proceedings ETL\n",
    "\n",
    "We can extract data for the proceedings from senate.gov using a BASH script and the `wget` command. This script can be found in \"./bash_scripts/get_data.bash\" within this repository."
   ]
  },
  {
   "cell_type": "code",
   "execution_count": 1,
   "metadata": {},
   "outputs": [],
   "source": [
    "#!mkdir /Users/nastory/repos/senate_votes/xml_data\n",
    "#!cd /Users/nastory/repos/senate_votes/xml_data\n",
    "#!bash ../bash_scripts/get_data.bash"
   ]
  },
  {
   "cell_type": "markdown",
   "metadata": {},
   "source": [
    "After retrieving the data as xml, we will need to convert it to a pandas data frame. This will make it easier to import into the database."
   ]
  },
  {
   "cell_type": "code",
   "execution_count": 3,
   "metadata": {},
   "outputs": [],
   "source": [
    "xml_path = './senate_votes/xml_data/'\n",
    "vote_roll_call_url = 'https://www.senate.gov/legislative/LIS/roll_call_lists/roll_call_vote_cfm.cfm?congress={}&session={}&vote={}'"
   ]
  },
  {
   "cell_type": "code",
   "execution_count": 4,
   "metadata": {},
   "outputs": [],
   "source": [
    "data = []\n",
    "files = os.listdir(xml_path)\n",
    "files.sort()\n",
    "xml_check = re.compile('\\.xml')"
   ]
  },
  {
   "cell_type": "code",
   "execution_count": 5,
   "metadata": {},
   "outputs": [],
   "source": [
    "def check_value(element_name, parent):\n",
    "    # coalesce missing values with empty string\n",
    "    check = parent.find(element_name)\n",
    "    if check is None:\n",
    "        return ''\n",
    "    else:\n",
    "        return check.text"
   ]
  },
  {
   "cell_type": "code",
   "execution_count": 6,
   "metadata": {},
   "outputs": [],
   "source": [
    "for f in files:\n",
    "    if xml_check.search(f):\n",
    "        tree = ET.parse(xml_path + f)\n",
    "        root = tree.getroot()\n",
    "        \n",
    "        congress = root[0].text\n",
    "        session = root[1].text\n",
    "        year = root[2].text\n",
    "        \n",
    "        for vote in root.iter('vote'):\n",
    "            data.append([\n",
    "                congress, \n",
    "                session, \n",
    "                year, \n",
    "                vote.find('vote_number').text,\n",
    "                vote.find('vote_date').text,\n",
    "                check_value('issue', vote),\n",
    "                check_value('question', vote),\n",
    "                vote.find('title').text,\n",
    "                vote.find('vote_tally').find('yeas').text,\n",
    "                vote.find('vote_tally').find('nays').text,\n",
    "                check_value('result', vote)\n",
    "            ])\n",
    "        \n",
    "    else:\n",
    "        pass\n"
   ]
  },
  {
   "cell_type": "code",
   "execution_count": 7,
   "metadata": {},
   "outputs": [],
   "source": [
    "column_names = ['congress', 'session', 'year', 'vote_number', 'vote_date', 'issue',\n",
    "                'question', 'title', 'yeas', 'nays', 'result']\n",
    "df = pd.DataFrame(data, columns=column_names)"
   ]
  },
  {
   "cell_type": "code",
   "execution_count": 8,
   "metadata": {},
   "outputs": [],
   "source": [
    "num_cols = ['congress', 'session', 'year', 'yeas', 'nays']\n",
    "df[num_cols] = df[num_cols].astype(float)\n",
    "df[num_cols] = df[num_cols].fillna(0)"
   ]
  },
  {
   "cell_type": "code",
   "execution_count": 9,
   "metadata": {},
   "outputs": [],
   "source": [
    "df['vote_date'] = df['vote_date'].astype(str) + '-' + df['year'].astype(str)\n",
    "df['vote_date'] = pd.to_datetime(df['vote_date'], format='%d-%b-%Y.0')"
   ]
  },
  {
   "cell_type": "code",
   "execution_count": 10,
   "metadata": {},
   "outputs": [],
   "source": [
    "df['question'] = df['question'].str.replace(r'\\n\\s*', '')"
   ]
  },
  {
   "cell_type": "code",
   "execution_count": 11,
   "metadata": {},
   "outputs": [],
   "source": [
    "with DBConnect('senate', autocommit=True) as cnx:\n",
    "    cnx.df2db(df, 'proceedings', method='insert', if_dup_key_replace=True)"
   ]
  },
  {
   "cell_type": "markdown",
   "metadata": {},
   "source": [
    "## Senators' Votes ETL\n",
    "\n",
    "I attempted two methods of retrieving senators' voting records. The first was to scrape the data from senate.gov, but the volume of requests to the server that I was making was too high, so I was temporarily banned from the site. The alternative was a site called govtrack.us, which had the data in a more accessable format to scrape anyway, so it all worked out."
   ]
  },
  {
   "cell_type": "markdown",
   "metadata": {},
   "source": [
    "### Method 1"
   ]
  },
  {
   "cell_type": "markdown",
   "metadata": {},
   "source": [
    "senate.gov banned me, so the below won't work anymore..."
   ]
  },
  {
   "cell_type": "code",
   "execution_count": 12,
   "metadata": {},
   "outputs": [],
   "source": [
    "# def html2votes(response_text, congress, session, vote_number):\n",
    "#     soup = BeautifulSoup(response_text)\n",
    "#     votes = soup.find_all('div', {'class': 'newspaperDisplay_3column'})[0]\n",
    "\n",
    "#     vote_text = re.sub(r'<[\\s\\S]*>', '', votes.text)\n",
    "#     vote_text = vote_text.replace(' (', ',').replace('), ', ',').replace('-', ',')\n",
    "#     vote_text = 'senator,party,state,vote\\n' + vote_text\n",
    "\n",
    "#     out = pd.read_csv(StringIO(vote_text), delimiter=',')\n",
    "#     out['congress'] = congress\n",
    "#     out['session'] = session\n",
    "#     out['vote_number'] = vote_number\n",
    "    \n",
    "#     cols = ['congress', 'session', 'vote_number', 'senator', 'party', 'state', 'vote']\n",
    "#     out = out[cols]\n",
    "    \n",
    "#     return out"
   ]
  },
  {
   "cell_type": "code",
   "execution_count": 13,
   "metadata": {},
   "outputs": [],
   "source": [
    "# failed = []\n",
    "# df2 = pd.DataFrame()\n",
    "# for row in params:\n",
    "#     url = vote_roll_call_url.format(int(row[0]), int(row[1]), row[2])\n",
    "#     res = requests.get(url)\n",
    "    \n",
    "#     if res.status_code != 200:\n",
    "#         failed.append([url, res.status_code])\n",
    "        \n",
    "#     else:\n",
    "#         df2 = pd.concat([df2, html2votes(res.text, int(row[0]), int(row[1]), row[2])], axis=0)\n",
    "        "
   ]
  },
  {
   "cell_type": "markdown",
   "metadata": {},
   "source": [
    "### Method 2"
   ]
  },
  {
   "cell_type": "code",
   "execution_count": 14,
   "metadata": {},
   "outputs": [],
   "source": [
    "gt_url = 'https://www.govtrack.us/congress/votes/{}-{}/s{}/export/csv'\n",
    "params = df[['congress', 'session', 'vote_number', 'year']].to_numpy()"
   ]
  },
  {
   "cell_type": "markdown",
   "metadata": {},
   "source": [
    "Download data"
   ]
  },
  {
   "cell_type": "code",
   "execution_count": 15,
   "metadata": {},
   "outputs": [],
   "source": [
    "# df2 = pd.DataFrame()\n",
    "# failed = []\n",
    "# for row in params:\n",
    "#     res = requests.get(gt_url.format(int(row[0]), int(row[3]), int(row[2])))\n",
    "#     if res.status_code == 200:\n",
    "#         with open('./csv_data/{}-{}-{}.txt'.format(int(row[0]), int(row[3]), int(row[2])), 'w') as f:\n",
    "#             f.write(res.text)\n",
    "#     else:\n",
    "#         failed.append([gt_url.format(int(row[0]), int(row[3]), int(row[2])), res.status_code])\n"
   ]
  },
  {
   "cell_type": "code",
   "execution_count": 16,
   "metadata": {},
   "outputs": [],
   "source": [
    "#len(failed)"
   ]
  },
  {
   "cell_type": "markdown",
   "metadata": {},
   "source": [
    "Read files and import to db."
   ]
  },
  {
   "cell_type": "code",
   "execution_count": 37,
   "metadata": {},
   "outputs": [],
   "source": [
    "path = './csv_data/'\n",
    "regex = re.compile(r'person,state,district,vote,name,party[\\s\\S]*')\n",
    "failed = []\n",
    "senator_set = set()\n",
    "\n",
    "with DBConnect('senate', autocommit=True) as cnx:\n",
    "    for file in os.listdir(path):\n",
    "        try:\n",
    "            c, y, v = file.split('-')\n",
    "            with open(path + file, 'r') as f:\n",
    "                txt = f.read()\n",
    "                match = regex.search(txt)\n",
    "                if match:\n",
    "                    data_txt = match.group(0)\n",
    "                    \n",
    "            dummy = pd.read_csv(StringIO(data_txt))\n",
    "            dummy['name'] = dummy['name'].str.replace(r'\\s\\[[\\S\\s]*\\]', '')\n",
    "\n",
    "            tups = [tuple(x) for x in dummy[['person', 'name', 'state', 'district', 'party']].to_numpy()]\n",
    "            for t in tups:\n",
    "                senator_set.add(t)\n",
    "\n",
    "            dummy['congress'] = c\n",
    "            dummy['year'] = y\n",
    "            dummy['vote_number'] = v.replace('.txt', '').zfill(5)\n",
    "            dummy = dummy[['congress', 'year', 'vote_number', 'person', 'vote']]\n",
    "            dummy.rename(columns={'person': 'senator_id'}, inplace=True)\n",
    "\n",
    "            cnx.df2db(dummy, 'votes', method='insert', if_dup_key_replace=True)\n",
    "            \n",
    "        except Exception as e:\n",
    "            failed.append([file, str(e)])\n",
    "    "
   ]
  },
  {
   "cell_type": "code",
   "execution_count": 47,
   "metadata": {},
   "outputs": [
    {
     "data": {
      "text/plain": [
       "0"
      ]
     },
     "execution_count": 47,
     "metadata": {},
     "output_type": "execute_result"
    }
   ],
   "source": [
    "len(failed)"
   ]
  },
  {
   "cell_type": "code",
   "execution_count": 55,
   "metadata": {},
   "outputs": [],
   "source": [
    "sen_df = pd.DataFrame(senator_ls, columns=['senator_id', 'name', 'state', 'district', 'party'])"
   ]
  },
  {
   "cell_type": "code",
   "execution_count": 45,
   "metadata": {},
   "outputs": [],
   "source": [
    "sen_df['name'] = sen_df['name'].str.strip()"
   ]
  },
  {
   "cell_type": "code",
   "execution_count": 46,
   "metadata": {},
   "outputs": [],
   "source": [
    "with DBConnect('senate', autocommit=True) as cnx:\n",
    "    cnx.df2db(sen_df, 'senators', method='insert', if_dup_key_replace=True)"
   ]
  },
  {
   "cell_type": "markdown",
   "metadata": {},
   "source": [
    "# Test\n",
    "\n",
    "Now that the data is in the database, we'll perform a few test queries."
   ]
  },
  {
   "cell_type": "code",
   "execution_count": 53,
   "metadata": {},
   "outputs": [],
   "source": [
    "with DBConnect('senate') as cnx:\n",
    "    proceedings = pd.read_sql(con=cnx.cnx, sql='select * from proceedings limit 100')\n",
    "    votes = pd.read_sql(con=cnx.cnx, sql='select * from votes limit 100')\n",
    "    senators = pd.read_sql(con=cnx.cnx, sql='select * from senators limit 100')"
   ]
  },
  {
   "cell_type": "code",
   "execution_count": 50,
   "metadata": {},
   "outputs": [
    {
     "data": {
      "text/html": [
       "<div>\n",
       "<style scoped>\n",
       "    .dataframe tbody tr th:only-of-type {\n",
       "        vertical-align: middle;\n",
       "    }\n",
       "\n",
       "    .dataframe tbody tr th {\n",
       "        vertical-align: top;\n",
       "    }\n",
       "\n",
       "    .dataframe thead th {\n",
       "        text-align: right;\n",
       "    }\n",
       "</style>\n",
       "<table border=\"1\" class=\"dataframe\">\n",
       "  <thead>\n",
       "    <tr style=\"text-align: right;\">\n",
       "      <th></th>\n",
       "      <th>congress</th>\n",
       "      <th>year</th>\n",
       "      <th>vote_number</th>\n",
       "      <th>session</th>\n",
       "      <th>vote_date</th>\n",
       "      <th>issue</th>\n",
       "      <th>question</th>\n",
       "      <th>title</th>\n",
       "      <th>yeas</th>\n",
       "      <th>nays</th>\n",
       "      <th>result</th>\n",
       "    </tr>\n",
       "  </thead>\n",
       "  <tbody>\n",
       "    <tr>\n",
       "      <td>0</td>\n",
       "      <td>101</td>\n",
       "      <td>1989</td>\n",
       "      <td>00001</td>\n",
       "      <td>1</td>\n",
       "      <td>1989-01-25</td>\n",
       "      <td>PN128</td>\n",
       "      <td>On the Nomination</td>\n",
       "      <td>Nomination - Baker</td>\n",
       "      <td>99</td>\n",
       "      <td>0</td>\n",
       "      <td>Confirmed</td>\n",
       "    </tr>\n",
       "    <tr>\n",
       "      <td>1</td>\n",
       "      <td>101</td>\n",
       "      <td>1989</td>\n",
       "      <td>00002</td>\n",
       "      <td>1</td>\n",
       "      <td>1989-01-25</td>\n",
       "      <td>PN133</td>\n",
       "      <td>On the Nomination</td>\n",
       "      <td>Nomination - Dole</td>\n",
       "      <td>99</td>\n",
       "      <td>0</td>\n",
       "      <td>Confirmed</td>\n",
       "    </tr>\n",
       "    <tr>\n",
       "      <td>2</td>\n",
       "      <td>101</td>\n",
       "      <td>1989</td>\n",
       "      <td>00003</td>\n",
       "      <td>1</td>\n",
       "      <td>1989-01-25</td>\n",
       "      <td>PN139</td>\n",
       "      <td>On the Nomination</td>\n",
       "      <td>Nomination - Darman</td>\n",
       "      <td>99</td>\n",
       "      <td>0</td>\n",
       "      <td>Confirmed</td>\n",
       "    </tr>\n",
       "    <tr>\n",
       "      <td>3</td>\n",
       "      <td>101</td>\n",
       "      <td>1989</td>\n",
       "      <td>00004</td>\n",
       "      <td>1</td>\n",
       "      <td>1989-01-31</td>\n",
       "      <td>PN140</td>\n",
       "      <td>On the Nomination</td>\n",
       "      <td>Nomination - Hills</td>\n",
       "      <td>100</td>\n",
       "      <td>0</td>\n",
       "      <td>Confirmed</td>\n",
       "    </tr>\n",
       "    <tr>\n",
       "      <td>4</td>\n",
       "      <td>101</td>\n",
       "      <td>1989</td>\n",
       "      <td>00005</td>\n",
       "      <td>1</td>\n",
       "      <td>1989-01-31</td>\n",
       "      <td>PN132</td>\n",
       "      <td>On the Nomination</td>\n",
       "      <td>Nomination - Mosbacher</td>\n",
       "      <td>100</td>\n",
       "      <td>0</td>\n",
       "      <td>Confirmed</td>\n",
       "    </tr>\n",
       "  </tbody>\n",
       "</table>\n",
       "</div>"
      ],
      "text/plain": [
       "   congress  year vote_number  session  vote_date  issue           question  \\\n",
       "0       101  1989       00001        1 1989-01-25  PN128  On the Nomination   \n",
       "1       101  1989       00002        1 1989-01-25  PN133  On the Nomination   \n",
       "2       101  1989       00003        1 1989-01-25  PN139  On the Nomination   \n",
       "3       101  1989       00004        1 1989-01-31  PN140  On the Nomination   \n",
       "4       101  1989       00005        1 1989-01-31  PN132  On the Nomination   \n",
       "\n",
       "                    title  yeas  nays     result  \n",
       "0      Nomination - Baker    99     0  Confirmed  \n",
       "1       Nomination - Dole    99     0  Confirmed  \n",
       "2     Nomination - Darman    99     0  Confirmed  \n",
       "3      Nomination - Hills   100     0  Confirmed  \n",
       "4  Nomination - Mosbacher   100     0  Confirmed  "
      ]
     },
     "execution_count": 50,
     "metadata": {},
     "output_type": "execute_result"
    }
   ],
   "source": [
    "proceedings.head()"
   ]
  },
  {
   "cell_type": "code",
   "execution_count": 51,
   "metadata": {},
   "outputs": [
    {
     "data": {
      "text/html": [
       "<div>\n",
       "<style scoped>\n",
       "    .dataframe tbody tr th:only-of-type {\n",
       "        vertical-align: middle;\n",
       "    }\n",
       "\n",
       "    .dataframe tbody tr th {\n",
       "        vertical-align: top;\n",
       "    }\n",
       "\n",
       "    .dataframe thead th {\n",
       "        text-align: right;\n",
       "    }\n",
       "</style>\n",
       "<table border=\"1\" class=\"dataframe\">\n",
       "  <thead>\n",
       "    <tr style=\"text-align: right;\">\n",
       "      <th></th>\n",
       "      <th>congress</th>\n",
       "      <th>year</th>\n",
       "      <th>vote_number</th>\n",
       "      <th>senator_id</th>\n",
       "      <th>vote</th>\n",
       "    </tr>\n",
       "  </thead>\n",
       "  <tbody>\n",
       "    <tr>\n",
       "      <td>0</td>\n",
       "      <td>101</td>\n",
       "      <td>1989</td>\n",
       "      <td>00001</td>\n",
       "      <td>300005</td>\n",
       "      <td>Yea</td>\n",
       "    </tr>\n",
       "    <tr>\n",
       "      <td>1</td>\n",
       "      <td>101</td>\n",
       "      <td>1989</td>\n",
       "      <td>00001</td>\n",
       "      <td>300008</td>\n",
       "      <td>Yea</td>\n",
       "    </tr>\n",
       "    <tr>\n",
       "      <td>2</td>\n",
       "      <td>101</td>\n",
       "      <td>1989</td>\n",
       "      <td>00001</td>\n",
       "      <td>300009</td>\n",
       "      <td>Yea</td>\n",
       "    </tr>\n",
       "    <tr>\n",
       "      <td>3</td>\n",
       "      <td>101</td>\n",
       "      <td>1989</td>\n",
       "      <td>00001</td>\n",
       "      <td>300010</td>\n",
       "      <td>Yea</td>\n",
       "    </tr>\n",
       "    <tr>\n",
       "      <td>4</td>\n",
       "      <td>101</td>\n",
       "      <td>1989</td>\n",
       "      <td>00001</td>\n",
       "      <td>300012</td>\n",
       "      <td>Yea</td>\n",
       "    </tr>\n",
       "  </tbody>\n",
       "</table>\n",
       "</div>"
      ],
      "text/plain": [
       "   congress  year vote_number  senator_id vote\n",
       "0       101  1989       00001      300005  Yea\n",
       "1       101  1989       00001      300008  Yea\n",
       "2       101  1989       00001      300009  Yea\n",
       "3       101  1989       00001      300010  Yea\n",
       "4       101  1989       00001      300012  Yea"
      ]
     },
     "execution_count": 51,
     "metadata": {},
     "output_type": "execute_result"
    }
   ],
   "source": [
    "votes.head()"
   ]
  },
  {
   "cell_type": "code",
   "execution_count": 54,
   "metadata": {},
   "outputs": [
    {
     "data": {
      "text/html": [
       "<div>\n",
       "<style scoped>\n",
       "    .dataframe tbody tr th:only-of-type {\n",
       "        vertical-align: middle;\n",
       "    }\n",
       "\n",
       "    .dataframe tbody tr th {\n",
       "        vertical-align: top;\n",
       "    }\n",
       "\n",
       "    .dataframe thead th {\n",
       "        text-align: right;\n",
       "    }\n",
       "</style>\n",
       "<table border=\"1\" class=\"dataframe\">\n",
       "  <thead>\n",
       "    <tr style=\"text-align: right;\">\n",
       "      <th></th>\n",
       "      <th>senator_id</th>\n",
       "      <th>name</th>\n",
       "      <th>state</th>\n",
       "      <th>district</th>\n",
       "      <th>party</th>\n",
       "    </tr>\n",
       "  </thead>\n",
       "  <tbody>\n",
       "    <tr>\n",
       "      <td>0</td>\n",
       "      <td>300001</td>\n",
       "      <td>Sen. Daniel Akaka</td>\n",
       "      <td>HI</td>\n",
       "      <td>None</td>\n",
       "      <td>Democrat</td>\n",
       "    </tr>\n",
       "    <tr>\n",
       "      <td>1</td>\n",
       "      <td>300002</td>\n",
       "      <td>Sen. Lamar Alexander</td>\n",
       "      <td>TN</td>\n",
       "      <td>None</td>\n",
       "      <td>Republican</td>\n",
       "    </tr>\n",
       "    <tr>\n",
       "      <td>2</td>\n",
       "      <td>300003</td>\n",
       "      <td>Sen. Wayne Allard</td>\n",
       "      <td>CO</td>\n",
       "      <td>None</td>\n",
       "      <td>Republican</td>\n",
       "    </tr>\n",
       "    <tr>\n",
       "      <td>3</td>\n",
       "      <td>300004</td>\n",
       "      <td>Sen. George Allen</td>\n",
       "      <td>VA</td>\n",
       "      <td>None</td>\n",
       "      <td>Republican</td>\n",
       "    </tr>\n",
       "    <tr>\n",
       "      <td>4</td>\n",
       "      <td>300005</td>\n",
       "      <td>Sen. Max Baucus</td>\n",
       "      <td>MT</td>\n",
       "      <td>None</td>\n",
       "      <td>Democrat</td>\n",
       "    </tr>\n",
       "  </tbody>\n",
       "</table>\n",
       "</div>"
      ],
      "text/plain": [
       "   senator_id                  name state district       party\n",
       "0      300001     Sen. Daniel Akaka    HI     None    Democrat\n",
       "1      300002  Sen. Lamar Alexander    TN     None  Republican\n",
       "2      300003     Sen. Wayne Allard    CO     None  Republican\n",
       "3      300004     Sen. George Allen    VA     None  Republican\n",
       "4      300005       Sen. Max Baucus    MT     None    Democrat"
      ]
     },
     "execution_count": 54,
     "metadata": {},
     "output_type": "execute_result"
    }
   ],
   "source": [
    "senators.head()"
   ]
  },
  {
   "cell_type": "code",
   "execution_count": null,
   "metadata": {},
   "outputs": [],
   "source": []
  }
 ],
 "metadata": {
  "kernelspec": {
   "display_name": "Python 3",
   "language": "python",
   "name": "python3"
  },
  "language_info": {
   "codemirror_mode": {
    "name": "ipython",
    "version": 3
   },
   "file_extension": ".py",
   "mimetype": "text/x-python",
   "name": "python",
   "nbconvert_exporter": "python",
   "pygments_lexer": "ipython3",
   "version": "3.7.3"
  }
 },
 "nbformat": 4,
 "nbformat_minor": 2
}
