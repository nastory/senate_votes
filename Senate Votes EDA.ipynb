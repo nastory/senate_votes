{
 "cells": [
  {
   "cell_type": "code",
   "execution_count": 1,
   "metadata": {},
   "outputs": [],
   "source": [
    "import pandas as pd\n",
    "import numpy as np\n",
    "import matplotlib.pyplot as plt\n",
    "import seaborn as sns\n",
    "import plotly.graph_objects as go\n",
    "import plotly.express as px\n",
    "from helpers.db_connection import DBConnect\n",
    "\n",
    "from sklearn.cluster import KMeans"
   ]
  },
  {
   "cell_type": "markdown",
   "metadata": {},
   "source": [
    "### start by comparing political map"
   ]
  },
  {
   "cell_type": "code",
   "execution_count": 10,
   "metadata": {},
   "outputs": [],
   "source": [
    "party_state_year_q = \"\"\"\n",
    "WITH t AS\n",
    "(\n",
    "\tSELECT\n",
    "\t\ts.`state`,\n",
    "\t\tv.`year`,\n",
    "\t\ts.`party`,\n",
    "\t\tCOUNT(DISTINCT s.`senator_id`) AS cnt\n",
    "\tFROM senators s\n",
    "\tJOIN votes v ON v.`senator_id` = s.`senator_id`\n",
    "\tGROUP BY s.`state`, v.`year`, s.`party`\n",
    ")\n",
    "\n",
    "\n",
    "SELECT \n",
    "\tm.`state`, \n",
    "\tm.`year`, \n",
    "\tCASE WHEN t.cnt=1 THEN 'Tie' ELSE t.`party` END AS party\n",
    "FROM (\n",
    "\tSELECT\n",
    "\t\tt.`state`,\n",
    "\t\tt.`year`,\n",
    "\t\tmax(t.`cnt`) as max_cnt\n",
    "\tFROM t\n",
    "\tGROUP BY t.`state`, t.`year`\n",
    ") m\n",
    "JOIN t ON t.`state` = m.`state` \n",
    "\tAND t.`year` = m.`year` \n",
    "\tAND m.`max_cnt` = t.`cnt`\n",
    ";\n",
    "\"\"\""
   ]
  },
  {
   "cell_type": "code",
   "execution_count": 11,
   "metadata": {},
   "outputs": [],
   "source": [
    "with DBConnect('senate') as cnx:\n",
    "    state_parties = pd.read_sql(con=cnx.cnx, sql=party_state_year_q)"
   ]
  },
  {
   "cell_type": "code",
   "execution_count": 12,
   "metadata": {},
   "outputs": [],
   "source": [
    "state_parties = state_parties.loc[state_parties['party']!='Vice President', :]"
   ]
  },
  {
   "cell_type": "code",
   "execution_count": 16,
   "metadata": {},
   "outputs": [
    {
     "data": {
      "application/vnd.plotly.v1+json": {
       "config": {
        "plotlyServerURL": "https://plot.ly"
       },
       "data": [
        {
         "colorscale": [
          [
           0,
           "red"
          ],
          [
           1,
           "red"
          ]
         ],
         "geo": "geo",
         "hovertemplate": "color=Republican<br>animation_frame=1989<br>locations=%{location}<extra></extra>",
         "locationmode": "USA-states",
         "locations": [
          "AK",
          "ID",
          "IN",
          "KS",
          "MN",
          "MO",
          "MS",
          "NH",
          "OR",
          "PA",
          "UT",
          "WY"
         ],
         "name": "Republican",
         "showlegend": true,
         "showscale": false,
         "type": "choropleth",
         "z": [
          1,
          1,
          1,
          1,
          1,
          1,
          1,
          1,
          1,
          1,
          1,
          1
         ]
        },
        {
         "colorscale": [
          [
           0,
           "gray"
          ],
          [
           1,
           "gray"
          ]
         ],
         "geo": "geo",
         "hovertemplate": "color=Tie<br>animation_frame=1989<br>locations=%{location}<extra></extra>",
         "locationmode": "USA-states",
         "locations": [
          "AL",
          "AL",
          "AZ",
          "AZ",
          "CA",
          "CA",
          "CO",
          "CO",
          "DE",
          "DE",
          "FL",
          "FL",
          "IA",
          "IA",
          "KY",
          "KY",
          "ME",
          "ME",
          "MT",
          "MT",
          "NC",
          "NC",
          "NM",
          "NM",
          "NULL",
          "NY",
          "NY",
          "OK",
          "OK",
          "RI",
          "RI",
          "SC",
          "SC",
          "SD",
          "SD",
          "TN",
          "TX",
          "TX",
          "VA",
          "VA",
          "VT",
          "VT",
          "WA",
          "WA",
          "WI",
          "WI"
         ],
         "name": "Tie",
         "showlegend": true,
         "showscale": false,
         "type": "choropleth",
         "z": [
          1,
          1,
          1,
          1,
          1,
          1,
          1,
          1,
          1,
          1,
          1,
          1,
          1,
          1,
          1,
          1,
          1,
          1,
          1,
          1,
          1,
          1,
          1,
          1,
          1,
          1,
          1,
          1,
          1,
          1,
          1,
          1,
          1,
          1,
          1,
          1,
          1,
          1,
          1,
          1,
          1,
          1,
          1,
          1,
          1,
          1
         ]
        },
        {
         "colorscale": [
          [
           0,
           "blue"
          ],
          [
           1,
           "blue"
          ]
         ],
         "geo": "geo",
         "hovertemplate": "color=Democrat<br>animation_frame=1989<br>locations=%{location}<extra></extra>",
         "locationmode": "USA-states",
         "locations": [
          "AR",
          "CT",
          "GA",
          "HI",
          "IL",
          "LA",
          "MA",
          "MD",
          "MI",
          "ND",
          "NE",
          "NJ",
          "NV",
          "OH",
          "WV"
         ],
         "name": "Democrat",
         "showlegend": true,
         "showscale": false,
         "type": "choropleth",
         "z": [
          1,
          1,
          1,
          1,
          1,
          1,
          1,
          1,
          1,
          1,
          1,
          1,
          1,
          1,
          1
         ]
        }
       ],
       "frames": [
        {
         "data": [
          {
           "colorscale": [
            [
             0,
             "red"
            ],
            [
             1,
             "red"
            ]
           ],
           "geo": "geo",
           "hovertemplate": "color=Republican<br>animation_frame=1989<br>locations=%{location}<extra></extra>",
           "locationmode": "USA-states",
           "locations": [
            "AK",
            "ID",
            "IN",
            "KS",
            "MN",
            "MO",
            "MS",
            "NH",
            "OR",
            "PA",
            "UT",
            "WY"
           ],
           "name": "Republican",
           "showlegend": true,
           "showscale": false,
           "type": "choropleth",
           "z": [
            1,
            1,
            1,
            1,
            1,
            1,
            1,
            1,
            1,
            1,
            1,
            1
           ]
          },
          {
           "colorscale": [
            [
             0,
             "gray"
            ],
            [
             1,
             "gray"
            ]
           ],
           "geo": "geo",
           "hovertemplate": "color=Tie<br>animation_frame=1989<br>locations=%{location}<extra></extra>",
           "locationmode": "USA-states",
           "locations": [
            "AL",
            "AL",
            "AZ",
            "AZ",
            "CA",
            "CA",
            "CO",
            "CO",
            "DE",
            "DE",
            "FL",
            "FL",
            "IA",
            "IA",
            "KY",
            "KY",
            "ME",
            "ME",
            "MT",
            "MT",
            "NC",
            "NC",
            "NM",
            "NM",
            "NULL",
            "NY",
            "NY",
            "OK",
            "OK",
            "RI",
            "RI",
            "SC",
            "SC",
            "SD",
            "SD",
            "TN",
            "TX",
            "TX",
            "VA",
            "VA",
            "VT",
            "VT",
            "WA",
            "WA",
            "WI",
            "WI"
           ],
           "name": "Tie",
           "showlegend": true,
           "showscale": false,
           "type": "choropleth",
           "z": [
            1,
            1,
            1,
            1,
            1,
            1,
            1,
            1,
            1,
            1,
            1,
            1,
            1,
            1,
            1,
            1,
            1,
            1,
            1,
            1,
            1,
            1,
            1,
            1,
            1,
            1,
            1,
            1,
            1,
            1,
            1,
            1,
            1,
            1,
            1,
            1,
            1,
            1,
            1,
            1,
            1,
            1,
            1,
            1,
            1,
            1
           ]
          },
          {
           "colorscale": [
            [
             0,
             "blue"
            ],
            [
             1,
             "blue"
            ]
           ],
           "geo": "geo",
           "hovertemplate": "color=Democrat<br>animation_frame=1989<br>locations=%{location}<extra></extra>",
           "locationmode": "USA-states",
           "locations": [
            "AR",
            "CT",
            "GA",
            "HI",
            "IL",
            "LA",
            "MA",
            "MD",
            "MI",
            "ND",
            "NE",
            "NJ",
            "NV",
            "OH",
            "WV"
           ],
           "name": "Democrat",
           "showlegend": true,
           "showscale": false,
           "type": "choropleth",
           "z": [
            1,
            1,
            1,
            1,
            1,
            1,
            1,
            1,
            1,
            1,
            1,
            1,
            1,
            1,
            1
           ]
          }
         ],
         "name": "1989"
        },
        {
         "data": [
          {
           "colorscale": [
            [
             0,
             "red"
            ],
            [
             1,
             "red"
            ]
           ],
           "geo": "geo",
           "hovertemplate": "color=Republican<br>animation_frame=1990<br>locations=%{location}<extra></extra>",
           "locationmode": "USA-states",
           "locations": [
            "AK",
            "ID",
            "IN",
            "KS",
            "MN",
            "MO",
            "MS",
            "NH",
            "OR",
            "PA",
            "UT",
            "WY"
           ],
           "name": "Republican",
           "showlegend": true,
           "showscale": false,
           "type": "choropleth",
           "z": [
            1,
            1,
            1,
            1,
            1,
            1,
            1,
            1,
            1,
            1,
            1,
            1
           ]
          },
          {
           "colorscale": [
            [
             0,
             "gray"
            ],
            [
             1,
             "gray"
            ]
           ],
           "geo": "geo",
           "hovertemplate": "color=Tie<br>animation_frame=1990<br>locations=%{location}<extra></extra>",
           "locationmode": "USA-states",
           "locations": [
            "AL",
            "AL",
            "AZ",
            "AZ",
            "CA",
            "CA",
            "CO",
            "CO",
            "DE",
            "DE",
            "FL",
            "FL",
            "IA",
            "IA",
            "KY",
            "KY",
            "ME",
            "ME",
            "MT",
            "MT",
            "NC",
            "NC",
            "NM",
            "NM",
            "NULL",
            "NY",
            "NY",
            "OK",
            "OK",
            "RI",
            "RI",
            "SC",
            "SC",
            "SD",
            "SD",
            "TN",
            "TX",
            "TX",
            "VA",
            "VA",
            "VT",
            "VT",
            "WA",
            "WA",
            "WI",
            "WI"
           ],
           "name": "Tie",
           "showlegend": true,
           "showscale": false,
           "type": "choropleth",
           "z": [
            1,
            1,
            1,
            1,
            1,
            1,
            1,
            1,
            1,
            1,
            1,
            1,
            1,
            1,
            1,
            1,
            1,
            1,
            1,
            1,
            1,
            1,
            1,
            1,
            1,
            1,
            1,
            1,
            1,
            1,
            1,
            1,
            1,
            1,
            1,
            1,
            1,
            1,
            1,
            1,
            1,
            1,
            1,
            1,
            1,
            1
           ]
          },
          {
           "colorscale": [
            [
             0,
             "blue"
            ],
            [
             1,
             "blue"
            ]
           ],
           "geo": "geo",
           "hovertemplate": "color=Democrat<br>animation_frame=1990<br>locations=%{location}<extra></extra>",
           "locationmode": "USA-states",
           "locations": [
            "AR",
            "CT",
            "GA",
            "HI",
            "IL",
            "LA",
            "MA",
            "MD",
            "MI",
            "ND",
            "NE",
            "NJ",
            "NV",
            "OH",
            "WV"
           ],
           "name": "Democrat",
           "showlegend": true,
           "showscale": false,
           "type": "choropleth",
           "z": [
            1,
            1,
            1,
            1,
            1,
            1,
            1,
            1,
            1,
            1,
            1,
            1,
            1,
            1,
            1
           ]
          }
         ],
         "name": "1990"
        },
        {
         "data": [
          {
           "colorscale": [
            [
             0,
             "red"
            ],
            [
             1,
             "red"
            ]
           ],
           "geo": "geo",
           "hovertemplate": "color=Republican<br>animation_frame=1991<br>locations=%{location}<extra></extra>",
           "locationmode": "USA-states",
           "locations": [
            "AK",
            "ID",
            "IN",
            "KS",
            "MO",
            "MS",
            "NH",
            "OR",
            "PA",
            "UT",
            "WY"
           ],
           "name": "Republican",
           "showlegend": true,
           "showscale": false,
           "type": "choropleth",
           "z": [
            1,
            1,
            1,
            1,
            1,
            1,
            1,
            1,
            1,
            1,
            1
           ]
          },
          {
           "colorscale": [
            [
             0,
             "gray"
            ],
            [
             1,
             "gray"
            ]
           ],
           "geo": "geo",
           "hovertemplate": "color=Tie<br>animation_frame=1991<br>locations=%{location}<extra></extra>",
           "locationmode": "USA-states",
           "locations": [
            "AL",
            "AL",
            "AZ",
            "AZ",
            "CA",
            "CA",
            "CO",
            "CO",
            "DE",
            "DE",
            "FL",
            "FL",
            "IA",
            "IA",
            "KY",
            "KY",
            "ME",
            "ME",
            "MN",
            "MN",
            "MT",
            "MT",
            "NC",
            "NC",
            "NM",
            "NM",
            "NULL",
            "NY",
            "NY",
            "OK",
            "OK",
            "RI",
            "RI",
            "SC",
            "SC",
            "SD",
            "SD",
            "TN",
            "TX",
            "TX",
            "VA",
            "VA",
            "VT",
            "VT",
            "WA",
            "WA",
            "WI",
            "WI"
           ],
           "name": "Tie",
           "showlegend": true,
           "showscale": false,
           "type": "choropleth",
           "z": [
            1,
            1,
            1,
            1,
            1,
            1,
            1,
            1,
            1,
            1,
            1,
            1,
            1,
            1,
            1,
            1,
            1,
            1,
            1,
            1,
            1,
            1,
            1,
            1,
            1,
            1,
            1,
            1,
            1,
            1,
            1,
            1,
            1,
            1,
            1,
            1,
            1,
            1,
            1,
            1,
            1,
            1,
            1,
            1,
            1,
            1,
            1,
            1
           ]
          },
          {
           "colorscale": [
            [
             0,
             "blue"
            ],
            [
             1,
             "blue"
            ]
           ],
           "geo": "geo",
           "hovertemplate": "color=Democrat<br>animation_frame=1991<br>locations=%{location}<extra></extra>",
           "locationmode": "USA-states",
           "locations": [
            "AR",
            "CT",
            "GA",
            "HI",
            "IL",
            "LA",
            "MA",
            "MD",
            "MI",
            "ND",
            "NE",
            "NJ",
            "NV",
            "OH",
            "WV"
           ],
           "name": "Democrat",
           "showlegend": true,
           "showscale": false,
           "type": "choropleth",
           "z": [
            1,
            1,
            1,
            1,
            1,
            1,
            1,
            1,
            1,
            1,
            1,
            1,
            1,
            1,
            1
           ]
          }
         ],
         "name": "1991"
        },
        {
         "data": [
          {
           "colorscale": [
            [
             0,
             "red"
            ],
            [
             1,
             "red"
            ]
           ],
           "geo": "geo",
           "hovertemplate": "color=Republican<br>animation_frame=1992<br>locations=%{location}<extra></extra>",
           "locationmode": "USA-states",
           "locations": [
            "AK",
            "ID",
            "IN",
            "KS",
            "MO",
            "MS",
            "NH",
            "OR",
            "UT",
            "WY"
           ],
           "name": "Republican",
           "showlegend": true,
           "showscale": false,
           "type": "choropleth",
           "z": [
            1,
            1,
            1,
            1,
            1,
            1,
            1,
            1,
            1,
            1
           ]
          },
          {
           "colorscale": [
            [
             0,
             "gray"
            ],
            [
             1,
             "gray"
            ]
           ],
           "geo": "geo",
           "hovertemplate": "color=Tie<br>animation_frame=1992<br>locations=%{location}<extra></extra>",
           "locationmode": "USA-states",
           "locations": [
            "AL",
            "AL",
            "AZ",
            "AZ",
            "CA",
            "CA",
            "CO",
            "CO",
            "DE",
            "DE",
            "FL",
            "FL",
            "IA",
            "IA",
            "KY",
            "KY",
            "ME",
            "ME",
            "MN",
            "MN",
            "MT",
            "MT",
            "NC",
            "NC",
            "NM",
            "NM",
            "NULL",
            "NY",
            "NY",
            "OK",
            "OK",
            "PA",
            "PA",
            "RI",
            "RI",
            "SC",
            "SC",
            "SD",
            "SD",
            "TN",
            "TX",
            "TX",
            "VA",
            "VA",
            "VT",
            "VT",
            "WA",
            "WA",
            "WI",
            "WI"
           ],
           "name": "Tie",
           "showlegend": true,
           "showscale": false,
           "type": "choropleth",
           "z": [
            1,
            1,
            1,
            1,
            1,
            1,
            1,
            1,
            1,
            1,
            1,
            1,
            1,
            1,
            1,
            1,
            1,
            1,
            1,
            1,
            1,
            1,
            1,
            1,
            1,
            1,
            1,
            1,
            1,
            1,
            1,
            1,
            1,
            1,
            1,
            1,
            1,
            1,
            1,
            1,
            1,
            1,
            1,
            1,
            1,
            1,
            1,
            1,
            1,
            1
           ]
          },
          {
           "colorscale": [
            [
             0,
             "blue"
            ],
            [
             1,
             "blue"
            ]
           ],
           "geo": "geo",
           "hovertemplate": "color=Democrat<br>animation_frame=1992<br>locations=%{location}<extra></extra>",
           "locationmode": "USA-states",
           "locations": [
            "AR",
            "CT",
            "GA",
            "HI",
            "IL",
            "LA",
            "MA",
            "MD",
            "MI",
            "ND",
            "NE",
            "NJ",
            "NV",
            "OH",
            "WV"
           ],
           "name": "Democrat",
           "showlegend": true,
           "showscale": false,
           "type": "choropleth",
           "z": [
            1,
            1,
            1,
            1,
            1,
            1,
            1,
            1,
            1,
            1,
            1,
            1,
            1,
            1,
            1
           ]
          }
         ],
         "name": "1992"
        },
        {
         "data": [
          {
           "colorscale": [
            [
             0,
             "red"
            ],
            [
             1,
             "red"
            ]
           ],
           "geo": "geo",
           "hovertemplate": "color=Republican<br>animation_frame=1993<br>locations=%{location}<extra></extra>",
           "locationmode": "USA-states",
           "locations": [
            "AK",
            "CO",
            "ID",
            "IN",
            "KS",
            "MO",
            "MS",
            "NC",
            "NH",
            "OR",
            "TX",
            "UT",
            "WY"
           ],
           "name": "Republican",
           "showlegend": true,
           "showscale": false,
           "type": "choropleth",
           "z": [
            1,
            1,
            1,
            1,
            1,
            1,
            1,
            1,
            1,
            1,
            1,
            1,
            1
           ]
          },
          {
           "colorscale": [
            [
             0,
             "gray"
            ],
            [
             1,
             "gray"
            ]
           ],
           "geo": "geo",
           "hovertemplate": "color=Tie<br>animation_frame=1993<br>locations=%{location}<extra></extra>",
           "locationmode": "USA-states",
           "locations": [
            "AL",
            "AL",
            "AZ",
            "AZ",
            "DE",
            "DE",
            "FL",
            "FL",
            "GA",
            "GA",
            "IA",
            "IA",
            "KY",
            "KY",
            "ME",
            "ME",
            "MN",
            "MN",
            "MT",
            "MT",
            "NM",
            "NM",
            "NULL",
            "NY",
            "NY",
            "OK",
            "OK",
            "PA",
            "PA",
            "RI",
            "RI",
            "SC",
            "SC",
            "SD",
            "SD",
            "VA",
            "VA",
            "VT",
            "VT",
            "WA",
            "WA"
           ],
           "name": "Tie",
           "showlegend": true,
           "showscale": false,
           "type": "choropleth",
           "z": [
            1,
            1,
            1,
            1,
            1,
            1,
            1,
            1,
            1,
            1,
            1,
            1,
            1,
            1,
            1,
            1,
            1,
            1,
            1,
            1,
            1,
            1,
            1,
            1,
            1,
            1,
            1,
            1,
            1,
            1,
            1,
            1,
            1,
            1,
            1,
            1,
            1,
            1,
            1,
            1,
            1
           ]
          },
          {
           "colorscale": [
            [
             0,
             "blue"
            ],
            [
             1,
             "blue"
            ]
           ],
           "geo": "geo",
           "hovertemplate": "color=Democrat<br>animation_frame=1993<br>locations=%{location}<extra></extra>",
           "locationmode": "USA-states",
           "locations": [
            "AR",
            "CA",
            "CT",
            "HI",
            "IL",
            "LA",
            "MA",
            "MD",
            "MI",
            "ND",
            "NE",
            "NJ",
            "NV",
            "OH",
            "TN",
            "WI",
            "WV"
           ],
           "name": "Democrat",
           "showlegend": true,
           "showscale": false,
           "type": "choropleth",
           "z": [
            1,
            1,
            1,
            1,
            1,
            1,
            1,
            1,
            1,
            1,
            1,
            1,
            1,
            1,
            1,
            1,
            1
           ]
          }
         ],
         "name": "1993"
        },
        {
         "data": [
          {
           "colorscale": [
            [
             0,
             "red"
            ],
            [
             1,
             "red"
            ]
           ],
           "geo": "geo",
           "hovertemplate": "color=Republican<br>animation_frame=1994<br>locations=%{location}<extra></extra>",
           "locationmode": "USA-states",
           "locations": [
            "AK",
            "CO",
            "ID",
            "IN",
            "KS",
            "MO",
            "MS",
            "NC",
            "NH",
            "OK",
            "OR",
            "TX",
            "UT",
            "WY"
           ],
           "name": "Republican",
           "showlegend": true,
           "showscale": false,
           "type": "choropleth",
           "z": [
            1,
            1,
            1,
            1,
            1,
            1,
            1,
            1,
            1,
            1,
            1,
            1,
            1,
            1
           ]
          },
          {
           "colorscale": [
            [
             0,
             "gray"
            ],
            [
             1,
             "gray"
            ]
           ],
           "geo": "geo",
           "hovertemplate": "color=Tie<br>animation_frame=1994<br>locations=%{location}<extra></extra>",
           "locationmode": "USA-states",
           "locations": [
            "AL",
            "AL",
            "AZ",
            "AZ",
            "DE",
            "DE",
            "FL",
            "FL",
            "GA",
            "GA",
            "IA",
            "IA",
            "KY",
            "KY",
            "ME",
            "ME",
            "MN",
            "MN",
            "MT",
            "MT",
            "NM",
            "NM",
            "NULL",
            "NY",
            "NY",
            "PA",
            "PA",
            "RI",
            "RI",
            "SC",
            "SC",
            "SD",
            "SD",
            "VA",
            "VA",
            "VT",
            "VT",
            "WA",
            "WA"
           ],
           "name": "Tie",
           "showlegend": true,
           "showscale": false,
           "type": "choropleth",
           "z": [
            1,
            1,
            1,
            1,
            1,
            1,
            1,
            1,
            1,
            1,
            1,
            1,
            1,
            1,
            1,
            1,
            1,
            1,
            1,
            1,
            1,
            1,
            1,
            1,
            1,
            1,
            1,
            1,
            1,
            1,
            1,
            1,
            1,
            1,
            1,
            1,
            1,
            1,
            1
           ]
          },
          {
           "colorscale": [
            [
             0,
             "blue"
            ],
            [
             1,
             "blue"
            ]
           ],
           "geo": "geo",
           "hovertemplate": "color=Democrat<br>animation_frame=1994<br>locations=%{location}<extra></extra>",
           "locationmode": "USA-states",
           "locations": [
            "AR",
            "CA",
            "CT",
            "HI",
            "IL",
            "LA",
            "MA",
            "MD",
            "MI",
            "ND",
            "NE",
            "NJ",
            "NV",
            "OH",
            "TN",
            "WI",
            "WV"
           ],
           "name": "Democrat",
           "showlegend": true,
           "showscale": false,
           "type": "choropleth",
           "z": [
            1,
            1,
            1,
            1,
            1,
            1,
            1,
            1,
            1,
            1,
            1,
            1,
            1,
            1,
            1,
            1,
            1
           ]
          }
         ],
         "name": "1994"
        },
        {
         "data": [
          {
           "colorscale": [
            [
             0,
             "red"
            ],
            [
             1,
             "red"
            ]
           ],
           "geo": "geo",
           "hovertemplate": "color=Republican<br>animation_frame=1995<br>locations=%{location}<extra></extra>",
           "locationmode": "USA-states",
           "locations": [
            "AK",
            "AZ",
            "CO",
            "ID",
            "IN",
            "KS",
            "ME",
            "MO",
            "MS",
            "NC",
            "NH",
            "OK",
            "OR",
            "PA",
            "TN",
            "TX",
            "UT",
            "WY"
           ],
           "name": "Republican",
           "showlegend": true,
           "showscale": false,
           "type": "choropleth",
           "z": [
            1,
            1,
            1,
            1,
            1,
            1,
            1,
            1,
            1,
            1,
            1,
            1,
            1,
            1,
            1,
            1,
            1,
            1
           ]
          },
          {
           "colorscale": [
            [
             0,
             "gray"
            ],
            [
             1,
             "gray"
            ]
           ],
           "geo": "geo",
           "hovertemplate": "color=Tie<br>animation_frame=1995<br>locations=%{location}<extra></extra>",
           "locationmode": "USA-states",
           "locations": [
            "AL",
            "AL",
            "DE",
            "DE",
            "FL",
            "FL",
            "GA",
            "GA",
            "IA",
            "IA",
            "KY",
            "KY",
            "MI",
            "MI",
            "MN",
            "MN",
            "MT",
            "MT",
            "NM",
            "NM",
            "NY",
            "NY",
            "OH",
            "OH",
            "RI",
            "RI",
            "SC",
            "SC",
            "SD",
            "SD",
            "VA",
            "VA",
            "VT",
            "VT",
            "WA",
            "WA"
           ],
           "name": "Tie",
           "showlegend": true,
           "showscale": false,
           "type": "choropleth",
           "z": [
            1,
            1,
            1,
            1,
            1,
            1,
            1,
            1,
            1,
            1,
            1,
            1,
            1,
            1,
            1,
            1,
            1,
            1,
            1,
            1,
            1,
            1,
            1,
            1,
            1,
            1,
            1,
            1,
            1,
            1,
            1,
            1,
            1,
            1,
            1,
            1
           ]
          },
          {
           "colorscale": [
            [
             0,
             "blue"
            ],
            [
             1,
             "blue"
            ]
           ],
           "geo": "geo",
           "hovertemplate": "color=Democrat<br>animation_frame=1995<br>locations=%{location}<extra></extra>",
           "locationmode": "USA-states",
           "locations": [
            "AR",
            "CA",
            "CT",
            "HI",
            "IL",
            "LA",
            "MA",
            "MD",
            "ND",
            "NE",
            "NJ",
            "NV",
            "WI",
            "WV"
           ],
           "name": "Democrat",
           "showlegend": true,
           "showscale": false,
           "type": "choropleth",
           "z": [
            1,
            1,
            1,
            1,
            1,
            1,
            1,
            1,
            1,
            1,
            1,
            1,
            1,
            1
           ]
          }
         ],
         "name": "1995"
        },
        {
         "data": [
          {
           "colorscale": [
            [
             0,
             "red"
            ],
            [
             1,
             "red"
            ]
           ],
           "geo": "geo",
           "hovertemplate": "color=Republican<br>animation_frame=1996<br>locations=%{location}<extra></extra>",
           "locationmode": "USA-states",
           "locations": [
            "AK",
            "AZ",
            "CO",
            "ID",
            "IN",
            "KS",
            "ME",
            "MO",
            "MS",
            "NC",
            "NH",
            "OK",
            "PA",
            "TN",
            "TX",
            "UT",
            "WY"
           ],
           "name": "Republican",
           "showlegend": true,
           "showscale": false,
           "type": "choropleth",
           "z": [
            1,
            1,
            1,
            1,
            1,
            1,
            1,
            1,
            1,
            1,
            1,
            1,
            1,
            1,
            1,
            1,
            1
           ]
          },
          {
           "colorscale": [
            [
             0,
             "gray"
            ],
            [
             1,
             "gray"
            ]
           ],
           "geo": "geo",
           "hovertemplate": "color=Tie<br>animation_frame=1996<br>locations=%{location}<extra></extra>",
           "locationmode": "USA-states",
           "locations": [
            "AL",
            "AL",
            "DE",
            "DE",
            "FL",
            "FL",
            "GA",
            "GA",
            "IA",
            "IA",
            "KY",
            "KY",
            "MI",
            "MI",
            "MN",
            "MN",
            "MT",
            "MT",
            "NM",
            "NM",
            "NY",
            "NY",
            "OH",
            "OH",
            "OR",
            "OR",
            "RI",
            "RI",
            "SC",
            "SC",
            "SD",
            "SD",
            "VA",
            "VA",
            "VT",
            "VT",
            "WA",
            "WA"
           ],
           "name": "Tie",
           "showlegend": true,
           "showscale": false,
           "type": "choropleth",
           "z": [
            1,
            1,
            1,
            1,
            1,
            1,
            1,
            1,
            1,
            1,
            1,
            1,
            1,
            1,
            1,
            1,
            1,
            1,
            1,
            1,
            1,
            1,
            1,
            1,
            1,
            1,
            1,
            1,
            1,
            1,
            1,
            1,
            1,
            1,
            1,
            1,
            1,
            1
           ]
          },
          {
           "colorscale": [
            [
             0,
             "blue"
            ],
            [
             1,
             "blue"
            ]
           ],
           "geo": "geo",
           "hovertemplate": "color=Democrat<br>animation_frame=1996<br>locations=%{location}<extra></extra>",
           "locationmode": "USA-states",
           "locations": [
            "AR",
            "CA",
            "CT",
            "HI",
            "IL",
            "LA",
            "MA",
            "MD",
            "ND",
            "NE",
            "NJ",
            "NV",
            "WI",
            "WV"
           ],
           "name": "Democrat",
           "showlegend": true,
           "showscale": false,
           "type": "choropleth",
           "z": [
            1,
            1,
            1,
            1,
            1,
            1,
            1,
            1,
            1,
            1,
            1,
            1,
            1,
            1
           ]
          }
         ],
         "name": "1996"
        },
        {
         "data": [
          {
           "colorscale": [
            [
             0,
             "red"
            ],
            [
             1,
             "red"
            ]
           ],
           "geo": "geo",
           "hovertemplate": "color=Republican<br>animation_frame=1997<br>locations=%{location}<extra></extra>",
           "locationmode": "USA-states",
           "locations": [
            "AK",
            "AL",
            "AZ",
            "CO",
            "ID",
            "IN",
            "KS",
            "ME",
            "MO",
            "MS",
            "NC",
            "NH",
            "OK",
            "PA",
            "TN",
            "TX",
            "UT",
            "WY"
           ],
           "name": "Republican",
           "showlegend": true,
           "showscale": false,
           "type": "choropleth",
           "z": [
            1,
            1,
            1,
            1,
            1,
            1,
            1,
            1,
            1,
            1,
            1,
            1,
            1,
            1,
            1,
            1,
            1,
            1
           ]
          },
          {
           "colorscale": [
            [
             0,
             "gray"
            ],
            [
             1,
             "gray"
            ]
           ],
           "geo": "geo",
           "hovertemplate": "color=Tie<br>animation_frame=1997<br>locations=%{location}<extra></extra>",
           "locationmode": "USA-states",
           "locations": [
            "AR",
            "AR",
            "DE",
            "DE",
            "FL",
            "FL",
            "GA",
            "GA",
            "IA",
            "IA",
            "KY",
            "KY",
            "MI",
            "MI",
            "MN",
            "MN",
            "MT",
            "MT",
            "NE",
            "NE",
            "NM",
            "NM",
            "NY",
            "NY",
            "OH",
            "OH",
            "OR",
            "OR",
            "RI",
            "RI",
            "SC",
            "SC",
            "VA",
            "VA",
            "VT",
            "VT",
            "WA",
            "WA"
           ],
           "name": "Tie",
           "showlegend": true,
           "showscale": false,
           "type": "choropleth",
           "z": [
            1,
            1,
            1,
            1,
            1,
            1,
            1,
            1,
            1,
            1,
            1,
            1,
            1,
            1,
            1,
            1,
            1,
            1,
            1,
            1,
            1,
            1,
            1,
            1,
            1,
            1,
            1,
            1,
            1,
            1,
            1,
            1,
            1,
            1,
            1,
            1,
            1,
            1
           ]
          },
          {
           "colorscale": [
            [
             0,
             "blue"
            ],
            [
             1,
             "blue"
            ]
           ],
           "geo": "geo",
           "hovertemplate": "color=Democrat<br>animation_frame=1997<br>locations=%{location}<extra></extra>",
           "locationmode": "USA-states",
           "locations": [
            "CA",
            "CT",
            "HI",
            "IL",
            "LA",
            "MA",
            "MD",
            "ND",
            "NJ",
            "NV",
            "SD",
            "WI",
            "WV"
           ],
           "name": "Democrat",
           "showlegend": true,
           "showscale": false,
           "type": "choropleth",
           "z": [
            1,
            1,
            1,
            1,
            1,
            1,
            1,
            1,
            1,
            1,
            1,
            1,
            1
           ]
          }
         ],
         "name": "1997"
        },
        {
         "data": [
          {
           "colorscale": [
            [
             0,
             "red"
            ],
            [
             1,
             "red"
            ]
           ],
           "geo": "geo",
           "hovertemplate": "color=Republican<br>animation_frame=1998<br>locations=%{location}<extra></extra>",
           "locationmode": "USA-states",
           "locations": [
            "AK",
            "AL",
            "AZ",
            "CO",
            "ID",
            "IN",
            "KS",
            "ME",
            "MO",
            "MS",
            "NC",
            "NH",
            "OK",
            "PA",
            "TN",
            "TX",
            "UT",
            "WY"
           ],
           "name": "Republican",
           "showlegend": true,
           "showscale": false,
           "type": "choropleth",
           "z": [
            1,
            1,
            1,
            1,
            1,
            1,
            1,
            1,
            1,
            1,
            1,
            1,
            1,
            1,
            1,
            1,
            1,
            1
           ]
          },
          {
           "colorscale": [
            [
             0,
             "gray"
            ],
            [
             1,
             "gray"
            ]
           ],
           "geo": "geo",
           "hovertemplate": "color=Tie<br>animation_frame=1998<br>locations=%{location}<extra></extra>",
           "locationmode": "USA-states",
           "locations": [
            "AR",
            "AR",
            "DE",
            "DE",
            "FL",
            "FL",
            "GA",
            "GA",
            "IA",
            "IA",
            "KY",
            "KY",
            "MI",
            "MI",
            "MN",
            "MN",
            "MT",
            "MT",
            "NE",
            "NE",
            "NM",
            "NM",
            "NY",
            "NY",
            "OH",
            "OH",
            "OR",
            "OR",
            "RI",
            "RI",
            "SC",
            "SC",
            "VA",
            "VA",
            "VT",
            "VT",
            "WA",
            "WA"
           ],
           "name": "Tie",
           "showlegend": true,
           "showscale": false,
           "type": "choropleth",
           "z": [
            1,
            1,
            1,
            1,
            1,
            1,
            1,
            1,
            1,
            1,
            1,
            1,
            1,
            1,
            1,
            1,
            1,
            1,
            1,
            1,
            1,
            1,
            1,
            1,
            1,
            1,
            1,
            1,
            1,
            1,
            1,
            1,
            1,
            1,
            1,
            1,
            1,
            1
           ]
          },
          {
           "colorscale": [
            [
             0,
             "blue"
            ],
            [
             1,
             "blue"
            ]
           ],
           "geo": "geo",
           "hovertemplate": "color=Democrat<br>animation_frame=1998<br>locations=%{location}<extra></extra>",
           "locationmode": "USA-states",
           "locations": [
            "CA",
            "CT",
            "HI",
            "IL",
            "LA",
            "MA",
            "MD",
            "ND",
            "NJ",
            "NV",
            "SD",
            "WI",
            "WV"
           ],
           "name": "Democrat",
           "showlegend": true,
           "showscale": false,
           "type": "choropleth",
           "z": [
            1,
            1,
            1,
            1,
            1,
            1,
            1,
            1,
            1,
            1,
            1,
            1,
            1
           ]
          }
         ],
         "name": "1998"
        },
        {
         "data": [
          {
           "colorscale": [
            [
             0,
             "red"
            ],
            [
             1,
             "red"
            ]
           ],
           "geo": "geo",
           "hovertemplate": "color=Republican<br>animation_frame=1999<br>locations=%{location}<extra></extra>",
           "locationmode": "USA-states",
           "locations": [
            "AK",
            "AL",
            "AZ",
            "CO",
            "ID",
            "KS",
            "KY",
            "ME",
            "MO",
            "MS",
            "NH",
            "OH",
            "OK",
            "PA",
            "RI",
            "TN",
            "TX",
            "UT",
            "WY"
           ],
           "name": "Republican",
           "showlegend": true,
           "showscale": false,
           "type": "choropleth",
           "z": [
            1,
            1,
            1,
            1,
            1,
            1,
            1,
            1,
            1,
            1,
            1,
            1,
            1,
            1,
            1,
            1,
            1,
            1,
            1
           ]
          },
          {
           "colorscale": [
            [
             0,
             "gray"
            ],
            [
             1,
             "gray"
            ]
           ],
           "geo": "geo",
           "hovertemplate": "color=Tie<br>animation_frame=1999<br>locations=%{location}<extra></extra>",
           "locationmode": "USA-states",
           "locations": [
            "AR",
            "AR",
            "DE",
            "DE",
            "FL",
            "FL",
            "GA",
            "GA",
            "IA",
            "IA",
            "IL",
            "IL",
            "IN",
            "IN",
            "MI",
            "MI",
            "MN",
            "MN",
            "MT",
            "MT",
            "NC",
            "NC",
            "NE",
            "NE",
            "NM",
            "NM",
            "NULL",
            "OR",
            "OR",
            "SC",
            "SC",
            "VA",
            "VA",
            "VT",
            "VT",
            "WA",
            "WA"
           ],
           "name": "Tie",
           "showlegend": true,
           "showscale": false,
           "type": "choropleth",
           "z": [
            1,
            1,
            1,
            1,
            1,
            1,
            1,
            1,
            1,
            1,
            1,
            1,
            1,
            1,
            1,
            1,
            1,
            1,
            1,
            1,
            1,
            1,
            1,
            1,
            1,
            1,
            1,
            1,
            1,
            1,
            1,
            1,
            1,
            1,
            1,
            1,
            1
           ]
          },
          {
           "colorscale": [
            [
             0,
             "blue"
            ],
            [
             1,
             "blue"
            ]
           ],
           "geo": "geo",
           "hovertemplate": "color=Democrat<br>animation_frame=1999<br>locations=%{location}<extra></extra>",
           "locationmode": "USA-states",
           "locations": [
            "CA",
            "CT",
            "HI",
            "LA",
            "MA",
            "MD",
            "ND",
            "NJ",
            "NV",
            "NY",
            "SD",
            "WI",
            "WV"
           ],
           "name": "Democrat",
           "showlegend": true,
           "showscale": false,
           "type": "choropleth",
           "z": [
            1,
            1,
            1,
            1,
            1,
            1,
            1,
            1,
            1,
            1,
            1,
            1,
            1
           ]
          }
         ],
         "name": "1999"
        },
        {
         "data": [
          {
           "colorscale": [
            [
             0,
             "red"
            ],
            [
             1,
             "red"
            ]
           ],
           "geo": "geo",
           "hovertemplate": "color=Republican<br>animation_frame=2000<br>locations=%{location}<extra></extra>",
           "locationmode": "USA-states",
           "locations": [
            "AK",
            "AL",
            "AZ",
            "CO",
            "ID",
            "KS",
            "KY",
            "ME",
            "MO",
            "MS",
            "NH",
            "OH",
            "OK",
            "PA",
            "TN",
            "TX",
            "UT",
            "WY"
           ],
           "name": "Republican",
           "showlegend": true,
           "showscale": false,
           "type": "choropleth",
           "z": [
            1,
            1,
            1,
            1,
            1,
            1,
            1,
            1,
            1,
            1,
            1,
            1,
            1,
            1,
            1,
            1,
            1,
            1
           ]
          },
          {
           "colorscale": [
            [
             0,
             "gray"
            ],
            [
             1,
             "gray"
            ]
           ],
           "geo": "geo",
           "hovertemplate": "color=Tie<br>animation_frame=2000<br>locations=%{location}<extra></extra>",
           "locationmode": "USA-states",
           "locations": [
            "AR",
            "AR",
            "DE",
            "DE",
            "FL",
            "FL",
            "IA",
            "IA",
            "IL",
            "IL",
            "IN",
            "IN",
            "MI",
            "MI",
            "MN",
            "MN",
            "MT",
            "MT",
            "NC",
            "NC",
            "NE",
            "NE",
            "NM",
            "NM",
            "OR",
            "OR",
            "RI",
            "RI",
            "SC",
            "SC",
            "VA",
            "VA",
            "VT",
            "VT",
            "WA",
            "WA"
           ],
           "name": "Tie",
           "showlegend": true,
           "showscale": false,
           "type": "choropleth",
           "z": [
            1,
            1,
            1,
            1,
            1,
            1,
            1,
            1,
            1,
            1,
            1,
            1,
            1,
            1,
            1,
            1,
            1,
            1,
            1,
            1,
            1,
            1,
            1,
            1,
            1,
            1,
            1,
            1,
            1,
            1,
            1,
            1,
            1,
            1,
            1,
            1
           ]
          },
          {
           "colorscale": [
            [
             0,
             "blue"
            ],
            [
             1,
             "blue"
            ]
           ],
           "geo": "geo",
           "hovertemplate": "color=Democrat<br>animation_frame=2000<br>locations=%{location}<extra></extra>",
           "locationmode": "USA-states",
           "locations": [
            "CA",
            "CT",
            "GA",
            "HI",
            "LA",
            "MA",
            "MD",
            "ND",
            "NJ",
            "NV",
            "NY",
            "SD",
            "WI",
            "WV"
           ],
           "name": "Democrat",
           "showlegend": true,
           "showscale": false,
           "type": "choropleth",
           "z": [
            1,
            1,
            1,
            1,
            1,
            1,
            1,
            1,
            1,
            1,
            1,
            1,
            1,
            1
           ]
          }
         ],
         "name": "2000"
        },
        {
         "data": [
          {
           "colorscale": [
            [
             0,
             "red"
            ],
            [
             1,
             "red"
            ]
           ],
           "geo": "geo",
           "hovertemplate": "color=Republican<br>animation_frame=2001<br>locations=%{location}<extra></extra>",
           "locationmode": "USA-states",
           "locations": [
            "AK",
            "AL",
            "AZ",
            "CO",
            "ID",
            "KS",
            "KY",
            "ME",
            "MS",
            "NH",
            "OH",
            "OK",
            "PA",
            "TN",
            "TX",
            "UT",
            "VA",
            "WY"
           ],
           "name": "Republican",
           "showlegend": true,
           "showscale": false,
           "type": "choropleth",
           "z": [
            1,
            1,
            1,
            1,
            1,
            1,
            1,
            1,
            1,
            1,
            1,
            1,
            1,
            1,
            1,
            1,
            1,
            1
           ]
          },
          {
           "colorscale": [
            [
             0,
             "gray"
            ],
            [
             1,
             "gray"
            ]
           ],
           "geo": "geo",
           "hovertemplate": "color=Tie<br>animation_frame=2001<br>locations=%{location}<extra></extra>",
           "locationmode": "USA-states",
           "locations": [
            "AR",
            "AR",
            "IA",
            "IA",
            "IL",
            "IL",
            "IN",
            "IN",
            "MO",
            "MO",
            "MT",
            "MT",
            "NC",
            "NC",
            "NE",
            "NE",
            "NM",
            "NM",
            "NULL",
            "NV",
            "NV",
            "OR",
            "OR",
            "RI",
            "RI",
            "SC",
            "SC",
            "VT",
            "VT"
           ],
           "name": "Tie",
           "showlegend": true,
           "showscale": false,
           "type": "choropleth",
           "z": [
            1,
            1,
            1,
            1,
            1,
            1,
            1,
            1,
            1,
            1,
            1,
            1,
            1,
            1,
            1,
            1,
            1,
            1,
            1,
            1,
            1,
            1,
            1,
            1,
            1,
            1,
            1,
            1,
            1
           ]
          },
          {
           "colorscale": [
            [
             0,
             "blue"
            ],
            [
             1,
             "blue"
            ]
           ],
           "geo": "geo",
           "hovertemplate": "color=Democrat<br>animation_frame=2001<br>locations=%{location}<extra></extra>",
           "locationmode": "USA-states",
           "locations": [
            "CA",
            "CT",
            "DE",
            "FL",
            "GA",
            "HI",
            "LA",
            "MA",
            "MD",
            "MI",
            "MN",
            "ND",
            "NJ",
            "NY",
            "SD",
            "WA",
            "WI",
            "WV"
           ],
           "name": "Democrat",
           "showlegend": true,
           "showscale": false,
           "type": "choropleth",
           "z": [
            1,
            1,
            1,
            1,
            1,
            1,
            1,
            1,
            1,
            1,
            1,
            1,
            1,
            1,
            1,
            1,
            1,
            1
           ]
          }
         ],
         "name": "2001"
        },
        {
         "data": [
          {
           "colorscale": [
            [
             0,
             "red"
            ],
            [
             1,
             "red"
            ]
           ],
           "geo": "geo",
           "hovertemplate": "color=Republican<br>animation_frame=2002<br>locations=%{location}<extra></extra>",
           "locationmode": "USA-states",
           "locations": [
            "AK",
            "AL",
            "AZ",
            "CO",
            "ID",
            "KS",
            "KY",
            "ME",
            "MS",
            "NH",
            "OH",
            "OK",
            "PA",
            "TN",
            "TX",
            "UT",
            "VA",
            "WY"
           ],
           "name": "Republican",
           "showlegend": true,
           "showscale": false,
           "type": "choropleth",
           "z": [
            1,
            1,
            1,
            1,
            1,
            1,
            1,
            1,
            1,
            1,
            1,
            1,
            1,
            1,
            1,
            1,
            1,
            1
           ]
          },
          {
           "colorscale": [
            [
             0,
             "gray"
            ],
            [
             1,
             "gray"
            ]
           ],
           "geo": "geo",
           "hovertemplate": "color=Tie<br>animation_frame=2002<br>locations=%{location}<extra></extra>",
           "locationmode": "USA-states",
           "locations": [
            "AR",
            "AR",
            "IA",
            "IA",
            "IL",
            "IL",
            "IN",
            "IN",
            "MO",
            "MO",
            "MT",
            "MT",
            "NC",
            "NC",
            "NE",
            "NE",
            "NM",
            "NM",
            "NULL",
            "NV",
            "NV",
            "OR",
            "OR",
            "RI",
            "RI",
            "SC",
            "SC",
            "VT",
            "VT"
           ],
           "name": "Tie",
           "showlegend": true,
           "showscale": false,
           "type": "choropleth",
           "z": [
            1,
            1,
            1,
            1,
            1,
            1,
            1,
            1,
            1,
            1,
            1,
            1,
            1,
            1,
            1,
            1,
            1,
            1,
            1,
            1,
            1,
            1,
            1,
            1,
            1,
            1,
            1,
            1,
            1
           ]
          },
          {
           "colorscale": [
            [
             0,
             "blue"
            ],
            [
             1,
             "blue"
            ]
           ],
           "geo": "geo",
           "hovertemplate": "color=Democrat<br>animation_frame=2002<br>locations=%{location}<extra></extra>",
           "locationmode": "USA-states",
           "locations": [
            "CA",
            "CT",
            "DE",
            "FL",
            "GA",
            "HI",
            "LA",
            "MA",
            "MD",
            "MI",
            "MN",
            "ND",
            "NJ",
            "NY",
            "SD",
            "WA",
            "WI",
            "WV"
           ],
           "name": "Democrat",
           "showlegend": true,
           "showscale": false,
           "type": "choropleth",
           "z": [
            1,
            1,
            1,
            1,
            1,
            1,
            1,
            1,
            1,
            1,
            1,
            1,
            1,
            1,
            1,
            1,
            1,
            1
           ]
          }
         ],
         "name": "2002"
        },
        {
         "data": [
          {
           "colorscale": [
            [
             0,
             "red"
            ],
            [
             1,
             "red"
            ]
           ],
           "geo": "geo",
           "hovertemplate": "color=Republican<br>animation_frame=2003<br>locations=%{location}<extra></extra>",
           "locationmode": "USA-states",
           "locations": [
            "AK",
            "AL",
            "AZ",
            "CO",
            "ID",
            "KS",
            "KY",
            "ME",
            "MO",
            "MS",
            "NH",
            "OH",
            "OK",
            "PA",
            "TN",
            "TX",
            "UT",
            "VA",
            "WY"
           ],
           "name": "Republican",
           "showlegend": true,
           "showscale": false,
           "type": "choropleth",
           "z": [
            1,
            1,
            1,
            1,
            1,
            1,
            1,
            1,
            1,
            1,
            1,
            1,
            1,
            1,
            1,
            1,
            1,
            1,
            1
           ]
          },
          {
           "colorscale": [
            [
             0,
             "gray"
            ],
            [
             1,
             "gray"
            ]
           ],
           "geo": "geo",
           "hovertemplate": "color=Tie<br>animation_frame=2003<br>locations=%{location}<extra></extra>",
           "locationmode": "USA-states",
           "locations": [
            "GA",
            "GA",
            "IA",
            "IA",
            "IL",
            "IL",
            "IN",
            "IN",
            "MN",
            "MN",
            "MT",
            "MT",
            "NC",
            "NC",
            "NE",
            "NE",
            "NM",
            "NM",
            "NULL",
            "NV",
            "NV",
            "OR",
            "OR",
            "RI",
            "RI",
            "SC",
            "SC",
            "VT",
            "VT"
           ],
           "name": "Tie",
           "showlegend": true,
           "showscale": false,
           "type": "choropleth",
           "z": [
            1,
            1,
            1,
            1,
            1,
            1,
            1,
            1,
            1,
            1,
            1,
            1,
            1,
            1,
            1,
            1,
            1,
            1,
            1,
            1,
            1,
            1,
            1,
            1,
            1,
            1,
            1,
            1,
            1
           ]
          },
          {
           "colorscale": [
            [
             0,
             "blue"
            ],
            [
             1,
             "blue"
            ]
           ],
           "geo": "geo",
           "hovertemplate": "color=Democrat<br>animation_frame=2003<br>locations=%{location}<extra></extra>",
           "locationmode": "USA-states",
           "locations": [
            "AR",
            "CA",
            "CT",
            "DE",
            "FL",
            "HI",
            "LA",
            "MA",
            "MD",
            "MI",
            "ND",
            "NJ",
            "NY",
            "SD",
            "WA",
            "WI",
            "WV"
           ],
           "name": "Democrat",
           "showlegend": true,
           "showscale": false,
           "type": "choropleth",
           "z": [
            1,
            1,
            1,
            1,
            1,
            1,
            1,
            1,
            1,
            1,
            1,
            1,
            1,
            1,
            1,
            1,
            1
           ]
          }
         ],
         "name": "2003"
        },
        {
         "data": [
          {
           "colorscale": [
            [
             0,
             "red"
            ],
            [
             1,
             "red"
            ]
           ],
           "geo": "geo",
           "hovertemplate": "color=Republican<br>animation_frame=2004<br>locations=%{location}<extra></extra>",
           "locationmode": "USA-states",
           "locations": [
            "AK",
            "AL",
            "AZ",
            "CO",
            "ID",
            "KS",
            "KY",
            "ME",
            "MO",
            "MS",
            "NH",
            "OH",
            "OK",
            "PA",
            "TN",
            "TX",
            "UT",
            "VA",
            "WY"
           ],
           "name": "Republican",
           "showlegend": true,
           "showscale": false,
           "type": "choropleth",
           "z": [
            1,
            1,
            1,
            1,
            1,
            1,
            1,
            1,
            1,
            1,
            1,
            1,
            1,
            1,
            1,
            1,
            1,
            1,
            1
           ]
          },
          {
           "colorscale": [
            [
             0,
             "gray"
            ],
            [
             1,
             "gray"
            ]
           ],
           "geo": "geo",
           "hovertemplate": "color=Tie<br>animation_frame=2004<br>locations=%{location}<extra></extra>",
           "locationmode": "USA-states",
           "locations": [
            "GA",
            "GA",
            "IA",
            "IA",
            "IL",
            "IL",
            "IN",
            "IN",
            "MN",
            "MN",
            "MT",
            "MT",
            "NC",
            "NC",
            "NE",
            "NE",
            "NM",
            "NM",
            "NV",
            "NV",
            "OR",
            "OR",
            "RI",
            "RI",
            "SC",
            "SC",
            "VT",
            "VT"
           ],
           "name": "Tie",
           "showlegend": true,
           "showscale": false,
           "type": "choropleth",
           "z": [
            1,
            1,
            1,
            1,
            1,
            1,
            1,
            1,
            1,
            1,
            1,
            1,
            1,
            1,
            1,
            1,
            1,
            1,
            1,
            1,
            1,
            1,
            1,
            1,
            1,
            1,
            1,
            1
           ]
          },
          {
           "colorscale": [
            [
             0,
             "blue"
            ],
            [
             1,
             "blue"
            ]
           ],
           "geo": "geo",
           "hovertemplate": "color=Democrat<br>animation_frame=2004<br>locations=%{location}<extra></extra>",
           "locationmode": "USA-states",
           "locations": [
            "AR",
            "CA",
            "CT",
            "DE",
            "FL",
            "HI",
            "LA",
            "MA",
            "MD",
            "MI",
            "ND",
            "NJ",
            "NY",
            "SD",
            "WA",
            "WI",
            "WV"
           ],
           "name": "Democrat",
           "showlegend": true,
           "showscale": false,
           "type": "choropleth",
           "z": [
            1,
            1,
            1,
            1,
            1,
            1,
            1,
            1,
            1,
            1,
            1,
            1,
            1,
            1,
            1,
            1,
            1
           ]
          }
         ],
         "name": "2004"
        },
        {
         "data": [
          {
           "colorscale": [
            [
             0,
             "red"
            ],
            [
             1,
             "red"
            ]
           ],
           "geo": "geo",
           "hovertemplate": "color=Republican<br>animation_frame=2005<br>locations=%{location}<extra></extra>",
           "locationmode": "USA-states",
           "locations": [
            "AK",
            "AL",
            "AZ",
            "GA",
            "ID",
            "KS",
            "KY",
            "ME",
            "MO",
            "MS",
            "NC",
            "NH",
            "OH",
            "OK",
            "PA",
            "SC",
            "TN",
            "TX",
            "UT",
            "VA",
            "WY"
           ],
           "name": "Republican",
           "showlegend": true,
           "showscale": false,
           "type": "choropleth",
           "z": [
            1,
            1,
            1,
            1,
            1,
            1,
            1,
            1,
            1,
            1,
            1,
            1,
            1,
            1,
            1,
            1,
            1,
            1,
            1,
            1,
            1
           ]
          },
          {
           "colorscale": [
            [
             0,
             "gray"
            ],
            [
             1,
             "gray"
            ]
           ],
           "geo": "geo",
           "hovertemplate": "color=Tie<br>animation_frame=2005<br>locations=%{location}<extra></extra>",
           "locationmode": "USA-states",
           "locations": [
            "CO",
            "CO",
            "FL",
            "FL",
            "IA",
            "IA",
            "IN",
            "IN",
            "LA",
            "LA",
            "MN",
            "MN",
            "MT",
            "MT",
            "NE",
            "NE",
            "NM",
            "NM",
            "NULL",
            "NV",
            "NV",
            "OR",
            "OR",
            "RI",
            "RI",
            "SD",
            "SD",
            "VT",
            "VT"
           ],
           "name": "Tie",
           "showlegend": true,
           "showscale": false,
           "type": "choropleth",
           "z": [
            1,
            1,
            1,
            1,
            1,
            1,
            1,
            1,
            1,
            1,
            1,
            1,
            1,
            1,
            1,
            1,
            1,
            1,
            1,
            1,
            1,
            1,
            1,
            1,
            1,
            1,
            1,
            1,
            1
           ]
          },
          {
           "colorscale": [
            [
             0,
             "blue"
            ],
            [
             1,
             "blue"
            ]
           ],
           "geo": "geo",
           "hovertemplate": "color=Democrat<br>animation_frame=2005<br>locations=%{location}<extra></extra>",
           "locationmode": "USA-states",
           "locations": [
            "AR",
            "CA",
            "CT",
            "DE",
            "HI",
            "IL",
            "MA",
            "MD",
            "MI",
            "ND",
            "NJ",
            "NY",
            "WA",
            "WI",
            "WV"
           ],
           "name": "Democrat",
           "showlegend": true,
           "showscale": false,
           "type": "choropleth",
           "z": [
            1,
            1,
            1,
            1,
            1,
            1,
            1,
            1,
            1,
            1,
            1,
            1,
            1,
            1,
            1
           ]
          }
         ],
         "name": "2005"
        },
        {
         "data": [
          {
           "colorscale": [
            [
             0,
             "red"
            ],
            [
             1,
             "red"
            ]
           ],
           "geo": "geo",
           "hovertemplate": "color=Republican<br>animation_frame=2006<br>locations=%{location}<extra></extra>",
           "locationmode": "USA-states",
           "locations": [
            "AK",
            "AL",
            "AZ",
            "GA",
            "ID",
            "KS",
            "KY",
            "ME",
            "MO",
            "MS",
            "NC",
            "NH",
            "OH",
            "OK",
            "PA",
            "SC",
            "TN",
            "TX",
            "UT",
            "VA",
            "WY"
           ],
           "name": "Republican",
           "showlegend": true,
           "showscale": false,
           "type": "choropleth",
           "z": [
            1,
            1,
            1,
            1,
            1,
            1,
            1,
            1,
            1,
            1,
            1,
            1,
            1,
            1,
            1,
            1,
            1,
            1,
            1,
            1,
            1
           ]
          },
          {
           "colorscale": [
            [
             0,
             "gray"
            ],
            [
             1,
             "gray"
            ]
           ],
           "geo": "geo",
           "hovertemplate": "color=Tie<br>animation_frame=2006<br>locations=%{location}<extra></extra>",
           "locationmode": "USA-states",
           "locations": [
            "CO",
            "CO",
            "FL",
            "FL",
            "IA",
            "IA",
            "IN",
            "IN",
            "LA",
            "LA",
            "MN",
            "MN",
            "MT",
            "MT",
            "NE",
            "NE",
            "NM",
            "NM",
            "NV",
            "NV",
            "OR",
            "OR",
            "RI",
            "RI",
            "SD",
            "SD",
            "VT",
            "VT"
           ],
           "name": "Tie",
           "showlegend": true,
           "showscale": false,
           "type": "choropleth",
           "z": [
            1,
            1,
            1,
            1,
            1,
            1,
            1,
            1,
            1,
            1,
            1,
            1,
            1,
            1,
            1,
            1,
            1,
            1,
            1,
            1,
            1,
            1,
            1,
            1,
            1,
            1,
            1,
            1
           ]
          },
          {
           "colorscale": [
            [
             0,
             "blue"
            ],
            [
             1,
             "blue"
            ]
           ],
           "geo": "geo",
           "hovertemplate": "color=Democrat<br>animation_frame=2006<br>locations=%{location}<extra></extra>",
           "locationmode": "USA-states",
           "locations": [
            "AR",
            "CA",
            "CT",
            "DE",
            "HI",
            "IL",
            "MA",
            "MD",
            "MI",
            "ND",
            "NJ",
            "NY",
            "WA",
            "WI",
            "WV"
           ],
           "name": "Democrat",
           "showlegend": true,
           "showscale": false,
           "type": "choropleth",
           "z": [
            1,
            1,
            1,
            1,
            1,
            1,
            1,
            1,
            1,
            1,
            1,
            1,
            1,
            1,
            1
           ]
          }
         ],
         "name": "2006"
        },
        {
         "data": [
          {
           "colorscale": [
            [
             0,
             "red"
            ],
            [
             1,
             "red"
            ]
           ],
           "geo": "geo",
           "hovertemplate": "color=Republican<br>animation_frame=2007<br>locations=%{location}<extra></extra>",
           "locationmode": "USA-states",
           "locations": [
            "AK",
            "AL",
            "AZ",
            "GA",
            "ID",
            "KS",
            "KY",
            "ME",
            "MS",
            "NC",
            "NH",
            "OK",
            "SC",
            "TN",
            "TX",
            "UT",
            "WY"
           ],
           "name": "Republican",
           "showlegend": true,
           "showscale": false,
           "type": "choropleth",
           "z": [
            1,
            1,
            1,
            1,
            1,
            1,
            1,
            1,
            1,
            1,
            1,
            1,
            1,
            1,
            1,
            1,
            1
           ]
          },
          {
           "colorscale": [
            [
             0,
             "gray"
            ],
            [
             1,
             "gray"
            ]
           ],
           "geo": "geo",
           "hovertemplate": "color=Tie<br>animation_frame=2007<br>locations=%{location}<extra></extra>",
           "locationmode": "USA-states",
           "locations": [
            "CO",
            "CO",
            "FL",
            "FL",
            "IA",
            "IA",
            "IN",
            "IN",
            "LA",
            "LA",
            "MN",
            "MN",
            "MO",
            "MO",
            "NE",
            "NE",
            "NM",
            "NM",
            "NV",
            "NV",
            "OH",
            "OH",
            "OR",
            "OR",
            "PA",
            "PA",
            "SD",
            "SD",
            "VA",
            "VA",
            "VT",
            "VT"
           ],
           "name": "Tie",
           "showlegend": true,
           "showscale": false,
           "type": "choropleth",
           "z": [
            1,
            1,
            1,
            1,
            1,
            1,
            1,
            1,
            1,
            1,
            1,
            1,
            1,
            1,
            1,
            1,
            1,
            1,
            1,
            1,
            1,
            1,
            1,
            1,
            1,
            1,
            1,
            1,
            1,
            1,
            1,
            1
           ]
          },
          {
           "colorscale": [
            [
             0,
             "blue"
            ],
            [
             1,
             "blue"
            ]
           ],
           "geo": "geo",
           "hovertemplate": "color=Democrat<br>animation_frame=2007<br>locations=%{location}<extra></extra>",
           "locationmode": "USA-states",
           "locations": [
            "AR",
            "CA",
            "CT",
            "DE",
            "HI",
            "IL",
            "MA",
            "MD",
            "MI",
            "MT",
            "ND",
            "NJ",
            "NY",
            "RI",
            "WA",
            "WI",
            "WV"
           ],
           "name": "Democrat",
           "showlegend": true,
           "showscale": false,
           "type": "choropleth",
           "z": [
            1,
            1,
            1,
            1,
            1,
            1,
            1,
            1,
            1,
            1,
            1,
            1,
            1,
            1,
            1,
            1,
            1
           ]
          }
         ],
         "name": "2007"
        },
        {
         "data": [
          {
           "colorscale": [
            [
             0,
             "red"
            ],
            [
             1,
             "red"
            ]
           ],
           "geo": "geo",
           "hovertemplate": "color=Republican<br>animation_frame=2008<br>locations=%{location}<extra></extra>",
           "locationmode": "USA-states",
           "locations": [
            "AK",
            "AL",
            "AZ",
            "GA",
            "ID",
            "KS",
            "KY",
            "ME",
            "MS",
            "NC",
            "NH",
            "OK",
            "SC",
            "TN",
            "TX",
            "UT",
            "WY"
           ],
           "name": "Republican",
           "showlegend": true,
           "showscale": false,
           "type": "choropleth",
           "z": [
            1,
            1,
            1,
            1,
            1,
            1,
            1,
            1,
            1,
            1,
            1,
            1,
            1,
            1,
            1,
            1,
            1
           ]
          },
          {
           "colorscale": [
            [
             0,
             "gray"
            ],
            [
             1,
             "gray"
            ]
           ],
           "geo": "geo",
           "hovertemplate": "color=Tie<br>animation_frame=2008<br>locations=%{location}<extra></extra>",
           "locationmode": "USA-states",
           "locations": [
            "CO",
            "CO",
            "FL",
            "FL",
            "IA",
            "IA",
            "IN",
            "IN",
            "LA",
            "LA",
            "MN",
            "MN",
            "MO",
            "MO",
            "NE",
            "NE",
            "NM",
            "NM",
            "NULL",
            "NV",
            "NV",
            "OH",
            "OH",
            "OR",
            "OR",
            "PA",
            "PA",
            "SD",
            "SD",
            "VA",
            "VA",
            "VT",
            "VT"
           ],
           "name": "Tie",
           "showlegend": true,
           "showscale": false,
           "type": "choropleth",
           "z": [
            1,
            1,
            1,
            1,
            1,
            1,
            1,
            1,
            1,
            1,
            1,
            1,
            1,
            1,
            1,
            1,
            1,
            1,
            1,
            1,
            1,
            1,
            1,
            1,
            1,
            1,
            1,
            1,
            1,
            1,
            1,
            1,
            1
           ]
          },
          {
           "colorscale": [
            [
             0,
             "blue"
            ],
            [
             1,
             "blue"
            ]
           ],
           "geo": "geo",
           "hovertemplate": "color=Democrat<br>animation_frame=2008<br>locations=%{location}<extra></extra>",
           "locationmode": "USA-states",
           "locations": [
            "AR",
            "CA",
            "CT",
            "DE",
            "HI",
            "IL",
            "MA",
            "MD",
            "MI",
            "MT",
            "ND",
            "NJ",
            "NY",
            "RI",
            "WA",
            "WI",
            "WV"
           ],
           "name": "Democrat",
           "showlegend": true,
           "showscale": false,
           "type": "choropleth",
           "z": [
            1,
            1,
            1,
            1,
            1,
            1,
            1,
            1,
            1,
            1,
            1,
            1,
            1,
            1,
            1,
            1,
            1
           ]
          }
         ],
         "name": "2008"
        },
        {
         "data": [
          {
           "colorscale": [
            [
             0,
             "red"
            ],
            [
             1,
             "red"
            ]
           ],
           "geo": "geo",
           "hovertemplate": "color=Republican<br>animation_frame=2009<br>locations=%{location}<extra></extra>",
           "locationmode": "USA-states",
           "locations": [
            "AL",
            "AZ",
            "FL",
            "GA",
            "ID",
            "KS",
            "KY",
            "ME",
            "MS",
            "OK",
            "SC",
            "TN",
            "TX",
            "UT",
            "WY"
           ],
           "name": "Republican",
           "showlegend": true,
           "showscale": false,
           "type": "choropleth",
           "z": [
            1,
            1,
            1,
            1,
            1,
            1,
            1,
            1,
            1,
            1,
            1,
            1,
            1,
            1,
            1
           ]
          },
          {
           "colorscale": [
            [
             0,
             "gray"
            ],
            [
             1,
             "gray"
            ]
           ],
           "geo": "geo",
           "hovertemplate": "color=Tie<br>animation_frame=2009<br>locations=%{location}<extra></extra>",
           "locationmode": "USA-states",
           "locations": [
            "AK",
            "AK",
            "IA",
            "IA",
            "IN",
            "IN",
            "LA",
            "LA",
            "MO",
            "MO",
            "NC",
            "NC",
            "NE",
            "NE",
            "NH",
            "NH",
            "NV",
            "NV",
            "OH",
            "OH",
            "PA",
            "PA",
            "SD",
            "SD",
            "VT",
            "VT"
           ],
           "name": "Tie",
           "showlegend": true,
           "showscale": false,
           "type": "choropleth",
           "z": [
            1,
            1,
            1,
            1,
            1,
            1,
            1,
            1,
            1,
            1,
            1,
            1,
            1,
            1,
            1,
            1,
            1,
            1,
            1,
            1,
            1,
            1,
            1,
            1,
            1,
            1
           ]
          },
          {
           "colorscale": [
            [
             0,
             "blue"
            ],
            [
             1,
             "blue"
            ]
           ],
           "geo": "geo",
           "hovertemplate": "color=Democrat<br>animation_frame=2009<br>locations=%{location}<extra></extra>",
           "locationmode": "USA-states",
           "locations": [
            "AR",
            "CA",
            "CO",
            "CT",
            "DE",
            "HI",
            "IL",
            "MA",
            "MD",
            "MI",
            "MN",
            "MT",
            "ND",
            "NJ",
            "NM",
            "NY",
            "OR",
            "RI",
            "VA",
            "WA",
            "WI",
            "WV"
           ],
           "name": "Democrat",
           "showlegend": true,
           "showscale": false,
           "type": "choropleth",
           "z": [
            1,
            1,
            1,
            1,
            1,
            1,
            1,
            1,
            1,
            1,
            1,
            1,
            1,
            1,
            1,
            1,
            1,
            1,
            1,
            1,
            1,
            1
           ]
          }
         ],
         "name": "2009"
        },
        {
         "data": [
          {
           "colorscale": [
            [
             0,
             "red"
            ],
            [
             1,
             "red"
            ]
           ],
           "geo": "geo",
           "hovertemplate": "color=Republican<br>animation_frame=2010<br>locations=%{location}<extra></extra>",
           "locationmode": "USA-states",
           "locations": [
            "AL",
            "AZ",
            "GA",
            "ID",
            "KS",
            "KY",
            "ME",
            "MS",
            "OK",
            "SC",
            "TN",
            "TX",
            "UT",
            "WY"
           ],
           "name": "Republican",
           "showlegend": true,
           "showscale": false,
           "type": "choropleth",
           "z": [
            1,
            1,
            1,
            1,
            1,
            1,
            1,
            1,
            1,
            1,
            1,
            1,
            1,
            1
           ]
          },
          {
           "colorscale": [
            [
             0,
             "gray"
            ],
            [
             1,
             "gray"
            ]
           ],
           "geo": "geo",
           "hovertemplate": "color=Tie<br>animation_frame=2010<br>locations=%{location}<extra></extra>",
           "locationmode": "USA-states",
           "locations": [
            "AK",
            "AK",
            "FL",
            "FL",
            "IA",
            "IA",
            "IN",
            "IN",
            "LA",
            "LA",
            "MO",
            "MO",
            "NC",
            "NC",
            "NE",
            "NE",
            "NH",
            "NH",
            "NV",
            "NV",
            "OH",
            "OH",
            "PA",
            "PA",
            "SD",
            "SD",
            "VT",
            "VT"
           ],
           "name": "Tie",
           "showlegend": true,
           "showscale": false,
           "type": "choropleth",
           "z": [
            1,
            1,
            1,
            1,
            1,
            1,
            1,
            1,
            1,
            1,
            1,
            1,
            1,
            1,
            1,
            1,
            1,
            1,
            1,
            1,
            1,
            1,
            1,
            1,
            1,
            1,
            1,
            1
           ]
          },
          {
           "colorscale": [
            [
             0,
             "blue"
            ],
            [
             1,
             "blue"
            ]
           ],
           "geo": "geo",
           "hovertemplate": "color=Democrat<br>animation_frame=2010<br>locations=%{location}<extra></extra>",
           "locationmode": "USA-states",
           "locations": [
            "AR",
            "CA",
            "CO",
            "CT",
            "DE",
            "HI",
            "IL",
            "MA",
            "MD",
            "MI",
            "MN",
            "MT",
            "ND",
            "NJ",
            "NM",
            "NY",
            "OR",
            "RI",
            "VA",
            "WA",
            "WI",
            "WV"
           ],
           "name": "Democrat",
           "showlegend": true,
           "showscale": false,
           "type": "choropleth",
           "z": [
            1,
            1,
            1,
            1,
            1,
            1,
            1,
            1,
            1,
            1,
            1,
            1,
            1,
            1,
            1,
            1,
            1,
            1,
            1,
            1,
            1,
            1
           ]
          }
         ],
         "name": "2010"
        },
        {
         "data": [
          {
           "colorscale": [
            [
             0,
             "red"
            ],
            [
             1,
             "red"
            ]
           ],
           "geo": "geo",
           "hovertemplate": "color=Republican<br>animation_frame=2011<br>locations=%{location}<extra></extra>",
           "locationmode": "USA-states",
           "locations": [
            "AL",
            "AZ",
            "GA",
            "ID",
            "IN",
            "KS",
            "KY",
            "ME",
            "MS",
            "NV",
            "OK",
            "SC",
            "TN",
            "TX",
            "UT",
            "WY"
           ],
           "name": "Republican",
           "showlegend": true,
           "showscale": false,
           "type": "choropleth",
           "z": [
            1,
            1,
            1,
            1,
            1,
            1,
            1,
            1,
            1,
            1,
            1,
            1,
            1,
            1,
            1,
            1
           ]
          },
          {
           "colorscale": [
            [
             0,
             "gray"
            ],
            [
             1,
             "gray"
            ]
           ],
           "geo": "geo",
           "hovertemplate": "color=Tie<br>animation_frame=2011<br>locations=%{location}<extra></extra>",
           "locationmode": "USA-states",
           "locations": [
            "AK",
            "AK",
            "AR",
            "AR",
            "FL",
            "FL",
            "IA",
            "IA",
            "IL",
            "IL",
            "LA",
            "LA",
            "MA",
            "MA",
            "MO",
            "MO",
            "NC",
            "NC",
            "ND",
            "ND",
            "NE",
            "NE",
            "NH",
            "NH",
            "OH",
            "OH",
            "PA",
            "PA",
            "SD",
            "SD",
            "VT",
            "VT",
            "WI",
            "WI"
           ],
           "name": "Tie",
           "showlegend": true,
           "showscale": false,
           "type": "choropleth",
           "z": [
            1,
            1,
            1,
            1,
            1,
            1,
            1,
            1,
            1,
            1,
            1,
            1,
            1,
            1,
            1,
            1,
            1,
            1,
            1,
            1,
            1,
            1,
            1,
            1,
            1,
            1,
            1,
            1,
            1,
            1,
            1,
            1,
            1,
            1
           ]
          },
          {
           "colorscale": [
            [
             0,
             "blue"
            ],
            [
             1,
             "blue"
            ]
           ],
           "geo": "geo",
           "hovertemplate": "color=Democrat<br>animation_frame=2011<br>locations=%{location}<extra></extra>",
           "locationmode": "USA-states",
           "locations": [
            "CA",
            "CO",
            "CT",
            "DE",
            "HI",
            "MD",
            "MI",
            "MN",
            "MT",
            "NJ",
            "NM",
            "NY",
            "OR",
            "RI",
            "VA",
            "WA",
            "WV"
           ],
           "name": "Democrat",
           "showlegend": true,
           "showscale": false,
           "type": "choropleth",
           "z": [
            1,
            1,
            1,
            1,
            1,
            1,
            1,
            1,
            1,
            1,
            1,
            1,
            1,
            1,
            1,
            1,
            1
           ]
          }
         ],
         "name": "2011"
        },
        {
         "data": [
          {
           "colorscale": [
            [
             0,
             "red"
            ],
            [
             1,
             "red"
            ]
           ],
           "geo": "geo",
           "hovertemplate": "color=Republican<br>animation_frame=2012<br>locations=%{location}<extra></extra>",
           "locationmode": "USA-states",
           "locations": [
            "AL",
            "AZ",
            "GA",
            "ID",
            "IN",
            "KS",
            "KY",
            "ME",
            "MS",
            "OK",
            "SC",
            "TN",
            "TX",
            "UT",
            "WY"
           ],
           "name": "Republican",
           "showlegend": true,
           "showscale": false,
           "type": "choropleth",
           "z": [
            1,
            1,
            1,
            1,
            1,
            1,
            1,
            1,
            1,
            1,
            1,
            1,
            1,
            1,
            1
           ]
          },
          {
           "colorscale": [
            [
             0,
             "gray"
            ],
            [
             1,
             "gray"
            ]
           ],
           "geo": "geo",
           "hovertemplate": "color=Tie<br>animation_frame=2012<br>locations=%{location}<extra></extra>",
           "locationmode": "USA-states",
           "locations": [
            "AK",
            "AK",
            "AR",
            "AR",
            "FL",
            "FL",
            "IA",
            "IA",
            "IL",
            "IL",
            "LA",
            "LA",
            "MA",
            "MA",
            "MO",
            "MO",
            "NC",
            "NC",
            "ND",
            "ND",
            "NE",
            "NE",
            "NH",
            "NH",
            "NV",
            "NV",
            "OH",
            "OH",
            "PA",
            "PA",
            "SD",
            "SD",
            "VT",
            "VT",
            "WI",
            "WI"
           ],
           "name": "Tie",
           "showlegend": true,
           "showscale": false,
           "type": "choropleth",
           "z": [
            1,
            1,
            1,
            1,
            1,
            1,
            1,
            1,
            1,
            1,
            1,
            1,
            1,
            1,
            1,
            1,
            1,
            1,
            1,
            1,
            1,
            1,
            1,
            1,
            1,
            1,
            1,
            1,
            1,
            1,
            1,
            1,
            1,
            1,
            1,
            1
           ]
          },
          {
           "colorscale": [
            [
             0,
             "blue"
            ],
            [
             1,
             "blue"
            ]
           ],
           "geo": "geo",
           "hovertemplate": "color=Democrat<br>animation_frame=2012<br>locations=%{location}<extra></extra>",
           "locationmode": "USA-states",
           "locations": [
            "CA",
            "CO",
            "CT",
            "DE",
            "HI",
            "MD",
            "MI",
            "MN",
            "MT",
            "NJ",
            "NM",
            "NY",
            "OR",
            "RI",
            "VA",
            "WA",
            "WV"
           ],
           "name": "Democrat",
           "showlegend": true,
           "showscale": false,
           "type": "choropleth",
           "z": [
            1,
            1,
            1,
            1,
            1,
            1,
            1,
            1,
            1,
            1,
            1,
            1,
            1,
            1,
            1,
            1,
            1
           ]
          }
         ],
         "name": "2012"
        },
        {
         "data": [
          {
           "colorscale": [
            [
             0,
             "red"
            ],
            [
             1,
             "red"
            ]
           ],
           "geo": "geo",
           "hovertemplate": "color=Republican<br>animation_frame=2013<br>locations=%{location}<extra></extra>",
           "locationmode": "USA-states",
           "locations": [
            "AL",
            "AZ",
            "GA",
            "ID",
            "KS",
            "KY",
            "MS",
            "NE",
            "OK",
            "SC",
            "TN",
            "TX",
            "UT",
            "WY"
           ],
           "name": "Republican",
           "showlegend": true,
           "showscale": false,
           "type": "choropleth",
           "z": [
            1,
            1,
            1,
            1,
            1,
            1,
            1,
            1,
            1,
            1,
            1,
            1,
            1,
            1
           ]
          },
          {
           "colorscale": [
            [
             0,
             "gray"
            ],
            [
             1,
             "gray"
            ]
           ],
           "geo": "geo",
           "hovertemplate": "color=Tie<br>animation_frame=2013<br>locations=%{location}<extra></extra>",
           "locationmode": "USA-states",
           "locations": [
            "AK",
            "AK",
            "AR",
            "AR",
            "FL",
            "FL",
            "IA",
            "IA",
            "IL",
            "IL",
            "IN",
            "IN",
            "LA",
            "LA",
            "ME",
            "ME",
            "MO",
            "MO",
            "NC",
            "NC",
            "ND",
            "ND",
            "NH",
            "NH",
            "NV",
            "NV",
            "OH",
            "OH",
            "PA",
            "PA",
            "SD",
            "SD",
            "VT",
            "VT",
            "WI",
            "WI"
           ],
           "name": "Tie",
           "showlegend": true,
           "showscale": false,
           "type": "choropleth",
           "z": [
            1,
            1,
            1,
            1,
            1,
            1,
            1,
            1,
            1,
            1,
            1,
            1,
            1,
            1,
            1,
            1,
            1,
            1,
            1,
            1,
            1,
            1,
            1,
            1,
            1,
            1,
            1,
            1,
            1,
            1,
            1,
            1,
            1,
            1,
            1,
            1
           ]
          },
          {
           "colorscale": [
            [
             0,
             "blue"
            ],
            [
             1,
             "blue"
            ]
           ],
           "geo": "geo",
           "hovertemplate": "color=Democrat<br>animation_frame=2013<br>locations=%{location}<extra></extra>",
           "locationmode": "USA-states",
           "locations": [
            "CA",
            "CO",
            "CT",
            "DE",
            "HI",
            "MA",
            "MD",
            "MI",
            "MN",
            "MT",
            "NJ",
            "NM",
            "NY",
            "OR",
            "RI",
            "VA",
            "WA",
            "WV"
           ],
           "name": "Democrat",
           "showlegend": true,
           "showscale": false,
           "type": "choropleth",
           "z": [
            1,
            1,
            1,
            1,
            1,
            1,
            1,
            1,
            1,
            1,
            1,
            1,
            1,
            1,
            1,
            1,
            1,
            1
           ]
          }
         ],
         "name": "2013"
        },
        {
         "data": [
          {
           "colorscale": [
            [
             0,
             "red"
            ],
            [
             1,
             "red"
            ]
           ],
           "geo": "geo",
           "hovertemplate": "color=Republican<br>animation_frame=2014<br>locations=%{location}<extra></extra>",
           "locationmode": "USA-states",
           "locations": [
            "AL",
            "AZ",
            "GA",
            "ID",
            "KS",
            "KY",
            "MS",
            "NE",
            "OK",
            "SC",
            "TN",
            "TX",
            "UT",
            "WY"
           ],
           "name": "Republican",
           "showlegend": true,
           "showscale": false,
           "type": "choropleth",
           "z": [
            1,
            1,
            1,
            1,
            1,
            1,
            1,
            1,
            1,
            1,
            1,
            1,
            1,
            1
           ]
          },
          {
           "colorscale": [
            [
             0,
             "gray"
            ],
            [
             1,
             "gray"
            ]
           ],
           "geo": "geo",
           "hovertemplate": "color=Tie<br>animation_frame=2014<br>locations=%{location}<extra></extra>",
           "locationmode": "USA-states",
           "locations": [
            "AK",
            "AK",
            "AR",
            "AR",
            "FL",
            "FL",
            "IA",
            "IA",
            "IL",
            "IL",
            "IN",
            "IN",
            "LA",
            "LA",
            "ME",
            "ME",
            "MO",
            "MO",
            "NC",
            "NC",
            "ND",
            "ND",
            "NH",
            "NH",
            "NV",
            "NV",
            "OH",
            "OH",
            "PA",
            "PA",
            "SD",
            "SD",
            "VT",
            "VT",
            "WI",
            "WI"
           ],
           "name": "Tie",
           "showlegend": true,
           "showscale": false,
           "type": "choropleth",
           "z": [
            1,
            1,
            1,
            1,
            1,
            1,
            1,
            1,
            1,
            1,
            1,
            1,
            1,
            1,
            1,
            1,
            1,
            1,
            1,
            1,
            1,
            1,
            1,
            1,
            1,
            1,
            1,
            1,
            1,
            1,
            1,
            1,
            1,
            1,
            1,
            1
           ]
          },
          {
           "colorscale": [
            [
             0,
             "blue"
            ],
            [
             1,
             "blue"
            ]
           ],
           "geo": "geo",
           "hovertemplate": "color=Democrat<br>animation_frame=2014<br>locations=%{location}<extra></extra>",
           "locationmode": "USA-states",
           "locations": [
            "CA",
            "CO",
            "CT",
            "DE",
            "HI",
            "MA",
            "MD",
            "MI",
            "MN",
            "MT",
            "NJ",
            "NM",
            "NY",
            "OR",
            "RI",
            "VA",
            "WA",
            "WV"
           ],
           "name": "Democrat",
           "showlegend": true,
           "showscale": false,
           "type": "choropleth",
           "z": [
            1,
            1,
            1,
            1,
            1,
            1,
            1,
            1,
            1,
            1,
            1,
            1,
            1,
            1,
            1,
            1,
            1,
            1
           ]
          }
         ],
         "name": "2014"
        },
        {
         "data": [
          {
           "colorscale": [
            [
             0,
             "red"
            ],
            [
             1,
             "red"
            ]
           ],
           "geo": "geo",
           "hovertemplate": "color=Republican<br>animation_frame=2015<br>locations=%{location}<extra></extra>",
           "locationmode": "USA-states",
           "locations": [
            "AK",
            "AL",
            "AR",
            "AZ",
            "GA",
            "IA",
            "ID",
            "KS",
            "KY",
            "LA",
            "MS",
            "NC",
            "NE",
            "OK",
            "SC",
            "SD",
            "TN",
            "TX",
            "UT",
            "WY"
           ],
           "name": "Republican",
           "showlegend": true,
           "showscale": false,
           "type": "choropleth",
           "z": [
            1,
            1,
            1,
            1,
            1,
            1,
            1,
            1,
            1,
            1,
            1,
            1,
            1,
            1,
            1,
            1,
            1,
            1,
            1,
            1
           ]
          },
          {
           "colorscale": [
            [
             0,
             "gray"
            ],
            [
             1,
             "gray"
            ]
           ],
           "geo": "geo",
           "hovertemplate": "color=Tie<br>animation_frame=2015<br>locations=%{location}<extra></extra>",
           "locationmode": "USA-states",
           "locations": [
            "CO",
            "CO",
            "FL",
            "FL",
            "IL",
            "IL",
            "IN",
            "IN",
            "ME",
            "ME",
            "MO",
            "MO",
            "MT",
            "MT",
            "ND",
            "ND",
            "NH",
            "NH",
            "NV",
            "NV",
            "OH",
            "OH",
            "PA",
            "PA",
            "VT",
            "VT",
            "WI",
            "WI",
            "WV",
            "WV"
           ],
           "name": "Tie",
           "showlegend": true,
           "showscale": false,
           "type": "choropleth",
           "z": [
            1,
            1,
            1,
            1,
            1,
            1,
            1,
            1,
            1,
            1,
            1,
            1,
            1,
            1,
            1,
            1,
            1,
            1,
            1,
            1,
            1,
            1,
            1,
            1,
            1,
            1,
            1,
            1,
            1,
            1
           ]
          },
          {
           "colorscale": [
            [
             0,
             "blue"
            ],
            [
             1,
             "blue"
            ]
           ],
           "geo": "geo",
           "hovertemplate": "color=Democrat<br>animation_frame=2015<br>locations=%{location}<extra></extra>",
           "locationmode": "USA-states",
           "locations": [
            "CA",
            "CT",
            "DE",
            "HI",
            "MA",
            "MD",
            "MI",
            "MN",
            "NJ",
            "NM",
            "NY",
            "OR",
            "RI",
            "VA",
            "WA"
           ],
           "name": "Democrat",
           "showlegend": true,
           "showscale": false,
           "type": "choropleth",
           "z": [
            1,
            1,
            1,
            1,
            1,
            1,
            1,
            1,
            1,
            1,
            1,
            1,
            1,
            1,
            1
           ]
          }
         ],
         "name": "2015"
        },
        {
         "data": [
          {
           "colorscale": [
            [
             0,
             "red"
            ],
            [
             1,
             "red"
            ]
           ],
           "geo": "geo",
           "hovertemplate": "color=Republican<br>animation_frame=2016<br>locations=%{location}<extra></extra>",
           "locationmode": "USA-states",
           "locations": [
            "AK",
            "AL",
            "AR",
            "AZ",
            "GA",
            "IA",
            "ID",
            "KS",
            "KY",
            "LA",
            "MS",
            "NC",
            "NE",
            "OK",
            "SC",
            "SD",
            "TN",
            "TX",
            "UT",
            "WY"
           ],
           "name": "Republican",
           "showlegend": true,
           "showscale": false,
           "type": "choropleth",
           "z": [
            1,
            1,
            1,
            1,
            1,
            1,
            1,
            1,
            1,
            1,
            1,
            1,
            1,
            1,
            1,
            1,
            1,
            1,
            1,
            1
           ]
          },
          {
           "colorscale": [
            [
             0,
             "gray"
            ],
            [
             1,
             "gray"
            ]
           ],
           "geo": "geo",
           "hovertemplate": "color=Tie<br>animation_frame=2016<br>locations=%{location}<extra></extra>",
           "locationmode": "USA-states",
           "locations": [
            "CO",
            "CO",
            "FL",
            "FL",
            "IL",
            "IL",
            "IN",
            "IN",
            "ME",
            "ME",
            "MO",
            "MO",
            "MT",
            "MT",
            "ND",
            "ND",
            "NH",
            "NH",
            "NV",
            "NV",
            "OH",
            "OH",
            "PA",
            "PA",
            "VT",
            "VT",
            "WI",
            "WI",
            "WV",
            "WV"
           ],
           "name": "Tie",
           "showlegend": true,
           "showscale": false,
           "type": "choropleth",
           "z": [
            1,
            1,
            1,
            1,
            1,
            1,
            1,
            1,
            1,
            1,
            1,
            1,
            1,
            1,
            1,
            1,
            1,
            1,
            1,
            1,
            1,
            1,
            1,
            1,
            1,
            1,
            1,
            1,
            1,
            1
           ]
          },
          {
           "colorscale": [
            [
             0,
             "blue"
            ],
            [
             1,
             "blue"
            ]
           ],
           "geo": "geo",
           "hovertemplate": "color=Democrat<br>animation_frame=2016<br>locations=%{location}<extra></extra>",
           "locationmode": "USA-states",
           "locations": [
            "CA",
            "CT",
            "DE",
            "HI",
            "MA",
            "MD",
            "MI",
            "MN",
            "NJ",
            "NM",
            "NY",
            "OR",
            "RI",
            "VA",
            "WA"
           ],
           "name": "Democrat",
           "showlegend": true,
           "showscale": false,
           "type": "choropleth",
           "z": [
            1,
            1,
            1,
            1,
            1,
            1,
            1,
            1,
            1,
            1,
            1,
            1,
            1,
            1,
            1
           ]
          }
         ],
         "name": "2016"
        },
        {
         "data": [
          {
           "colorscale": [
            [
             0,
             "red"
            ],
            [
             1,
             "red"
            ]
           ],
           "geo": "geo",
           "hovertemplate": "color=Republican<br>animation_frame=2017<br>locations=%{location}<extra></extra>",
           "locationmode": "USA-states",
           "locations": [
            "AK",
            "AL",
            "AR",
            "AZ",
            "GA",
            "IA",
            "ID",
            "KS",
            "KY",
            "LA",
            "MS",
            "NC",
            "NE",
            "OK",
            "SC",
            "SD",
            "TN",
            "TX",
            "UT",
            "WY"
           ],
           "name": "Republican",
           "showlegend": true,
           "showscale": false,
           "type": "choropleth",
           "z": [
            1,
            1,
            1,
            1,
            1,
            1,
            1,
            1,
            1,
            1,
            1,
            1,
            1,
            1,
            1,
            1,
            1,
            1,
            1,
            1
           ]
          },
          {
           "colorscale": [
            [
             0,
             "gray"
            ],
            [
             1,
             "gray"
            ]
           ],
           "geo": "geo",
           "hovertemplate": "color=Tie<br>animation_frame=2017<br>locations=%{location}<extra></extra>",
           "locationmode": "USA-states",
           "locations": [
            "CO",
            "CO",
            "FL",
            "FL",
            "IN",
            "IN",
            "ME",
            "ME",
            "MO",
            "MO",
            "MT",
            "MT",
            "ND",
            "ND",
            "NULL",
            "NV",
            "NV",
            "OH",
            "OH",
            "PA",
            "PA",
            "VT",
            "VT",
            "WI",
            "WI",
            "WV",
            "WV"
           ],
           "name": "Tie",
           "showlegend": true,
           "showscale": false,
           "type": "choropleth",
           "z": [
            1,
            1,
            1,
            1,
            1,
            1,
            1,
            1,
            1,
            1,
            1,
            1,
            1,
            1,
            1,
            1,
            1,
            1,
            1,
            1,
            1,
            1,
            1,
            1,
            1,
            1,
            1
           ]
          },
          {
           "colorscale": [
            [
             0,
             "blue"
            ],
            [
             1,
             "blue"
            ]
           ],
           "geo": "geo",
           "hovertemplate": "color=Democrat<br>animation_frame=2017<br>locations=%{location}<extra></extra>",
           "locationmode": "USA-states",
           "locations": [
            "CA",
            "CT",
            "DE",
            "HI",
            "IL",
            "MA",
            "MD",
            "MI",
            "MN",
            "NH",
            "NJ",
            "NM",
            "NY",
            "OR",
            "RI",
            "VA",
            "WA"
           ],
           "name": "Democrat",
           "showlegend": true,
           "showscale": false,
           "type": "choropleth",
           "z": [
            1,
            1,
            1,
            1,
            1,
            1,
            1,
            1,
            1,
            1,
            1,
            1,
            1,
            1,
            1,
            1,
            1
           ]
          }
         ],
         "name": "2017"
        },
        {
         "data": [
          {
           "colorscale": [
            [
             0,
             "red"
            ],
            [
             1,
             "red"
            ]
           ],
           "geo": "geo",
           "hovertemplate": "color=Republican<br>animation_frame=2018<br>locations=%{location}<extra></extra>",
           "locationmode": "USA-states",
           "locations": [
            "AK",
            "AR",
            "AZ",
            "GA",
            "IA",
            "ID",
            "KS",
            "KY",
            "LA",
            "MS",
            "NC",
            "NE",
            "OK",
            "SC",
            "SD",
            "TN",
            "TX",
            "UT",
            "WY"
           ],
           "name": "Republican",
           "showlegend": true,
           "showscale": false,
           "type": "choropleth",
           "z": [
            1,
            1,
            1,
            1,
            1,
            1,
            1,
            1,
            1,
            1,
            1,
            1,
            1,
            1,
            1,
            1,
            1,
            1,
            1
           ]
          },
          {
           "colorscale": [
            [
             0,
             "gray"
            ],
            [
             1,
             "gray"
            ]
           ],
           "geo": "geo",
           "hovertemplate": "color=Tie<br>animation_frame=2018<br>locations=%{location}<extra></extra>",
           "locationmode": "USA-states",
           "locations": [
            "AL",
            "AL",
            "CO",
            "CO",
            "FL",
            "FL",
            "IN",
            "IN",
            "ME",
            "ME",
            "MO",
            "MO",
            "MT",
            "MT",
            "ND",
            "ND",
            "NULL",
            "NV",
            "NV",
            "OH",
            "OH",
            "PA",
            "PA",
            "VT",
            "VT",
            "WI",
            "WI",
            "WV",
            "WV"
           ],
           "name": "Tie",
           "showlegend": true,
           "showscale": false,
           "type": "choropleth",
           "z": [
            1,
            1,
            1,
            1,
            1,
            1,
            1,
            1,
            1,
            1,
            1,
            1,
            1,
            1,
            1,
            1,
            1,
            1,
            1,
            1,
            1,
            1,
            1,
            1,
            1,
            1,
            1,
            1,
            1
           ]
          },
          {
           "colorscale": [
            [
             0,
             "blue"
            ],
            [
             1,
             "blue"
            ]
           ],
           "geo": "geo",
           "hovertemplate": "color=Democrat<br>animation_frame=2018<br>locations=%{location}<extra></extra>",
           "locationmode": "USA-states",
           "locations": [
            "CA",
            "CT",
            "DE",
            "HI",
            "IL",
            "MA",
            "MD",
            "MI",
            "MN",
            "NH",
            "NJ",
            "NM",
            "NY",
            "OR",
            "RI",
            "VA",
            "WA"
           ],
           "name": "Democrat",
           "showlegend": true,
           "showscale": false,
           "type": "choropleth",
           "z": [
            1,
            1,
            1,
            1,
            1,
            1,
            1,
            1,
            1,
            1,
            1,
            1,
            1,
            1,
            1,
            1,
            1
           ]
          }
         ],
         "name": "2018"
        },
        {
         "data": [
          {
           "colorscale": [
            [
             0,
             "red"
            ],
            [
             1,
             "red"
            ]
           ],
           "geo": "geo",
           "hovertemplate": "color=Republican<br>animation_frame=2019<br>locations=%{location}<extra></extra>",
           "locationmode": "USA-states",
           "locations": [
            "AK",
            "AR",
            "FL",
            "GA",
            "IA",
            "ID",
            "IN",
            "KS",
            "KY",
            "LA",
            "MO",
            "MS",
            "NC",
            "ND",
            "NE",
            "OK",
            "SC",
            "SD",
            "TN",
            "TX",
            "UT",
            "WY"
           ],
           "name": "Republican",
           "showlegend": true,
           "showscale": false,
           "type": "choropleth",
           "z": [
            1,
            1,
            1,
            1,
            1,
            1,
            1,
            1,
            1,
            1,
            1,
            1,
            1,
            1,
            1,
            1,
            1,
            1,
            1,
            1,
            1,
            1
           ]
          },
          {
           "colorscale": [
            [
             0,
             "gray"
            ],
            [
             1,
             "gray"
            ]
           ],
           "geo": "geo",
           "hovertemplate": "color=Tie<br>animation_frame=2019<br>locations=%{location}<extra></extra>",
           "locationmode": "USA-states",
           "locations": [
            "AL",
            "AL",
            "AZ",
            "AZ",
            "CO",
            "CO",
            "ME",
            "ME",
            "MT",
            "MT",
            "OH",
            "OH",
            "PA",
            "PA",
            "VT",
            "VT",
            "WI",
            "WI",
            "WV",
            "WV"
           ],
           "name": "Tie",
           "showlegend": true,
           "showscale": false,
           "type": "choropleth",
           "z": [
            1,
            1,
            1,
            1,
            1,
            1,
            1,
            1,
            1,
            1,
            1,
            1,
            1,
            1,
            1,
            1,
            1,
            1,
            1,
            1
           ]
          },
          {
           "colorscale": [
            [
             0,
             "blue"
            ],
            [
             1,
             "blue"
            ]
           ],
           "geo": "geo",
           "hovertemplate": "color=Democrat<br>animation_frame=2019<br>locations=%{location}<extra></extra>",
           "locationmode": "USA-states",
           "locations": [
            "CA",
            "CT",
            "DE",
            "HI",
            "IL",
            "MA",
            "MD",
            "MI",
            "MN",
            "NH",
            "NJ",
            "NM",
            "NV",
            "NY",
            "OR",
            "RI",
            "VA",
            "WA"
           ],
           "name": "Democrat",
           "showlegend": true,
           "showscale": false,
           "type": "choropleth",
           "z": [
            1,
            1,
            1,
            1,
            1,
            1,
            1,
            1,
            1,
            1,
            1,
            1,
            1,
            1,
            1,
            1,
            1,
            1
           ]
          }
         ],
         "name": "2019"
        },
        {
         "data": [
          {
           "colorscale": [
            [
             0,
             "red"
            ],
            [
             1,
             "red"
            ]
           ],
           "geo": "geo",
           "hovertemplate": "color=Republican<br>animation_frame=2020<br>locations=%{location}<extra></extra>",
           "locationmode": "USA-states",
           "locations": [
            "AK",
            "AR",
            "FL",
            "GA",
            "IA",
            "ID",
            "IN",
            "KS",
            "KY",
            "LA",
            "MO",
            "MS",
            "NC",
            "ND",
            "NE",
            "OK",
            "SC",
            "SD",
            "TN",
            "TX",
            "UT",
            "WY"
           ],
           "name": "Republican",
           "showlegend": true,
           "showscale": false,
           "type": "choropleth",
           "z": [
            1,
            1,
            1,
            1,
            1,
            1,
            1,
            1,
            1,
            1,
            1,
            1,
            1,
            1,
            1,
            1,
            1,
            1,
            1,
            1,
            1,
            1
           ]
          },
          {
           "colorscale": [
            [
             0,
             "gray"
            ],
            [
             1,
             "gray"
            ]
           ],
           "geo": "geo",
           "hovertemplate": "color=Tie<br>animation_frame=2020<br>locations=%{location}<extra></extra>",
           "locationmode": "USA-states",
           "locations": [
            "AL",
            "AL",
            "CO",
            "CO",
            "ME",
            "ME",
            "MT",
            "MT",
            "OH",
            "OH",
            "PA",
            "PA",
            "VT",
            "VT",
            "WI",
            "WI",
            "WV",
            "WV"
           ],
           "name": "Tie",
           "showlegend": true,
           "showscale": false,
           "type": "choropleth",
           "z": [
            1,
            1,
            1,
            1,
            1,
            1,
            1,
            1,
            1,
            1,
            1,
            1,
            1,
            1,
            1,
            1,
            1,
            1
           ]
          },
          {
           "colorscale": [
            [
             0,
             "blue"
            ],
            [
             1,
             "blue"
            ]
           ],
           "geo": "geo",
           "hovertemplate": "color=Democrat<br>animation_frame=2020<br>locations=%{location}<extra></extra>",
           "locationmode": "USA-states",
           "locations": [
            "AZ",
            "CA",
            "CT",
            "DE",
            "HI",
            "IL",
            "MA",
            "MD",
            "MI",
            "MN",
            "NH",
            "NJ",
            "NM",
            "NV",
            "NY",
            "OR",
            "RI",
            "VA",
            "WA"
           ],
           "name": "Democrat",
           "showlegend": true,
           "showscale": false,
           "type": "choropleth",
           "z": [
            1,
            1,
            1,
            1,
            1,
            1,
            1,
            1,
            1,
            1,
            1,
            1,
            1,
            1,
            1,
            1,
            1,
            1,
            1
           ]
          }
         ],
         "name": "2020"
        }
       ],
       "layout": {
        "geo": {
         "center": {},
         "domain": {
          "x": [
           0,
           1
          ],
          "y": [
           0,
           1
          ]
         },
         "scope": "usa"
        },
        "legend": {
         "title": {
          "text": "color"
         },
         "tracegroupgap": 0
        },
        "sliders": [
         {
          "active": 0,
          "currentvalue": {
           "prefix": "animation_frame="
          },
          "len": 0.9,
          "pad": {
           "b": 10,
           "t": 60
          },
          "steps": [
           {
            "args": [
             [
              "1989"
             ],
             {
              "frame": {
               "duration": 0,
               "redraw": true
              },
              "fromcurrent": true,
              "mode": "immediate",
              "transition": {
               "duration": 0,
               "easing": "linear"
              }
             }
            ],
            "label": "1989",
            "method": "animate"
           },
           {
            "args": [
             [
              "1990"
             ],
             {
              "frame": {
               "duration": 0,
               "redraw": true
              },
              "fromcurrent": true,
              "mode": "immediate",
              "transition": {
               "duration": 0,
               "easing": "linear"
              }
             }
            ],
            "label": "1990",
            "method": "animate"
           },
           {
            "args": [
             [
              "1991"
             ],
             {
              "frame": {
               "duration": 0,
               "redraw": true
              },
              "fromcurrent": true,
              "mode": "immediate",
              "transition": {
               "duration": 0,
               "easing": "linear"
              }
             }
            ],
            "label": "1991",
            "method": "animate"
           },
           {
            "args": [
             [
              "1992"
             ],
             {
              "frame": {
               "duration": 0,
               "redraw": true
              },
              "fromcurrent": true,
              "mode": "immediate",
              "transition": {
               "duration": 0,
               "easing": "linear"
              }
             }
            ],
            "label": "1992",
            "method": "animate"
           },
           {
            "args": [
             [
              "1993"
             ],
             {
              "frame": {
               "duration": 0,
               "redraw": true
              },
              "fromcurrent": true,
              "mode": "immediate",
              "transition": {
               "duration": 0,
               "easing": "linear"
              }
             }
            ],
            "label": "1993",
            "method": "animate"
           },
           {
            "args": [
             [
              "1994"
             ],
             {
              "frame": {
               "duration": 0,
               "redraw": true
              },
              "fromcurrent": true,
              "mode": "immediate",
              "transition": {
               "duration": 0,
               "easing": "linear"
              }
             }
            ],
            "label": "1994",
            "method": "animate"
           },
           {
            "args": [
             [
              "1995"
             ],
             {
              "frame": {
               "duration": 0,
               "redraw": true
              },
              "fromcurrent": true,
              "mode": "immediate",
              "transition": {
               "duration": 0,
               "easing": "linear"
              }
             }
            ],
            "label": "1995",
            "method": "animate"
           },
           {
            "args": [
             [
              "1996"
             ],
             {
              "frame": {
               "duration": 0,
               "redraw": true
              },
              "fromcurrent": true,
              "mode": "immediate",
              "transition": {
               "duration": 0,
               "easing": "linear"
              }
             }
            ],
            "label": "1996",
            "method": "animate"
           },
           {
            "args": [
             [
              "1997"
             ],
             {
              "frame": {
               "duration": 0,
               "redraw": true
              },
              "fromcurrent": true,
              "mode": "immediate",
              "transition": {
               "duration": 0,
               "easing": "linear"
              }
             }
            ],
            "label": "1997",
            "method": "animate"
           },
           {
            "args": [
             [
              "1998"
             ],
             {
              "frame": {
               "duration": 0,
               "redraw": true
              },
              "fromcurrent": true,
              "mode": "immediate",
              "transition": {
               "duration": 0,
               "easing": "linear"
              }
             }
            ],
            "label": "1998",
            "method": "animate"
           },
           {
            "args": [
             [
              "1999"
             ],
             {
              "frame": {
               "duration": 0,
               "redraw": true
              },
              "fromcurrent": true,
              "mode": "immediate",
              "transition": {
               "duration": 0,
               "easing": "linear"
              }
             }
            ],
            "label": "1999",
            "method": "animate"
           },
           {
            "args": [
             [
              "2000"
             ],
             {
              "frame": {
               "duration": 0,
               "redraw": true
              },
              "fromcurrent": true,
              "mode": "immediate",
              "transition": {
               "duration": 0,
               "easing": "linear"
              }
             }
            ],
            "label": "2000",
            "method": "animate"
           },
           {
            "args": [
             [
              "2001"
             ],
             {
              "frame": {
               "duration": 0,
               "redraw": true
              },
              "fromcurrent": true,
              "mode": "immediate",
              "transition": {
               "duration": 0,
               "easing": "linear"
              }
             }
            ],
            "label": "2001",
            "method": "animate"
           },
           {
            "args": [
             [
              "2002"
             ],
             {
              "frame": {
               "duration": 0,
               "redraw": true
              },
              "fromcurrent": true,
              "mode": "immediate",
              "transition": {
               "duration": 0,
               "easing": "linear"
              }
             }
            ],
            "label": "2002",
            "method": "animate"
           },
           {
            "args": [
             [
              "2003"
             ],
             {
              "frame": {
               "duration": 0,
               "redraw": true
              },
              "fromcurrent": true,
              "mode": "immediate",
              "transition": {
               "duration": 0,
               "easing": "linear"
              }
             }
            ],
            "label": "2003",
            "method": "animate"
           },
           {
            "args": [
             [
              "2004"
             ],
             {
              "frame": {
               "duration": 0,
               "redraw": true
              },
              "fromcurrent": true,
              "mode": "immediate",
              "transition": {
               "duration": 0,
               "easing": "linear"
              }
             }
            ],
            "label": "2004",
            "method": "animate"
           },
           {
            "args": [
             [
              "2005"
             ],
             {
              "frame": {
               "duration": 0,
               "redraw": true
              },
              "fromcurrent": true,
              "mode": "immediate",
              "transition": {
               "duration": 0,
               "easing": "linear"
              }
             }
            ],
            "label": "2005",
            "method": "animate"
           },
           {
            "args": [
             [
              "2006"
             ],
             {
              "frame": {
               "duration": 0,
               "redraw": true
              },
              "fromcurrent": true,
              "mode": "immediate",
              "transition": {
               "duration": 0,
               "easing": "linear"
              }
             }
            ],
            "label": "2006",
            "method": "animate"
           },
           {
            "args": [
             [
              "2007"
             ],
             {
              "frame": {
               "duration": 0,
               "redraw": true
              },
              "fromcurrent": true,
              "mode": "immediate",
              "transition": {
               "duration": 0,
               "easing": "linear"
              }
             }
            ],
            "label": "2007",
            "method": "animate"
           },
           {
            "args": [
             [
              "2008"
             ],
             {
              "frame": {
               "duration": 0,
               "redraw": true
              },
              "fromcurrent": true,
              "mode": "immediate",
              "transition": {
               "duration": 0,
               "easing": "linear"
              }
             }
            ],
            "label": "2008",
            "method": "animate"
           },
           {
            "args": [
             [
              "2009"
             ],
             {
              "frame": {
               "duration": 0,
               "redraw": true
              },
              "fromcurrent": true,
              "mode": "immediate",
              "transition": {
               "duration": 0,
               "easing": "linear"
              }
             }
            ],
            "label": "2009",
            "method": "animate"
           },
           {
            "args": [
             [
              "2010"
             ],
             {
              "frame": {
               "duration": 0,
               "redraw": true
              },
              "fromcurrent": true,
              "mode": "immediate",
              "transition": {
               "duration": 0,
               "easing": "linear"
              }
             }
            ],
            "label": "2010",
            "method": "animate"
           },
           {
            "args": [
             [
              "2011"
             ],
             {
              "frame": {
               "duration": 0,
               "redraw": true
              },
              "fromcurrent": true,
              "mode": "immediate",
              "transition": {
               "duration": 0,
               "easing": "linear"
              }
             }
            ],
            "label": "2011",
            "method": "animate"
           },
           {
            "args": [
             [
              "2012"
             ],
             {
              "frame": {
               "duration": 0,
               "redraw": true
              },
              "fromcurrent": true,
              "mode": "immediate",
              "transition": {
               "duration": 0,
               "easing": "linear"
              }
             }
            ],
            "label": "2012",
            "method": "animate"
           },
           {
            "args": [
             [
              "2013"
             ],
             {
              "frame": {
               "duration": 0,
               "redraw": true
              },
              "fromcurrent": true,
              "mode": "immediate",
              "transition": {
               "duration": 0,
               "easing": "linear"
              }
             }
            ],
            "label": "2013",
            "method": "animate"
           },
           {
            "args": [
             [
              "2014"
             ],
             {
              "frame": {
               "duration": 0,
               "redraw": true
              },
              "fromcurrent": true,
              "mode": "immediate",
              "transition": {
               "duration": 0,
               "easing": "linear"
              }
             }
            ],
            "label": "2014",
            "method": "animate"
           },
           {
            "args": [
             [
              "2015"
             ],
             {
              "frame": {
               "duration": 0,
               "redraw": true
              },
              "fromcurrent": true,
              "mode": "immediate",
              "transition": {
               "duration": 0,
               "easing": "linear"
              }
             }
            ],
            "label": "2015",
            "method": "animate"
           },
           {
            "args": [
             [
              "2016"
             ],
             {
              "frame": {
               "duration": 0,
               "redraw": true
              },
              "fromcurrent": true,
              "mode": "immediate",
              "transition": {
               "duration": 0,
               "easing": "linear"
              }
             }
            ],
            "label": "2016",
            "method": "animate"
           },
           {
            "args": [
             [
              "2017"
             ],
             {
              "frame": {
               "duration": 0,
               "redraw": true
              },
              "fromcurrent": true,
              "mode": "immediate",
              "transition": {
               "duration": 0,
               "easing": "linear"
              }
             }
            ],
            "label": "2017",
            "method": "animate"
           },
           {
            "args": [
             [
              "2018"
             ],
             {
              "frame": {
               "duration": 0,
               "redraw": true
              },
              "fromcurrent": true,
              "mode": "immediate",
              "transition": {
               "duration": 0,
               "easing": "linear"
              }
             }
            ],
            "label": "2018",
            "method": "animate"
           },
           {
            "args": [
             [
              "2019"
             ],
             {
              "frame": {
               "duration": 0,
               "redraw": true
              },
              "fromcurrent": true,
              "mode": "immediate",
              "transition": {
               "duration": 0,
               "easing": "linear"
              }
             }
            ],
            "label": "2019",
            "method": "animate"
           },
           {
            "args": [
             [
              "2020"
             ],
             {
              "frame": {
               "duration": 0,
               "redraw": true
              },
              "fromcurrent": true,
              "mode": "immediate",
              "transition": {
               "duration": 0,
               "easing": "linear"
              }
             }
            ],
            "label": "2020",
            "method": "animate"
           }
          ],
          "x": 0.1,
          "xanchor": "left",
          "y": 0,
          "yanchor": "top"
         }
        ],
        "template": {
         "data": {
          "bar": [
           {
            "error_x": {
             "color": "#2a3f5f"
            },
            "error_y": {
             "color": "#2a3f5f"
            },
            "marker": {
             "line": {
              "color": "#E5ECF6",
              "width": 0.5
             }
            },
            "type": "bar"
           }
          ],
          "barpolar": [
           {
            "marker": {
             "line": {
              "color": "#E5ECF6",
              "width": 0.5
             }
            },
            "type": "barpolar"
           }
          ],
          "carpet": [
           {
            "aaxis": {
             "endlinecolor": "#2a3f5f",
             "gridcolor": "white",
             "linecolor": "white",
             "minorgridcolor": "white",
             "startlinecolor": "#2a3f5f"
            },
            "baxis": {
             "endlinecolor": "#2a3f5f",
             "gridcolor": "white",
             "linecolor": "white",
             "minorgridcolor": "white",
             "startlinecolor": "#2a3f5f"
            },
            "type": "carpet"
           }
          ],
          "choropleth": [
           {
            "colorbar": {
             "outlinewidth": 0,
             "ticks": ""
            },
            "type": "choropleth"
           }
          ],
          "contour": [
           {
            "colorbar": {
             "outlinewidth": 0,
             "ticks": ""
            },
            "colorscale": [
             [
              0,
              "#0d0887"
             ],
             [
              0.1111111111111111,
              "#46039f"
             ],
             [
              0.2222222222222222,
              "#7201a8"
             ],
             [
              0.3333333333333333,
              "#9c179e"
             ],
             [
              0.4444444444444444,
              "#bd3786"
             ],
             [
              0.5555555555555556,
              "#d8576b"
             ],
             [
              0.6666666666666666,
              "#ed7953"
             ],
             [
              0.7777777777777778,
              "#fb9f3a"
             ],
             [
              0.8888888888888888,
              "#fdca26"
             ],
             [
              1,
              "#f0f921"
             ]
            ],
            "type": "contour"
           }
          ],
          "contourcarpet": [
           {
            "colorbar": {
             "outlinewidth": 0,
             "ticks": ""
            },
            "type": "contourcarpet"
           }
          ],
          "heatmap": [
           {
            "colorbar": {
             "outlinewidth": 0,
             "ticks": ""
            },
            "colorscale": [
             [
              0,
              "#0d0887"
             ],
             [
              0.1111111111111111,
              "#46039f"
             ],
             [
              0.2222222222222222,
              "#7201a8"
             ],
             [
              0.3333333333333333,
              "#9c179e"
             ],
             [
              0.4444444444444444,
              "#bd3786"
             ],
             [
              0.5555555555555556,
              "#d8576b"
             ],
             [
              0.6666666666666666,
              "#ed7953"
             ],
             [
              0.7777777777777778,
              "#fb9f3a"
             ],
             [
              0.8888888888888888,
              "#fdca26"
             ],
             [
              1,
              "#f0f921"
             ]
            ],
            "type": "heatmap"
           }
          ],
          "heatmapgl": [
           {
            "colorbar": {
             "outlinewidth": 0,
             "ticks": ""
            },
            "colorscale": [
             [
              0,
              "#0d0887"
             ],
             [
              0.1111111111111111,
              "#46039f"
             ],
             [
              0.2222222222222222,
              "#7201a8"
             ],
             [
              0.3333333333333333,
              "#9c179e"
             ],
             [
              0.4444444444444444,
              "#bd3786"
             ],
             [
              0.5555555555555556,
              "#d8576b"
             ],
             [
              0.6666666666666666,
              "#ed7953"
             ],
             [
              0.7777777777777778,
              "#fb9f3a"
             ],
             [
              0.8888888888888888,
              "#fdca26"
             ],
             [
              1,
              "#f0f921"
             ]
            ],
            "type": "heatmapgl"
           }
          ],
          "histogram": [
           {
            "marker": {
             "colorbar": {
              "outlinewidth": 0,
              "ticks": ""
             }
            },
            "type": "histogram"
           }
          ],
          "histogram2d": [
           {
            "colorbar": {
             "outlinewidth": 0,
             "ticks": ""
            },
            "colorscale": [
             [
              0,
              "#0d0887"
             ],
             [
              0.1111111111111111,
              "#46039f"
             ],
             [
              0.2222222222222222,
              "#7201a8"
             ],
             [
              0.3333333333333333,
              "#9c179e"
             ],
             [
              0.4444444444444444,
              "#bd3786"
             ],
             [
              0.5555555555555556,
              "#d8576b"
             ],
             [
              0.6666666666666666,
              "#ed7953"
             ],
             [
              0.7777777777777778,
              "#fb9f3a"
             ],
             [
              0.8888888888888888,
              "#fdca26"
             ],
             [
              1,
              "#f0f921"
             ]
            ],
            "type": "histogram2d"
           }
          ],
          "histogram2dcontour": [
           {
            "colorbar": {
             "outlinewidth": 0,
             "ticks": ""
            },
            "colorscale": [
             [
              0,
              "#0d0887"
             ],
             [
              0.1111111111111111,
              "#46039f"
             ],
             [
              0.2222222222222222,
              "#7201a8"
             ],
             [
              0.3333333333333333,
              "#9c179e"
             ],
             [
              0.4444444444444444,
              "#bd3786"
             ],
             [
              0.5555555555555556,
              "#d8576b"
             ],
             [
              0.6666666666666666,
              "#ed7953"
             ],
             [
              0.7777777777777778,
              "#fb9f3a"
             ],
             [
              0.8888888888888888,
              "#fdca26"
             ],
             [
              1,
              "#f0f921"
             ]
            ],
            "type": "histogram2dcontour"
           }
          ],
          "mesh3d": [
           {
            "colorbar": {
             "outlinewidth": 0,
             "ticks": ""
            },
            "type": "mesh3d"
           }
          ],
          "parcoords": [
           {
            "line": {
             "colorbar": {
              "outlinewidth": 0,
              "ticks": ""
             }
            },
            "type": "parcoords"
           }
          ],
          "pie": [
           {
            "automargin": true,
            "type": "pie"
           }
          ],
          "scatter": [
           {
            "marker": {
             "colorbar": {
              "outlinewidth": 0,
              "ticks": ""
             }
            },
            "type": "scatter"
           }
          ],
          "scatter3d": [
           {
            "line": {
             "colorbar": {
              "outlinewidth": 0,
              "ticks": ""
             }
            },
            "marker": {
             "colorbar": {
              "outlinewidth": 0,
              "ticks": ""
             }
            },
            "type": "scatter3d"
           }
          ],
          "scattercarpet": [
           {
            "marker": {
             "colorbar": {
              "outlinewidth": 0,
              "ticks": ""
             }
            },
            "type": "scattercarpet"
           }
          ],
          "scattergeo": [
           {
            "marker": {
             "colorbar": {
              "outlinewidth": 0,
              "ticks": ""
             }
            },
            "type": "scattergeo"
           }
          ],
          "scattergl": [
           {
            "marker": {
             "colorbar": {
              "outlinewidth": 0,
              "ticks": ""
             }
            },
            "type": "scattergl"
           }
          ],
          "scattermapbox": [
           {
            "marker": {
             "colorbar": {
              "outlinewidth": 0,
              "ticks": ""
             }
            },
            "type": "scattermapbox"
           }
          ],
          "scatterpolar": [
           {
            "marker": {
             "colorbar": {
              "outlinewidth": 0,
              "ticks": ""
             }
            },
            "type": "scatterpolar"
           }
          ],
          "scatterpolargl": [
           {
            "marker": {
             "colorbar": {
              "outlinewidth": 0,
              "ticks": ""
             }
            },
            "type": "scatterpolargl"
           }
          ],
          "scatterternary": [
           {
            "marker": {
             "colorbar": {
              "outlinewidth": 0,
              "ticks": ""
             }
            },
            "type": "scatterternary"
           }
          ],
          "surface": [
           {
            "colorbar": {
             "outlinewidth": 0,
             "ticks": ""
            },
            "colorscale": [
             [
              0,
              "#0d0887"
             ],
             [
              0.1111111111111111,
              "#46039f"
             ],
             [
              0.2222222222222222,
              "#7201a8"
             ],
             [
              0.3333333333333333,
              "#9c179e"
             ],
             [
              0.4444444444444444,
              "#bd3786"
             ],
             [
              0.5555555555555556,
              "#d8576b"
             ],
             [
              0.6666666666666666,
              "#ed7953"
             ],
             [
              0.7777777777777778,
              "#fb9f3a"
             ],
             [
              0.8888888888888888,
              "#fdca26"
             ],
             [
              1,
              "#f0f921"
             ]
            ],
            "type": "surface"
           }
          ],
          "table": [
           {
            "cells": {
             "fill": {
              "color": "#EBF0F8"
             },
             "line": {
              "color": "white"
             }
            },
            "header": {
             "fill": {
              "color": "#C8D4E3"
             },
             "line": {
              "color": "white"
             }
            },
            "type": "table"
           }
          ]
         },
         "layout": {
          "annotationdefaults": {
           "arrowcolor": "#2a3f5f",
           "arrowhead": 0,
           "arrowwidth": 1
          },
          "autotypenumbers": "strict",
          "coloraxis": {
           "colorbar": {
            "outlinewidth": 0,
            "ticks": ""
           }
          },
          "colorscale": {
           "diverging": [
            [
             0,
             "#8e0152"
            ],
            [
             0.1,
             "#c51b7d"
            ],
            [
             0.2,
             "#de77ae"
            ],
            [
             0.3,
             "#f1b6da"
            ],
            [
             0.4,
             "#fde0ef"
            ],
            [
             0.5,
             "#f7f7f7"
            ],
            [
             0.6,
             "#e6f5d0"
            ],
            [
             0.7,
             "#b8e186"
            ],
            [
             0.8,
             "#7fbc41"
            ],
            [
             0.9,
             "#4d9221"
            ],
            [
             1,
             "#276419"
            ]
           ],
           "sequential": [
            [
             0,
             "#0d0887"
            ],
            [
             0.1111111111111111,
             "#46039f"
            ],
            [
             0.2222222222222222,
             "#7201a8"
            ],
            [
             0.3333333333333333,
             "#9c179e"
            ],
            [
             0.4444444444444444,
             "#bd3786"
            ],
            [
             0.5555555555555556,
             "#d8576b"
            ],
            [
             0.6666666666666666,
             "#ed7953"
            ],
            [
             0.7777777777777778,
             "#fb9f3a"
            ],
            [
             0.8888888888888888,
             "#fdca26"
            ],
            [
             1,
             "#f0f921"
            ]
           ],
           "sequentialminus": [
            [
             0,
             "#0d0887"
            ],
            [
             0.1111111111111111,
             "#46039f"
            ],
            [
             0.2222222222222222,
             "#7201a8"
            ],
            [
             0.3333333333333333,
             "#9c179e"
            ],
            [
             0.4444444444444444,
             "#bd3786"
            ],
            [
             0.5555555555555556,
             "#d8576b"
            ],
            [
             0.6666666666666666,
             "#ed7953"
            ],
            [
             0.7777777777777778,
             "#fb9f3a"
            ],
            [
             0.8888888888888888,
             "#fdca26"
            ],
            [
             1,
             "#f0f921"
            ]
           ]
          },
          "colorway": [
           "#636efa",
           "#EF553B",
           "#00cc96",
           "#ab63fa",
           "#FFA15A",
           "#19d3f3",
           "#FF6692",
           "#B6E880",
           "#FF97FF",
           "#FECB52"
          ],
          "font": {
           "color": "#2a3f5f"
          },
          "geo": {
           "bgcolor": "white",
           "lakecolor": "white",
           "landcolor": "#E5ECF6",
           "showlakes": true,
           "showland": true,
           "subunitcolor": "white"
          },
          "hoverlabel": {
           "align": "left"
          },
          "hovermode": "closest",
          "mapbox": {
           "style": "light"
          },
          "paper_bgcolor": "white",
          "plot_bgcolor": "#E5ECF6",
          "polar": {
           "angularaxis": {
            "gridcolor": "white",
            "linecolor": "white",
            "ticks": ""
           },
           "bgcolor": "#E5ECF6",
           "radialaxis": {
            "gridcolor": "white",
            "linecolor": "white",
            "ticks": ""
           }
          },
          "scene": {
           "xaxis": {
            "backgroundcolor": "#E5ECF6",
            "gridcolor": "white",
            "gridwidth": 2,
            "linecolor": "white",
            "showbackground": true,
            "ticks": "",
            "zerolinecolor": "white"
           },
           "yaxis": {
            "backgroundcolor": "#E5ECF6",
            "gridcolor": "white",
            "gridwidth": 2,
            "linecolor": "white",
            "showbackground": true,
            "ticks": "",
            "zerolinecolor": "white"
           },
           "zaxis": {
            "backgroundcolor": "#E5ECF6",
            "gridcolor": "white",
            "gridwidth": 2,
            "linecolor": "white",
            "showbackground": true,
            "ticks": "",
            "zerolinecolor": "white"
           }
          },
          "shapedefaults": {
           "line": {
            "color": "#2a3f5f"
           }
          },
          "ternary": {
           "aaxis": {
            "gridcolor": "white",
            "linecolor": "white",
            "ticks": ""
           },
           "baxis": {
            "gridcolor": "white",
            "linecolor": "white",
            "ticks": ""
           },
           "bgcolor": "#E5ECF6",
           "caxis": {
            "gridcolor": "white",
            "linecolor": "white",
            "ticks": ""
           }
          },
          "title": {
           "x": 0.05
          },
          "xaxis": {
           "automargin": true,
           "gridcolor": "white",
           "linecolor": "white",
           "ticks": "",
           "title": {
            "standoff": 15
           },
           "zerolinecolor": "white",
           "zerolinewidth": 2
          },
          "yaxis": {
           "automargin": true,
           "gridcolor": "white",
           "linecolor": "white",
           "ticks": "",
           "title": {
            "standoff": 15
           },
           "zerolinecolor": "white",
           "zerolinewidth": 2
          }
         }
        },
        "title": {
         "text": "Senate Majority by State: 1989-2020"
        },
        "updatemenus": [
         {
          "buttons": [
           {
            "args": [
             null,
             {
              "frame": {
               "duration": 500,
               "redraw": true
              },
              "fromcurrent": true,
              "mode": "immediate",
              "transition": {
               "duration": 500,
               "easing": "linear"
              }
             }
            ],
            "label": "&#9654;",
            "method": "animate"
           },
           {
            "args": [
             [
              null
             ],
             {
              "frame": {
               "duration": 0,
               "redraw": true
              },
              "fromcurrent": true,
              "mode": "immediate",
              "transition": {
               "duration": 0,
               "easing": "linear"
              }
             }
            ],
            "label": "&#9724;",
            "method": "animate"
           }
          ],
          "direction": "left",
          "pad": {
           "r": 10,
           "t": 70
          },
          "showactive": false,
          "type": "buttons",
          "x": 0.1,
          "xanchor": "right",
          "y": 0,
          "yanchor": "top"
         }
        ]
       }
      },
      "text/html": [
       "<div>                            <div id=\"d5bc48bc-53f8-4807-a31c-9423b933357e\" class=\"plotly-graph-div\" style=\"height:525px; width:100%;\"></div>            <script type=\"text/javascript\">                require([\"plotly\"], function(Plotly) {                    window.PLOTLYENV=window.PLOTLYENV || {};                                    if (document.getElementById(\"d5bc48bc-53f8-4807-a31c-9423b933357e\")) {                    Plotly.newPlot(                        \"d5bc48bc-53f8-4807-a31c-9423b933357e\",                        [{\"colorscale\": [[0.0, \"red\"], [1.0, \"red\"]], \"geo\": \"geo\", \"hovertemplate\": \"color=Republican<br>animation_frame=1989<br>locations=%{location}<extra></extra>\", \"locationmode\": \"USA-states\", \"locations\": [\"AK\", \"ID\", \"IN\", \"KS\", \"MN\", \"MO\", \"MS\", \"NH\", \"OR\", \"PA\", \"UT\", \"WY\"], \"name\": \"Republican\", \"showlegend\": true, \"showscale\": false, \"type\": \"choropleth\", \"z\": [1, 1, 1, 1, 1, 1, 1, 1, 1, 1, 1, 1]}, {\"colorscale\": [[0.0, \"gray\"], [1.0, \"gray\"]], \"geo\": \"geo\", \"hovertemplate\": \"color=Tie<br>animation_frame=1989<br>locations=%{location}<extra></extra>\", \"locationmode\": \"USA-states\", \"locations\": [\"AL\", \"AL\", \"AZ\", \"AZ\", \"CA\", \"CA\", \"CO\", \"CO\", \"DE\", \"DE\", \"FL\", \"FL\", \"IA\", \"IA\", \"KY\", \"KY\", \"ME\", \"ME\", \"MT\", \"MT\", \"NC\", \"NC\", \"NM\", \"NM\", \"NULL\", \"NY\", \"NY\", \"OK\", \"OK\", \"RI\", \"RI\", \"SC\", \"SC\", \"SD\", \"SD\", \"TN\", \"TX\", \"TX\", \"VA\", \"VA\", \"VT\", \"VT\", \"WA\", \"WA\", \"WI\", \"WI\"], \"name\": \"Tie\", \"showlegend\": true, \"showscale\": false, \"type\": \"choropleth\", \"z\": [1, 1, 1, 1, 1, 1, 1, 1, 1, 1, 1, 1, 1, 1, 1, 1, 1, 1, 1, 1, 1, 1, 1, 1, 1, 1, 1, 1, 1, 1, 1, 1, 1, 1, 1, 1, 1, 1, 1, 1, 1, 1, 1, 1, 1, 1]}, {\"colorscale\": [[0.0, \"blue\"], [1.0, \"blue\"]], \"geo\": \"geo\", \"hovertemplate\": \"color=Democrat<br>animation_frame=1989<br>locations=%{location}<extra></extra>\", \"locationmode\": \"USA-states\", \"locations\": [\"AR\", \"CT\", \"GA\", \"HI\", \"IL\", \"LA\", \"MA\", \"MD\", \"MI\", \"ND\", \"NE\", \"NJ\", \"NV\", \"OH\", \"WV\"], \"name\": \"Democrat\", \"showlegend\": true, \"showscale\": false, \"type\": \"choropleth\", \"z\": [1, 1, 1, 1, 1, 1, 1, 1, 1, 1, 1, 1, 1, 1, 1]}],                        {\"geo\": {\"center\": {}, \"domain\": {\"x\": [0.0, 1.0], \"y\": [0.0, 1.0]}, \"scope\": \"usa\"}, \"legend\": {\"title\": {\"text\": \"color\"}, \"tracegroupgap\": 0}, \"sliders\": [{\"active\": 0, \"currentvalue\": {\"prefix\": \"animation_frame=\"}, \"len\": 0.9, \"pad\": {\"b\": 10, \"t\": 60}, \"steps\": [{\"args\": [[\"1989\"], {\"frame\": {\"duration\": 0, \"redraw\": true}, \"fromcurrent\": true, \"mode\": \"immediate\", \"transition\": {\"duration\": 0, \"easing\": \"linear\"}}], \"label\": \"1989\", \"method\": \"animate\"}, {\"args\": [[\"1990\"], {\"frame\": {\"duration\": 0, \"redraw\": true}, \"fromcurrent\": true, \"mode\": \"immediate\", \"transition\": {\"duration\": 0, \"easing\": \"linear\"}}], \"label\": \"1990\", \"method\": \"animate\"}, {\"args\": [[\"1991\"], {\"frame\": {\"duration\": 0, \"redraw\": true}, \"fromcurrent\": true, \"mode\": \"immediate\", \"transition\": {\"duration\": 0, \"easing\": \"linear\"}}], \"label\": \"1991\", \"method\": \"animate\"}, {\"args\": [[\"1992\"], {\"frame\": {\"duration\": 0, \"redraw\": true}, \"fromcurrent\": true, \"mode\": \"immediate\", \"transition\": {\"duration\": 0, \"easing\": \"linear\"}}], \"label\": \"1992\", \"method\": \"animate\"}, {\"args\": [[\"1993\"], {\"frame\": {\"duration\": 0, \"redraw\": true}, \"fromcurrent\": true, \"mode\": \"immediate\", \"transition\": {\"duration\": 0, \"easing\": \"linear\"}}], \"label\": \"1993\", \"method\": \"animate\"}, {\"args\": [[\"1994\"], {\"frame\": {\"duration\": 0, \"redraw\": true}, \"fromcurrent\": true, \"mode\": \"immediate\", \"transition\": {\"duration\": 0, \"easing\": \"linear\"}}], \"label\": \"1994\", \"method\": \"animate\"}, {\"args\": [[\"1995\"], {\"frame\": {\"duration\": 0, \"redraw\": true}, \"fromcurrent\": true, \"mode\": \"immediate\", \"transition\": {\"duration\": 0, \"easing\": \"linear\"}}], \"label\": \"1995\", \"method\": \"animate\"}, {\"args\": [[\"1996\"], {\"frame\": {\"duration\": 0, \"redraw\": true}, \"fromcurrent\": true, \"mode\": \"immediate\", \"transition\": {\"duration\": 0, \"easing\": \"linear\"}}], \"label\": \"1996\", \"method\": \"animate\"}, {\"args\": [[\"1997\"], {\"frame\": {\"duration\": 0, \"redraw\": true}, \"fromcurrent\": true, \"mode\": \"immediate\", \"transition\": {\"duration\": 0, \"easing\": \"linear\"}}], \"label\": \"1997\", \"method\": \"animate\"}, {\"args\": [[\"1998\"], {\"frame\": {\"duration\": 0, \"redraw\": true}, \"fromcurrent\": true, \"mode\": \"immediate\", \"transition\": {\"duration\": 0, \"easing\": \"linear\"}}], \"label\": \"1998\", \"method\": \"animate\"}, {\"args\": [[\"1999\"], {\"frame\": {\"duration\": 0, \"redraw\": true}, \"fromcurrent\": true, \"mode\": \"immediate\", \"transition\": {\"duration\": 0, \"easing\": \"linear\"}}], \"label\": \"1999\", \"method\": \"animate\"}, {\"args\": [[\"2000\"], {\"frame\": {\"duration\": 0, \"redraw\": true}, \"fromcurrent\": true, \"mode\": \"immediate\", \"transition\": {\"duration\": 0, \"easing\": \"linear\"}}], \"label\": \"2000\", \"method\": \"animate\"}, {\"args\": [[\"2001\"], {\"frame\": {\"duration\": 0, \"redraw\": true}, \"fromcurrent\": true, \"mode\": \"immediate\", \"transition\": {\"duration\": 0, \"easing\": \"linear\"}}], \"label\": \"2001\", \"method\": \"animate\"}, {\"args\": [[\"2002\"], {\"frame\": {\"duration\": 0, \"redraw\": true}, \"fromcurrent\": true, \"mode\": \"immediate\", \"transition\": {\"duration\": 0, \"easing\": \"linear\"}}], \"label\": \"2002\", \"method\": \"animate\"}, {\"args\": [[\"2003\"], {\"frame\": {\"duration\": 0, \"redraw\": true}, \"fromcurrent\": true, \"mode\": \"immediate\", \"transition\": {\"duration\": 0, \"easing\": \"linear\"}}], \"label\": \"2003\", \"method\": \"animate\"}, {\"args\": [[\"2004\"], {\"frame\": {\"duration\": 0, \"redraw\": true}, \"fromcurrent\": true, \"mode\": \"immediate\", \"transition\": {\"duration\": 0, \"easing\": \"linear\"}}], \"label\": \"2004\", \"method\": \"animate\"}, {\"args\": [[\"2005\"], {\"frame\": {\"duration\": 0, \"redraw\": true}, \"fromcurrent\": true, \"mode\": \"immediate\", \"transition\": {\"duration\": 0, \"easing\": \"linear\"}}], \"label\": \"2005\", \"method\": \"animate\"}, {\"args\": [[\"2006\"], {\"frame\": {\"duration\": 0, \"redraw\": true}, \"fromcurrent\": true, \"mode\": \"immediate\", \"transition\": {\"duration\": 0, \"easing\": \"linear\"}}], \"label\": \"2006\", \"method\": \"animate\"}, {\"args\": [[\"2007\"], {\"frame\": {\"duration\": 0, \"redraw\": true}, \"fromcurrent\": true, \"mode\": \"immediate\", \"transition\": {\"duration\": 0, \"easing\": \"linear\"}}], \"label\": \"2007\", \"method\": \"animate\"}, {\"args\": [[\"2008\"], {\"frame\": {\"duration\": 0, \"redraw\": true}, \"fromcurrent\": true, \"mode\": \"immediate\", \"transition\": {\"duration\": 0, \"easing\": \"linear\"}}], \"label\": \"2008\", \"method\": \"animate\"}, {\"args\": [[\"2009\"], {\"frame\": {\"duration\": 0, \"redraw\": true}, \"fromcurrent\": true, \"mode\": \"immediate\", \"transition\": {\"duration\": 0, \"easing\": \"linear\"}}], \"label\": \"2009\", \"method\": \"animate\"}, {\"args\": [[\"2010\"], {\"frame\": {\"duration\": 0, \"redraw\": true}, \"fromcurrent\": true, \"mode\": \"immediate\", \"transition\": {\"duration\": 0, \"easing\": \"linear\"}}], \"label\": \"2010\", \"method\": \"animate\"}, {\"args\": [[\"2011\"], {\"frame\": {\"duration\": 0, \"redraw\": true}, \"fromcurrent\": true, \"mode\": \"immediate\", \"transition\": {\"duration\": 0, \"easing\": \"linear\"}}], \"label\": \"2011\", \"method\": \"animate\"}, {\"args\": [[\"2012\"], {\"frame\": {\"duration\": 0, \"redraw\": true}, \"fromcurrent\": true, \"mode\": \"immediate\", \"transition\": {\"duration\": 0, \"easing\": \"linear\"}}], \"label\": \"2012\", \"method\": \"animate\"}, {\"args\": [[\"2013\"], {\"frame\": {\"duration\": 0, \"redraw\": true}, \"fromcurrent\": true, \"mode\": \"immediate\", \"transition\": {\"duration\": 0, \"easing\": \"linear\"}}], \"label\": \"2013\", \"method\": \"animate\"}, {\"args\": [[\"2014\"], {\"frame\": {\"duration\": 0, \"redraw\": true}, \"fromcurrent\": true, \"mode\": \"immediate\", \"transition\": {\"duration\": 0, \"easing\": \"linear\"}}], \"label\": \"2014\", \"method\": \"animate\"}, {\"args\": [[\"2015\"], {\"frame\": {\"duration\": 0, \"redraw\": true}, \"fromcurrent\": true, \"mode\": \"immediate\", \"transition\": {\"duration\": 0, \"easing\": \"linear\"}}], \"label\": \"2015\", \"method\": \"animate\"}, {\"args\": [[\"2016\"], {\"frame\": {\"duration\": 0, \"redraw\": true}, \"fromcurrent\": true, \"mode\": \"immediate\", \"transition\": {\"duration\": 0, \"easing\": \"linear\"}}], \"label\": \"2016\", \"method\": \"animate\"}, {\"args\": [[\"2017\"], {\"frame\": {\"duration\": 0, \"redraw\": true}, \"fromcurrent\": true, \"mode\": \"immediate\", \"transition\": {\"duration\": 0, \"easing\": \"linear\"}}], \"label\": \"2017\", \"method\": \"animate\"}, {\"args\": [[\"2018\"], {\"frame\": {\"duration\": 0, \"redraw\": true}, \"fromcurrent\": true, \"mode\": \"immediate\", \"transition\": {\"duration\": 0, \"easing\": \"linear\"}}], \"label\": \"2018\", \"method\": \"animate\"}, {\"args\": [[\"2019\"], {\"frame\": {\"duration\": 0, \"redraw\": true}, \"fromcurrent\": true, \"mode\": \"immediate\", \"transition\": {\"duration\": 0, \"easing\": \"linear\"}}], \"label\": \"2019\", \"method\": \"animate\"}, {\"args\": [[\"2020\"], {\"frame\": {\"duration\": 0, \"redraw\": true}, \"fromcurrent\": true, \"mode\": \"immediate\", \"transition\": {\"duration\": 0, \"easing\": \"linear\"}}], \"label\": \"2020\", \"method\": \"animate\"}], \"x\": 0.1, \"xanchor\": \"left\", \"y\": 0, \"yanchor\": \"top\"}], \"template\": {\"data\": {\"bar\": [{\"error_x\": {\"color\": \"#2a3f5f\"}, \"error_y\": {\"color\": \"#2a3f5f\"}, \"marker\": {\"line\": {\"color\": \"#E5ECF6\", \"width\": 0.5}}, \"type\": \"bar\"}], \"barpolar\": [{\"marker\": {\"line\": {\"color\": \"#E5ECF6\", \"width\": 0.5}}, \"type\": \"barpolar\"}], \"carpet\": [{\"aaxis\": {\"endlinecolor\": \"#2a3f5f\", \"gridcolor\": \"white\", \"linecolor\": \"white\", \"minorgridcolor\": \"white\", \"startlinecolor\": \"#2a3f5f\"}, \"baxis\": {\"endlinecolor\": \"#2a3f5f\", \"gridcolor\": \"white\", \"linecolor\": \"white\", \"minorgridcolor\": \"white\", \"startlinecolor\": \"#2a3f5f\"}, \"type\": \"carpet\"}], \"choropleth\": [{\"colorbar\": {\"outlinewidth\": 0, \"ticks\": \"\"}, \"type\": \"choropleth\"}], \"contour\": [{\"colorbar\": {\"outlinewidth\": 0, \"ticks\": \"\"}, \"colorscale\": [[0.0, \"#0d0887\"], [0.1111111111111111, \"#46039f\"], [0.2222222222222222, \"#7201a8\"], [0.3333333333333333, \"#9c179e\"], [0.4444444444444444, \"#bd3786\"], [0.5555555555555556, \"#d8576b\"], [0.6666666666666666, \"#ed7953\"], [0.7777777777777778, \"#fb9f3a\"], [0.8888888888888888, \"#fdca26\"], [1.0, \"#f0f921\"]], \"type\": \"contour\"}], \"contourcarpet\": [{\"colorbar\": {\"outlinewidth\": 0, \"ticks\": \"\"}, \"type\": \"contourcarpet\"}], \"heatmap\": [{\"colorbar\": {\"outlinewidth\": 0, \"ticks\": \"\"}, \"colorscale\": [[0.0, \"#0d0887\"], [0.1111111111111111, \"#46039f\"], [0.2222222222222222, \"#7201a8\"], [0.3333333333333333, \"#9c179e\"], [0.4444444444444444, \"#bd3786\"], [0.5555555555555556, \"#d8576b\"], [0.6666666666666666, \"#ed7953\"], [0.7777777777777778, \"#fb9f3a\"], [0.8888888888888888, \"#fdca26\"], [1.0, \"#f0f921\"]], \"type\": \"heatmap\"}], \"heatmapgl\": [{\"colorbar\": {\"outlinewidth\": 0, \"ticks\": \"\"}, \"colorscale\": [[0.0, \"#0d0887\"], [0.1111111111111111, \"#46039f\"], [0.2222222222222222, \"#7201a8\"], [0.3333333333333333, \"#9c179e\"], [0.4444444444444444, \"#bd3786\"], [0.5555555555555556, \"#d8576b\"], [0.6666666666666666, \"#ed7953\"], [0.7777777777777778, \"#fb9f3a\"], [0.8888888888888888, \"#fdca26\"], [1.0, \"#f0f921\"]], \"type\": \"heatmapgl\"}], \"histogram\": [{\"marker\": {\"colorbar\": {\"outlinewidth\": 0, \"ticks\": \"\"}}, \"type\": \"histogram\"}], \"histogram2d\": [{\"colorbar\": {\"outlinewidth\": 0, \"ticks\": \"\"}, \"colorscale\": [[0.0, \"#0d0887\"], [0.1111111111111111, \"#46039f\"], [0.2222222222222222, \"#7201a8\"], [0.3333333333333333, \"#9c179e\"], [0.4444444444444444, \"#bd3786\"], [0.5555555555555556, \"#d8576b\"], [0.6666666666666666, \"#ed7953\"], [0.7777777777777778, \"#fb9f3a\"], [0.8888888888888888, \"#fdca26\"], [1.0, \"#f0f921\"]], \"type\": \"histogram2d\"}], \"histogram2dcontour\": [{\"colorbar\": {\"outlinewidth\": 0, \"ticks\": \"\"}, \"colorscale\": [[0.0, \"#0d0887\"], [0.1111111111111111, \"#46039f\"], [0.2222222222222222, \"#7201a8\"], [0.3333333333333333, \"#9c179e\"], [0.4444444444444444, \"#bd3786\"], [0.5555555555555556, \"#d8576b\"], [0.6666666666666666, \"#ed7953\"], [0.7777777777777778, \"#fb9f3a\"], [0.8888888888888888, \"#fdca26\"], [1.0, \"#f0f921\"]], \"type\": \"histogram2dcontour\"}], \"mesh3d\": [{\"colorbar\": {\"outlinewidth\": 0, \"ticks\": \"\"}, \"type\": \"mesh3d\"}], \"parcoords\": [{\"line\": {\"colorbar\": {\"outlinewidth\": 0, \"ticks\": \"\"}}, \"type\": \"parcoords\"}], \"pie\": [{\"automargin\": true, \"type\": \"pie\"}], \"scatter\": [{\"marker\": {\"colorbar\": {\"outlinewidth\": 0, \"ticks\": \"\"}}, \"type\": \"scatter\"}], \"scatter3d\": [{\"line\": {\"colorbar\": {\"outlinewidth\": 0, \"ticks\": \"\"}}, \"marker\": {\"colorbar\": {\"outlinewidth\": 0, \"ticks\": \"\"}}, \"type\": \"scatter3d\"}], \"scattercarpet\": [{\"marker\": {\"colorbar\": {\"outlinewidth\": 0, \"ticks\": \"\"}}, \"type\": \"scattercarpet\"}], \"scattergeo\": [{\"marker\": {\"colorbar\": {\"outlinewidth\": 0, \"ticks\": \"\"}}, \"type\": \"scattergeo\"}], \"scattergl\": [{\"marker\": {\"colorbar\": {\"outlinewidth\": 0, \"ticks\": \"\"}}, \"type\": \"scattergl\"}], \"scattermapbox\": [{\"marker\": {\"colorbar\": {\"outlinewidth\": 0, \"ticks\": \"\"}}, \"type\": \"scattermapbox\"}], \"scatterpolar\": [{\"marker\": {\"colorbar\": {\"outlinewidth\": 0, \"ticks\": \"\"}}, \"type\": \"scatterpolar\"}], \"scatterpolargl\": [{\"marker\": {\"colorbar\": {\"outlinewidth\": 0, \"ticks\": \"\"}}, \"type\": \"scatterpolargl\"}], \"scatterternary\": [{\"marker\": {\"colorbar\": {\"outlinewidth\": 0, \"ticks\": \"\"}}, \"type\": \"scatterternary\"}], \"surface\": [{\"colorbar\": {\"outlinewidth\": 0, \"ticks\": \"\"}, \"colorscale\": [[0.0, \"#0d0887\"], [0.1111111111111111, \"#46039f\"], [0.2222222222222222, \"#7201a8\"], [0.3333333333333333, \"#9c179e\"], [0.4444444444444444, \"#bd3786\"], [0.5555555555555556, \"#d8576b\"], [0.6666666666666666, \"#ed7953\"], [0.7777777777777778, \"#fb9f3a\"], [0.8888888888888888, \"#fdca26\"], [1.0, \"#f0f921\"]], \"type\": \"surface\"}], \"table\": [{\"cells\": {\"fill\": {\"color\": \"#EBF0F8\"}, \"line\": {\"color\": \"white\"}}, \"header\": {\"fill\": {\"color\": \"#C8D4E3\"}, \"line\": {\"color\": \"white\"}}, \"type\": \"table\"}]}, \"layout\": {\"annotationdefaults\": {\"arrowcolor\": \"#2a3f5f\", \"arrowhead\": 0, \"arrowwidth\": 1}, \"autotypenumbers\": \"strict\", \"coloraxis\": {\"colorbar\": {\"outlinewidth\": 0, \"ticks\": \"\"}}, \"colorscale\": {\"diverging\": [[0, \"#8e0152\"], [0.1, \"#c51b7d\"], [0.2, \"#de77ae\"], [0.3, \"#f1b6da\"], [0.4, \"#fde0ef\"], [0.5, \"#f7f7f7\"], [0.6, \"#e6f5d0\"], [0.7, \"#b8e186\"], [0.8, \"#7fbc41\"], [0.9, \"#4d9221\"], [1, \"#276419\"]], \"sequential\": [[0.0, \"#0d0887\"], [0.1111111111111111, \"#46039f\"], [0.2222222222222222, \"#7201a8\"], [0.3333333333333333, \"#9c179e\"], [0.4444444444444444, \"#bd3786\"], [0.5555555555555556, \"#d8576b\"], [0.6666666666666666, \"#ed7953\"], [0.7777777777777778, \"#fb9f3a\"], [0.8888888888888888, \"#fdca26\"], [1.0, \"#f0f921\"]], \"sequentialminus\": [[0.0, \"#0d0887\"], [0.1111111111111111, \"#46039f\"], [0.2222222222222222, \"#7201a8\"], [0.3333333333333333, \"#9c179e\"], [0.4444444444444444, \"#bd3786\"], [0.5555555555555556, \"#d8576b\"], [0.6666666666666666, \"#ed7953\"], [0.7777777777777778, \"#fb9f3a\"], [0.8888888888888888, \"#fdca26\"], [1.0, \"#f0f921\"]]}, \"colorway\": [\"#636efa\", \"#EF553B\", \"#00cc96\", \"#ab63fa\", \"#FFA15A\", \"#19d3f3\", \"#FF6692\", \"#B6E880\", \"#FF97FF\", \"#FECB52\"], \"font\": {\"color\": \"#2a3f5f\"}, \"geo\": {\"bgcolor\": \"white\", \"lakecolor\": \"white\", \"landcolor\": \"#E5ECF6\", \"showlakes\": true, \"showland\": true, \"subunitcolor\": \"white\"}, \"hoverlabel\": {\"align\": \"left\"}, \"hovermode\": \"closest\", \"mapbox\": {\"style\": \"light\"}, \"paper_bgcolor\": \"white\", \"plot_bgcolor\": \"#E5ECF6\", \"polar\": {\"angularaxis\": {\"gridcolor\": \"white\", \"linecolor\": \"white\", \"ticks\": \"\"}, \"bgcolor\": \"#E5ECF6\", \"radialaxis\": {\"gridcolor\": \"white\", \"linecolor\": \"white\", \"ticks\": \"\"}}, \"scene\": {\"xaxis\": {\"backgroundcolor\": \"#E5ECF6\", \"gridcolor\": \"white\", \"gridwidth\": 2, \"linecolor\": \"white\", \"showbackground\": true, \"ticks\": \"\", \"zerolinecolor\": \"white\"}, \"yaxis\": {\"backgroundcolor\": \"#E5ECF6\", \"gridcolor\": \"white\", \"gridwidth\": 2, \"linecolor\": \"white\", \"showbackground\": true, \"ticks\": \"\", \"zerolinecolor\": \"white\"}, \"zaxis\": {\"backgroundcolor\": \"#E5ECF6\", \"gridcolor\": \"white\", \"gridwidth\": 2, \"linecolor\": \"white\", \"showbackground\": true, \"ticks\": \"\", \"zerolinecolor\": \"white\"}}, \"shapedefaults\": {\"line\": {\"color\": \"#2a3f5f\"}}, \"ternary\": {\"aaxis\": {\"gridcolor\": \"white\", \"linecolor\": \"white\", \"ticks\": \"\"}, \"baxis\": {\"gridcolor\": \"white\", \"linecolor\": \"white\", \"ticks\": \"\"}, \"bgcolor\": \"#E5ECF6\", \"caxis\": {\"gridcolor\": \"white\", \"linecolor\": \"white\", \"ticks\": \"\"}}, \"title\": {\"x\": 0.05}, \"xaxis\": {\"automargin\": true, \"gridcolor\": \"white\", \"linecolor\": \"white\", \"ticks\": \"\", \"title\": {\"standoff\": 15}, \"zerolinecolor\": \"white\", \"zerolinewidth\": 2}, \"yaxis\": {\"automargin\": true, \"gridcolor\": \"white\", \"linecolor\": \"white\", \"ticks\": \"\", \"title\": {\"standoff\": 15}, \"zerolinecolor\": \"white\", \"zerolinewidth\": 2}}}, \"title\": {\"text\": \"Senate Majority by State: 1989-2020\"}, \"updatemenus\": [{\"buttons\": [{\"args\": [null, {\"frame\": {\"duration\": 500, \"redraw\": true}, \"fromcurrent\": true, \"mode\": \"immediate\", \"transition\": {\"duration\": 500, \"easing\": \"linear\"}}], \"label\": \"&#9654;\", \"method\": \"animate\"}, {\"args\": [[null], {\"frame\": {\"duration\": 0, \"redraw\": true}, \"fromcurrent\": true, \"mode\": \"immediate\", \"transition\": {\"duration\": 0, \"easing\": \"linear\"}}], \"label\": \"&#9724;\", \"method\": \"animate\"}], \"direction\": \"left\", \"pad\": {\"r\": 10, \"t\": 70}, \"showactive\": false, \"type\": \"buttons\", \"x\": 0.1, \"xanchor\": \"right\", \"y\": 0, \"yanchor\": \"top\"}]},                        {\"responsive\": true}                    ).then(function(){\n",
       "                            Plotly.addFrames('d5bc48bc-53f8-4807-a31c-9423b933357e', [{\"data\": [{\"colorscale\": [[0.0, \"red\"], [1.0, \"red\"]], \"geo\": \"geo\", \"hovertemplate\": \"color=Republican<br>animation_frame=1989<br>locations=%{location}<extra></extra>\", \"locationmode\": \"USA-states\", \"locations\": [\"AK\", \"ID\", \"IN\", \"KS\", \"MN\", \"MO\", \"MS\", \"NH\", \"OR\", \"PA\", \"UT\", \"WY\"], \"name\": \"Republican\", \"showlegend\": true, \"showscale\": false, \"z\": [1, 1, 1, 1, 1, 1, 1, 1, 1, 1, 1, 1], \"type\": \"choropleth\"}, {\"colorscale\": [[0.0, \"gray\"], [1.0, \"gray\"]], \"geo\": \"geo\", \"hovertemplate\": \"color=Tie<br>animation_frame=1989<br>locations=%{location}<extra></extra>\", \"locationmode\": \"USA-states\", \"locations\": [\"AL\", \"AL\", \"AZ\", \"AZ\", \"CA\", \"CA\", \"CO\", \"CO\", \"DE\", \"DE\", \"FL\", \"FL\", \"IA\", \"IA\", \"KY\", \"KY\", \"ME\", \"ME\", \"MT\", \"MT\", \"NC\", \"NC\", \"NM\", \"NM\", \"NULL\", \"NY\", \"NY\", \"OK\", \"OK\", \"RI\", \"RI\", \"SC\", \"SC\", \"SD\", \"SD\", \"TN\", \"TX\", \"TX\", \"VA\", \"VA\", \"VT\", \"VT\", \"WA\", \"WA\", \"WI\", \"WI\"], \"name\": \"Tie\", \"showlegend\": true, \"showscale\": false, \"z\": [1, 1, 1, 1, 1, 1, 1, 1, 1, 1, 1, 1, 1, 1, 1, 1, 1, 1, 1, 1, 1, 1, 1, 1, 1, 1, 1, 1, 1, 1, 1, 1, 1, 1, 1, 1, 1, 1, 1, 1, 1, 1, 1, 1, 1, 1], \"type\": \"choropleth\"}, {\"colorscale\": [[0.0, \"blue\"], [1.0, \"blue\"]], \"geo\": \"geo\", \"hovertemplate\": \"color=Democrat<br>animation_frame=1989<br>locations=%{location}<extra></extra>\", \"locationmode\": \"USA-states\", \"locations\": [\"AR\", \"CT\", \"GA\", \"HI\", \"IL\", \"LA\", \"MA\", \"MD\", \"MI\", \"ND\", \"NE\", \"NJ\", \"NV\", \"OH\", \"WV\"], \"name\": \"Democrat\", \"showlegend\": true, \"showscale\": false, \"z\": [1, 1, 1, 1, 1, 1, 1, 1, 1, 1, 1, 1, 1, 1, 1], \"type\": \"choropleth\"}], \"name\": \"1989\"}, {\"data\": [{\"colorscale\": [[0.0, \"red\"], [1.0, \"red\"]], \"geo\": \"geo\", \"hovertemplate\": \"color=Republican<br>animation_frame=1990<br>locations=%{location}<extra></extra>\", \"locationmode\": \"USA-states\", \"locations\": [\"AK\", \"ID\", \"IN\", \"KS\", \"MN\", \"MO\", \"MS\", \"NH\", \"OR\", \"PA\", \"UT\", \"WY\"], \"name\": \"Republican\", \"showlegend\": true, \"showscale\": false, \"z\": [1, 1, 1, 1, 1, 1, 1, 1, 1, 1, 1, 1], \"type\": \"choropleth\"}, {\"colorscale\": [[0.0, \"gray\"], [1.0, \"gray\"]], \"geo\": \"geo\", \"hovertemplate\": \"color=Tie<br>animation_frame=1990<br>locations=%{location}<extra></extra>\", \"locationmode\": \"USA-states\", \"locations\": [\"AL\", \"AL\", \"AZ\", \"AZ\", \"CA\", \"CA\", \"CO\", \"CO\", \"DE\", \"DE\", \"FL\", \"FL\", \"IA\", \"IA\", \"KY\", \"KY\", \"ME\", \"ME\", \"MT\", \"MT\", \"NC\", \"NC\", \"NM\", \"NM\", \"NULL\", \"NY\", \"NY\", \"OK\", \"OK\", \"RI\", \"RI\", \"SC\", \"SC\", \"SD\", \"SD\", \"TN\", \"TX\", \"TX\", \"VA\", \"VA\", \"VT\", \"VT\", \"WA\", \"WA\", \"WI\", \"WI\"], \"name\": \"Tie\", \"showlegend\": true, \"showscale\": false, \"z\": [1, 1, 1, 1, 1, 1, 1, 1, 1, 1, 1, 1, 1, 1, 1, 1, 1, 1, 1, 1, 1, 1, 1, 1, 1, 1, 1, 1, 1, 1, 1, 1, 1, 1, 1, 1, 1, 1, 1, 1, 1, 1, 1, 1, 1, 1], \"type\": \"choropleth\"}, {\"colorscale\": [[0.0, \"blue\"], [1.0, \"blue\"]], \"geo\": \"geo\", \"hovertemplate\": \"color=Democrat<br>animation_frame=1990<br>locations=%{location}<extra></extra>\", \"locationmode\": \"USA-states\", \"locations\": [\"AR\", \"CT\", \"GA\", \"HI\", \"IL\", \"LA\", \"MA\", \"MD\", \"MI\", \"ND\", \"NE\", \"NJ\", \"NV\", \"OH\", \"WV\"], \"name\": \"Democrat\", \"showlegend\": true, \"showscale\": false, \"z\": [1, 1, 1, 1, 1, 1, 1, 1, 1, 1, 1, 1, 1, 1, 1], \"type\": \"choropleth\"}], \"name\": \"1990\"}, {\"data\": [{\"colorscale\": [[0.0, \"red\"], [1.0, \"red\"]], \"geo\": \"geo\", \"hovertemplate\": \"color=Republican<br>animation_frame=1991<br>locations=%{location}<extra></extra>\", \"locationmode\": \"USA-states\", \"locations\": [\"AK\", \"ID\", \"IN\", \"KS\", \"MO\", \"MS\", \"NH\", \"OR\", \"PA\", \"UT\", \"WY\"], \"name\": \"Republican\", \"showlegend\": true, \"showscale\": false, \"z\": [1, 1, 1, 1, 1, 1, 1, 1, 1, 1, 1], \"type\": \"choropleth\"}, {\"colorscale\": [[0.0, \"gray\"], [1.0, \"gray\"]], \"geo\": \"geo\", \"hovertemplate\": \"color=Tie<br>animation_frame=1991<br>locations=%{location}<extra></extra>\", \"locationmode\": \"USA-states\", \"locations\": [\"AL\", \"AL\", \"AZ\", \"AZ\", \"CA\", \"CA\", \"CO\", \"CO\", \"DE\", \"DE\", \"FL\", \"FL\", \"IA\", \"IA\", \"KY\", \"KY\", \"ME\", \"ME\", \"MN\", \"MN\", \"MT\", \"MT\", \"NC\", \"NC\", \"NM\", \"NM\", \"NULL\", \"NY\", \"NY\", \"OK\", \"OK\", \"RI\", \"RI\", \"SC\", \"SC\", \"SD\", \"SD\", \"TN\", \"TX\", \"TX\", \"VA\", \"VA\", \"VT\", \"VT\", \"WA\", \"WA\", \"WI\", \"WI\"], \"name\": \"Tie\", \"showlegend\": true, \"showscale\": false, \"z\": [1, 1, 1, 1, 1, 1, 1, 1, 1, 1, 1, 1, 1, 1, 1, 1, 1, 1, 1, 1, 1, 1, 1, 1, 1, 1, 1, 1, 1, 1, 1, 1, 1, 1, 1, 1, 1, 1, 1, 1, 1, 1, 1, 1, 1, 1, 1, 1], \"type\": \"choropleth\"}, {\"colorscale\": [[0.0, \"blue\"], [1.0, \"blue\"]], \"geo\": \"geo\", \"hovertemplate\": \"color=Democrat<br>animation_frame=1991<br>locations=%{location}<extra></extra>\", \"locationmode\": \"USA-states\", \"locations\": [\"AR\", \"CT\", \"GA\", \"HI\", \"IL\", \"LA\", \"MA\", \"MD\", \"MI\", \"ND\", \"NE\", \"NJ\", \"NV\", \"OH\", \"WV\"], \"name\": \"Democrat\", \"showlegend\": true, \"showscale\": false, \"z\": [1, 1, 1, 1, 1, 1, 1, 1, 1, 1, 1, 1, 1, 1, 1], \"type\": \"choropleth\"}], \"name\": \"1991\"}, {\"data\": [{\"colorscale\": [[0.0, \"red\"], [1.0, \"red\"]], \"geo\": \"geo\", \"hovertemplate\": \"color=Republican<br>animation_frame=1992<br>locations=%{location}<extra></extra>\", \"locationmode\": \"USA-states\", \"locations\": [\"AK\", \"ID\", \"IN\", \"KS\", \"MO\", \"MS\", \"NH\", \"OR\", \"UT\", \"WY\"], \"name\": \"Republican\", \"showlegend\": true, \"showscale\": false, \"z\": [1, 1, 1, 1, 1, 1, 1, 1, 1, 1], \"type\": \"choropleth\"}, {\"colorscale\": [[0.0, \"gray\"], [1.0, \"gray\"]], \"geo\": \"geo\", \"hovertemplate\": \"color=Tie<br>animation_frame=1992<br>locations=%{location}<extra></extra>\", \"locationmode\": \"USA-states\", \"locations\": [\"AL\", \"AL\", \"AZ\", \"AZ\", \"CA\", \"CA\", \"CO\", \"CO\", \"DE\", \"DE\", \"FL\", \"FL\", \"IA\", \"IA\", \"KY\", \"KY\", \"ME\", \"ME\", \"MN\", \"MN\", \"MT\", \"MT\", \"NC\", \"NC\", \"NM\", \"NM\", \"NULL\", \"NY\", \"NY\", \"OK\", \"OK\", \"PA\", \"PA\", \"RI\", \"RI\", \"SC\", \"SC\", \"SD\", \"SD\", \"TN\", \"TX\", \"TX\", \"VA\", \"VA\", \"VT\", \"VT\", \"WA\", \"WA\", \"WI\", \"WI\"], \"name\": \"Tie\", \"showlegend\": true, \"showscale\": false, \"z\": [1, 1, 1, 1, 1, 1, 1, 1, 1, 1, 1, 1, 1, 1, 1, 1, 1, 1, 1, 1, 1, 1, 1, 1, 1, 1, 1, 1, 1, 1, 1, 1, 1, 1, 1, 1, 1, 1, 1, 1, 1, 1, 1, 1, 1, 1, 1, 1, 1, 1], \"type\": \"choropleth\"}, {\"colorscale\": [[0.0, \"blue\"], [1.0, \"blue\"]], \"geo\": \"geo\", \"hovertemplate\": \"color=Democrat<br>animation_frame=1992<br>locations=%{location}<extra></extra>\", \"locationmode\": \"USA-states\", \"locations\": [\"AR\", \"CT\", \"GA\", \"HI\", \"IL\", \"LA\", \"MA\", \"MD\", \"MI\", \"ND\", \"NE\", \"NJ\", \"NV\", \"OH\", \"WV\"], \"name\": \"Democrat\", \"showlegend\": true, \"showscale\": false, \"z\": [1, 1, 1, 1, 1, 1, 1, 1, 1, 1, 1, 1, 1, 1, 1], \"type\": \"choropleth\"}], \"name\": \"1992\"}, {\"data\": [{\"colorscale\": [[0.0, \"red\"], [1.0, \"red\"]], \"geo\": \"geo\", \"hovertemplate\": \"color=Republican<br>animation_frame=1993<br>locations=%{location}<extra></extra>\", \"locationmode\": \"USA-states\", \"locations\": [\"AK\", \"CO\", \"ID\", \"IN\", \"KS\", \"MO\", \"MS\", \"NC\", \"NH\", \"OR\", \"TX\", \"UT\", \"WY\"], \"name\": \"Republican\", \"showlegend\": true, \"showscale\": false, \"z\": [1, 1, 1, 1, 1, 1, 1, 1, 1, 1, 1, 1, 1], \"type\": \"choropleth\"}, {\"colorscale\": [[0.0, \"gray\"], [1.0, \"gray\"]], \"geo\": \"geo\", \"hovertemplate\": \"color=Tie<br>animation_frame=1993<br>locations=%{location}<extra></extra>\", \"locationmode\": \"USA-states\", \"locations\": [\"AL\", \"AL\", \"AZ\", \"AZ\", \"DE\", \"DE\", \"FL\", \"FL\", \"GA\", \"GA\", \"IA\", \"IA\", \"KY\", \"KY\", \"ME\", \"ME\", \"MN\", \"MN\", \"MT\", \"MT\", \"NM\", \"NM\", \"NULL\", \"NY\", \"NY\", \"OK\", \"OK\", \"PA\", \"PA\", \"RI\", \"RI\", \"SC\", \"SC\", \"SD\", \"SD\", \"VA\", \"VA\", \"VT\", \"VT\", \"WA\", \"WA\"], \"name\": \"Tie\", \"showlegend\": true, \"showscale\": false, \"z\": [1, 1, 1, 1, 1, 1, 1, 1, 1, 1, 1, 1, 1, 1, 1, 1, 1, 1, 1, 1, 1, 1, 1, 1, 1, 1, 1, 1, 1, 1, 1, 1, 1, 1, 1, 1, 1, 1, 1, 1, 1], \"type\": \"choropleth\"}, {\"colorscale\": [[0.0, \"blue\"], [1.0, \"blue\"]], \"geo\": \"geo\", \"hovertemplate\": \"color=Democrat<br>animation_frame=1993<br>locations=%{location}<extra></extra>\", \"locationmode\": \"USA-states\", \"locations\": [\"AR\", \"CA\", \"CT\", \"HI\", \"IL\", \"LA\", \"MA\", \"MD\", \"MI\", \"ND\", \"NE\", \"NJ\", \"NV\", \"OH\", \"TN\", \"WI\", \"WV\"], \"name\": \"Democrat\", \"showlegend\": true, \"showscale\": false, \"z\": [1, 1, 1, 1, 1, 1, 1, 1, 1, 1, 1, 1, 1, 1, 1, 1, 1], \"type\": \"choropleth\"}], \"name\": \"1993\"}, {\"data\": [{\"colorscale\": [[0.0, \"red\"], [1.0, \"red\"]], \"geo\": \"geo\", \"hovertemplate\": \"color=Republican<br>animation_frame=1994<br>locations=%{location}<extra></extra>\", \"locationmode\": \"USA-states\", \"locations\": [\"AK\", \"CO\", \"ID\", \"IN\", \"KS\", \"MO\", \"MS\", \"NC\", \"NH\", \"OK\", \"OR\", \"TX\", \"UT\", \"WY\"], \"name\": \"Republican\", \"showlegend\": true, \"showscale\": false, \"z\": [1, 1, 1, 1, 1, 1, 1, 1, 1, 1, 1, 1, 1, 1], \"type\": \"choropleth\"}, {\"colorscale\": [[0.0, \"gray\"], [1.0, \"gray\"]], \"geo\": \"geo\", \"hovertemplate\": \"color=Tie<br>animation_frame=1994<br>locations=%{location}<extra></extra>\", \"locationmode\": \"USA-states\", \"locations\": [\"AL\", \"AL\", \"AZ\", \"AZ\", \"DE\", \"DE\", \"FL\", \"FL\", \"GA\", \"GA\", \"IA\", \"IA\", \"KY\", \"KY\", \"ME\", \"ME\", \"MN\", \"MN\", \"MT\", \"MT\", \"NM\", \"NM\", \"NULL\", \"NY\", \"NY\", \"PA\", \"PA\", \"RI\", \"RI\", \"SC\", \"SC\", \"SD\", \"SD\", \"VA\", \"VA\", \"VT\", \"VT\", \"WA\", \"WA\"], \"name\": \"Tie\", \"showlegend\": true, \"showscale\": false, \"z\": [1, 1, 1, 1, 1, 1, 1, 1, 1, 1, 1, 1, 1, 1, 1, 1, 1, 1, 1, 1, 1, 1, 1, 1, 1, 1, 1, 1, 1, 1, 1, 1, 1, 1, 1, 1, 1, 1, 1], \"type\": \"choropleth\"}, {\"colorscale\": [[0.0, \"blue\"], [1.0, \"blue\"]], \"geo\": \"geo\", \"hovertemplate\": \"color=Democrat<br>animation_frame=1994<br>locations=%{location}<extra></extra>\", \"locationmode\": \"USA-states\", \"locations\": [\"AR\", \"CA\", \"CT\", \"HI\", \"IL\", \"LA\", \"MA\", \"MD\", \"MI\", \"ND\", \"NE\", \"NJ\", \"NV\", \"OH\", \"TN\", \"WI\", \"WV\"], \"name\": \"Democrat\", \"showlegend\": true, \"showscale\": false, \"z\": [1, 1, 1, 1, 1, 1, 1, 1, 1, 1, 1, 1, 1, 1, 1, 1, 1], \"type\": \"choropleth\"}], \"name\": \"1994\"}, {\"data\": [{\"colorscale\": [[0.0, \"red\"], [1.0, \"red\"]], \"geo\": \"geo\", \"hovertemplate\": \"color=Republican<br>animation_frame=1995<br>locations=%{location}<extra></extra>\", \"locationmode\": \"USA-states\", \"locations\": [\"AK\", \"AZ\", \"CO\", \"ID\", \"IN\", \"KS\", \"ME\", \"MO\", \"MS\", \"NC\", \"NH\", \"OK\", \"OR\", \"PA\", \"TN\", \"TX\", \"UT\", \"WY\"], \"name\": \"Republican\", \"showlegend\": true, \"showscale\": false, \"z\": [1, 1, 1, 1, 1, 1, 1, 1, 1, 1, 1, 1, 1, 1, 1, 1, 1, 1], \"type\": \"choropleth\"}, {\"colorscale\": [[0.0, \"gray\"], [1.0, \"gray\"]], \"geo\": \"geo\", \"hovertemplate\": \"color=Tie<br>animation_frame=1995<br>locations=%{location}<extra></extra>\", \"locationmode\": \"USA-states\", \"locations\": [\"AL\", \"AL\", \"DE\", \"DE\", \"FL\", \"FL\", \"GA\", \"GA\", \"IA\", \"IA\", \"KY\", \"KY\", \"MI\", \"MI\", \"MN\", \"MN\", \"MT\", \"MT\", \"NM\", \"NM\", \"NY\", \"NY\", \"OH\", \"OH\", \"RI\", \"RI\", \"SC\", \"SC\", \"SD\", \"SD\", \"VA\", \"VA\", \"VT\", \"VT\", \"WA\", \"WA\"], \"name\": \"Tie\", \"showlegend\": true, \"showscale\": false, \"z\": [1, 1, 1, 1, 1, 1, 1, 1, 1, 1, 1, 1, 1, 1, 1, 1, 1, 1, 1, 1, 1, 1, 1, 1, 1, 1, 1, 1, 1, 1, 1, 1, 1, 1, 1, 1], \"type\": \"choropleth\"}, {\"colorscale\": [[0.0, \"blue\"], [1.0, \"blue\"]], \"geo\": \"geo\", \"hovertemplate\": \"color=Democrat<br>animation_frame=1995<br>locations=%{location}<extra></extra>\", \"locationmode\": \"USA-states\", \"locations\": [\"AR\", \"CA\", \"CT\", \"HI\", \"IL\", \"LA\", \"MA\", \"MD\", \"ND\", \"NE\", \"NJ\", \"NV\", \"WI\", \"WV\"], \"name\": \"Democrat\", \"showlegend\": true, \"showscale\": false, \"z\": [1, 1, 1, 1, 1, 1, 1, 1, 1, 1, 1, 1, 1, 1], \"type\": \"choropleth\"}], \"name\": \"1995\"}, {\"data\": [{\"colorscale\": [[0.0, \"red\"], [1.0, \"red\"]], \"geo\": \"geo\", \"hovertemplate\": \"color=Republican<br>animation_frame=1996<br>locations=%{location}<extra></extra>\", \"locationmode\": \"USA-states\", \"locations\": [\"AK\", \"AZ\", \"CO\", \"ID\", \"IN\", \"KS\", \"ME\", \"MO\", \"MS\", \"NC\", \"NH\", \"OK\", \"PA\", \"TN\", \"TX\", \"UT\", \"WY\"], \"name\": \"Republican\", \"showlegend\": true, \"showscale\": false, \"z\": [1, 1, 1, 1, 1, 1, 1, 1, 1, 1, 1, 1, 1, 1, 1, 1, 1], \"type\": \"choropleth\"}, {\"colorscale\": [[0.0, \"gray\"], [1.0, \"gray\"]], \"geo\": \"geo\", \"hovertemplate\": \"color=Tie<br>animation_frame=1996<br>locations=%{location}<extra></extra>\", \"locationmode\": \"USA-states\", \"locations\": [\"AL\", \"AL\", \"DE\", \"DE\", \"FL\", \"FL\", \"GA\", \"GA\", \"IA\", \"IA\", \"KY\", \"KY\", \"MI\", \"MI\", \"MN\", \"MN\", \"MT\", \"MT\", \"NM\", \"NM\", \"NY\", \"NY\", \"OH\", \"OH\", \"OR\", \"OR\", \"RI\", \"RI\", \"SC\", \"SC\", \"SD\", \"SD\", \"VA\", \"VA\", \"VT\", \"VT\", \"WA\", \"WA\"], \"name\": \"Tie\", \"showlegend\": true, \"showscale\": false, \"z\": [1, 1, 1, 1, 1, 1, 1, 1, 1, 1, 1, 1, 1, 1, 1, 1, 1, 1, 1, 1, 1, 1, 1, 1, 1, 1, 1, 1, 1, 1, 1, 1, 1, 1, 1, 1, 1, 1], \"type\": \"choropleth\"}, {\"colorscale\": [[0.0, \"blue\"], [1.0, \"blue\"]], \"geo\": \"geo\", \"hovertemplate\": \"color=Democrat<br>animation_frame=1996<br>locations=%{location}<extra></extra>\", \"locationmode\": \"USA-states\", \"locations\": [\"AR\", \"CA\", \"CT\", \"HI\", \"IL\", \"LA\", \"MA\", \"MD\", \"ND\", \"NE\", \"NJ\", \"NV\", \"WI\", \"WV\"], \"name\": \"Democrat\", \"showlegend\": true, \"showscale\": false, \"z\": [1, 1, 1, 1, 1, 1, 1, 1, 1, 1, 1, 1, 1, 1], \"type\": \"choropleth\"}], \"name\": \"1996\"}, {\"data\": [{\"colorscale\": [[0.0, \"red\"], [1.0, \"red\"]], \"geo\": \"geo\", \"hovertemplate\": \"color=Republican<br>animation_frame=1997<br>locations=%{location}<extra></extra>\", \"locationmode\": \"USA-states\", \"locations\": [\"AK\", \"AL\", \"AZ\", \"CO\", \"ID\", \"IN\", \"KS\", \"ME\", \"MO\", \"MS\", \"NC\", \"NH\", \"OK\", \"PA\", \"TN\", \"TX\", \"UT\", \"WY\"], \"name\": \"Republican\", \"showlegend\": true, \"showscale\": false, \"z\": [1, 1, 1, 1, 1, 1, 1, 1, 1, 1, 1, 1, 1, 1, 1, 1, 1, 1], \"type\": \"choropleth\"}, {\"colorscale\": [[0.0, \"gray\"], [1.0, \"gray\"]], \"geo\": \"geo\", \"hovertemplate\": \"color=Tie<br>animation_frame=1997<br>locations=%{location}<extra></extra>\", \"locationmode\": \"USA-states\", \"locations\": [\"AR\", \"AR\", \"DE\", \"DE\", \"FL\", \"FL\", \"GA\", \"GA\", \"IA\", \"IA\", \"KY\", \"KY\", \"MI\", \"MI\", \"MN\", \"MN\", \"MT\", \"MT\", \"NE\", \"NE\", \"NM\", \"NM\", \"NY\", \"NY\", \"OH\", \"OH\", \"OR\", \"OR\", \"RI\", \"RI\", \"SC\", \"SC\", \"VA\", \"VA\", \"VT\", \"VT\", \"WA\", \"WA\"], \"name\": \"Tie\", \"showlegend\": true, \"showscale\": false, \"z\": [1, 1, 1, 1, 1, 1, 1, 1, 1, 1, 1, 1, 1, 1, 1, 1, 1, 1, 1, 1, 1, 1, 1, 1, 1, 1, 1, 1, 1, 1, 1, 1, 1, 1, 1, 1, 1, 1], \"type\": \"choropleth\"}, {\"colorscale\": [[0.0, \"blue\"], [1.0, \"blue\"]], \"geo\": \"geo\", \"hovertemplate\": \"color=Democrat<br>animation_frame=1997<br>locations=%{location}<extra></extra>\", \"locationmode\": \"USA-states\", \"locations\": [\"CA\", \"CT\", \"HI\", \"IL\", \"LA\", \"MA\", \"MD\", \"ND\", \"NJ\", \"NV\", \"SD\", \"WI\", \"WV\"], \"name\": \"Democrat\", \"showlegend\": true, \"showscale\": false, \"z\": [1, 1, 1, 1, 1, 1, 1, 1, 1, 1, 1, 1, 1], \"type\": \"choropleth\"}], \"name\": \"1997\"}, {\"data\": [{\"colorscale\": [[0.0, \"red\"], [1.0, \"red\"]], \"geo\": \"geo\", \"hovertemplate\": \"color=Republican<br>animation_frame=1998<br>locations=%{location}<extra></extra>\", \"locationmode\": \"USA-states\", \"locations\": [\"AK\", \"AL\", \"AZ\", \"CO\", \"ID\", \"IN\", \"KS\", \"ME\", \"MO\", \"MS\", \"NC\", \"NH\", \"OK\", \"PA\", \"TN\", \"TX\", \"UT\", \"WY\"], \"name\": \"Republican\", \"showlegend\": true, \"showscale\": false, \"z\": [1, 1, 1, 1, 1, 1, 1, 1, 1, 1, 1, 1, 1, 1, 1, 1, 1, 1], \"type\": \"choropleth\"}, {\"colorscale\": [[0.0, \"gray\"], [1.0, \"gray\"]], \"geo\": \"geo\", \"hovertemplate\": \"color=Tie<br>animation_frame=1998<br>locations=%{location}<extra></extra>\", \"locationmode\": \"USA-states\", \"locations\": [\"AR\", \"AR\", \"DE\", \"DE\", \"FL\", \"FL\", \"GA\", \"GA\", \"IA\", \"IA\", \"KY\", \"KY\", \"MI\", \"MI\", \"MN\", \"MN\", \"MT\", \"MT\", \"NE\", \"NE\", \"NM\", \"NM\", \"NY\", \"NY\", \"OH\", \"OH\", \"OR\", \"OR\", \"RI\", \"RI\", \"SC\", \"SC\", \"VA\", \"VA\", \"VT\", \"VT\", \"WA\", \"WA\"], \"name\": \"Tie\", \"showlegend\": true, \"showscale\": false, \"z\": [1, 1, 1, 1, 1, 1, 1, 1, 1, 1, 1, 1, 1, 1, 1, 1, 1, 1, 1, 1, 1, 1, 1, 1, 1, 1, 1, 1, 1, 1, 1, 1, 1, 1, 1, 1, 1, 1], \"type\": \"choropleth\"}, {\"colorscale\": [[0.0, \"blue\"], [1.0, \"blue\"]], \"geo\": \"geo\", \"hovertemplate\": \"color=Democrat<br>animation_frame=1998<br>locations=%{location}<extra></extra>\", \"locationmode\": \"USA-states\", \"locations\": [\"CA\", \"CT\", \"HI\", \"IL\", \"LA\", \"MA\", \"MD\", \"ND\", \"NJ\", \"NV\", \"SD\", \"WI\", \"WV\"], \"name\": \"Democrat\", \"showlegend\": true, \"showscale\": false, \"z\": [1, 1, 1, 1, 1, 1, 1, 1, 1, 1, 1, 1, 1], \"type\": \"choropleth\"}], \"name\": \"1998\"}, {\"data\": [{\"colorscale\": [[0.0, \"red\"], [1.0, \"red\"]], \"geo\": \"geo\", \"hovertemplate\": \"color=Republican<br>animation_frame=1999<br>locations=%{location}<extra></extra>\", \"locationmode\": \"USA-states\", \"locations\": [\"AK\", \"AL\", \"AZ\", \"CO\", \"ID\", \"KS\", \"KY\", \"ME\", \"MO\", \"MS\", \"NH\", \"OH\", \"OK\", \"PA\", \"RI\", \"TN\", \"TX\", \"UT\", \"WY\"], \"name\": \"Republican\", \"showlegend\": true, \"showscale\": false, \"z\": [1, 1, 1, 1, 1, 1, 1, 1, 1, 1, 1, 1, 1, 1, 1, 1, 1, 1, 1], \"type\": \"choropleth\"}, {\"colorscale\": [[0.0, \"gray\"], [1.0, \"gray\"]], \"geo\": \"geo\", \"hovertemplate\": \"color=Tie<br>animation_frame=1999<br>locations=%{location}<extra></extra>\", \"locationmode\": \"USA-states\", \"locations\": [\"AR\", \"AR\", \"DE\", \"DE\", \"FL\", \"FL\", \"GA\", \"GA\", \"IA\", \"IA\", \"IL\", \"IL\", \"IN\", \"IN\", \"MI\", \"MI\", \"MN\", \"MN\", \"MT\", \"MT\", \"NC\", \"NC\", \"NE\", \"NE\", \"NM\", \"NM\", \"NULL\", \"OR\", \"OR\", \"SC\", \"SC\", \"VA\", \"VA\", \"VT\", \"VT\", \"WA\", \"WA\"], \"name\": \"Tie\", \"showlegend\": true, \"showscale\": false, \"z\": [1, 1, 1, 1, 1, 1, 1, 1, 1, 1, 1, 1, 1, 1, 1, 1, 1, 1, 1, 1, 1, 1, 1, 1, 1, 1, 1, 1, 1, 1, 1, 1, 1, 1, 1, 1, 1], \"type\": \"choropleth\"}, {\"colorscale\": [[0.0, \"blue\"], [1.0, \"blue\"]], \"geo\": \"geo\", \"hovertemplate\": \"color=Democrat<br>animation_frame=1999<br>locations=%{location}<extra></extra>\", \"locationmode\": \"USA-states\", \"locations\": [\"CA\", \"CT\", \"HI\", \"LA\", \"MA\", \"MD\", \"ND\", \"NJ\", \"NV\", \"NY\", \"SD\", \"WI\", \"WV\"], \"name\": \"Democrat\", \"showlegend\": true, \"showscale\": false, \"z\": [1, 1, 1, 1, 1, 1, 1, 1, 1, 1, 1, 1, 1], \"type\": \"choropleth\"}], \"name\": \"1999\"}, {\"data\": [{\"colorscale\": [[0.0, \"red\"], [1.0, \"red\"]], \"geo\": \"geo\", \"hovertemplate\": \"color=Republican<br>animation_frame=2000<br>locations=%{location}<extra></extra>\", \"locationmode\": \"USA-states\", \"locations\": [\"AK\", \"AL\", \"AZ\", \"CO\", \"ID\", \"KS\", \"KY\", \"ME\", \"MO\", \"MS\", \"NH\", \"OH\", \"OK\", \"PA\", \"TN\", \"TX\", \"UT\", \"WY\"], \"name\": \"Republican\", \"showlegend\": true, \"showscale\": false, \"z\": [1, 1, 1, 1, 1, 1, 1, 1, 1, 1, 1, 1, 1, 1, 1, 1, 1, 1], \"type\": \"choropleth\"}, {\"colorscale\": [[0.0, \"gray\"], [1.0, \"gray\"]], \"geo\": \"geo\", \"hovertemplate\": \"color=Tie<br>animation_frame=2000<br>locations=%{location}<extra></extra>\", \"locationmode\": \"USA-states\", \"locations\": [\"AR\", \"AR\", \"DE\", \"DE\", \"FL\", \"FL\", \"IA\", \"IA\", \"IL\", \"IL\", \"IN\", \"IN\", \"MI\", \"MI\", \"MN\", \"MN\", \"MT\", \"MT\", \"NC\", \"NC\", \"NE\", \"NE\", \"NM\", \"NM\", \"OR\", \"OR\", \"RI\", \"RI\", \"SC\", \"SC\", \"VA\", \"VA\", \"VT\", \"VT\", \"WA\", \"WA\"], \"name\": \"Tie\", \"showlegend\": true, \"showscale\": false, \"z\": [1, 1, 1, 1, 1, 1, 1, 1, 1, 1, 1, 1, 1, 1, 1, 1, 1, 1, 1, 1, 1, 1, 1, 1, 1, 1, 1, 1, 1, 1, 1, 1, 1, 1, 1, 1], \"type\": \"choropleth\"}, {\"colorscale\": [[0.0, \"blue\"], [1.0, \"blue\"]], \"geo\": \"geo\", \"hovertemplate\": \"color=Democrat<br>animation_frame=2000<br>locations=%{location}<extra></extra>\", \"locationmode\": \"USA-states\", \"locations\": [\"CA\", \"CT\", \"GA\", \"HI\", \"LA\", \"MA\", \"MD\", \"ND\", \"NJ\", \"NV\", \"NY\", \"SD\", \"WI\", \"WV\"], \"name\": \"Democrat\", \"showlegend\": true, \"showscale\": false, \"z\": [1, 1, 1, 1, 1, 1, 1, 1, 1, 1, 1, 1, 1, 1], \"type\": \"choropleth\"}], \"name\": \"2000\"}, {\"data\": [{\"colorscale\": [[0.0, \"red\"], [1.0, \"red\"]], \"geo\": \"geo\", \"hovertemplate\": \"color=Republican<br>animation_frame=2001<br>locations=%{location}<extra></extra>\", \"locationmode\": \"USA-states\", \"locations\": [\"AK\", \"AL\", \"AZ\", \"CO\", \"ID\", \"KS\", \"KY\", \"ME\", \"MS\", \"NH\", \"OH\", \"OK\", \"PA\", \"TN\", \"TX\", \"UT\", \"VA\", \"WY\"], \"name\": \"Republican\", \"showlegend\": true, \"showscale\": false, \"z\": [1, 1, 1, 1, 1, 1, 1, 1, 1, 1, 1, 1, 1, 1, 1, 1, 1, 1], \"type\": \"choropleth\"}, {\"colorscale\": [[0.0, \"gray\"], [1.0, \"gray\"]], \"geo\": \"geo\", \"hovertemplate\": \"color=Tie<br>animation_frame=2001<br>locations=%{location}<extra></extra>\", \"locationmode\": \"USA-states\", \"locations\": [\"AR\", \"AR\", \"IA\", \"IA\", \"IL\", \"IL\", \"IN\", \"IN\", \"MO\", \"MO\", \"MT\", \"MT\", \"NC\", \"NC\", \"NE\", \"NE\", \"NM\", \"NM\", \"NULL\", \"NV\", \"NV\", \"OR\", \"OR\", \"RI\", \"RI\", \"SC\", \"SC\", \"VT\", \"VT\"], \"name\": \"Tie\", \"showlegend\": true, \"showscale\": false, \"z\": [1, 1, 1, 1, 1, 1, 1, 1, 1, 1, 1, 1, 1, 1, 1, 1, 1, 1, 1, 1, 1, 1, 1, 1, 1, 1, 1, 1, 1], \"type\": \"choropleth\"}, {\"colorscale\": [[0.0, \"blue\"], [1.0, \"blue\"]], \"geo\": \"geo\", \"hovertemplate\": \"color=Democrat<br>animation_frame=2001<br>locations=%{location}<extra></extra>\", \"locationmode\": \"USA-states\", \"locations\": [\"CA\", \"CT\", \"DE\", \"FL\", \"GA\", \"HI\", \"LA\", \"MA\", \"MD\", \"MI\", \"MN\", \"ND\", \"NJ\", \"NY\", \"SD\", \"WA\", \"WI\", \"WV\"], \"name\": \"Democrat\", \"showlegend\": true, \"showscale\": false, \"z\": [1, 1, 1, 1, 1, 1, 1, 1, 1, 1, 1, 1, 1, 1, 1, 1, 1, 1], \"type\": \"choropleth\"}], \"name\": \"2001\"}, {\"data\": [{\"colorscale\": [[0.0, \"red\"], [1.0, \"red\"]], \"geo\": \"geo\", \"hovertemplate\": \"color=Republican<br>animation_frame=2002<br>locations=%{location}<extra></extra>\", \"locationmode\": \"USA-states\", \"locations\": [\"AK\", \"AL\", \"AZ\", \"CO\", \"ID\", \"KS\", \"KY\", \"ME\", \"MS\", \"NH\", \"OH\", \"OK\", \"PA\", \"TN\", \"TX\", \"UT\", \"VA\", \"WY\"], \"name\": \"Republican\", \"showlegend\": true, \"showscale\": false, \"z\": [1, 1, 1, 1, 1, 1, 1, 1, 1, 1, 1, 1, 1, 1, 1, 1, 1, 1], \"type\": \"choropleth\"}, {\"colorscale\": [[0.0, \"gray\"], [1.0, \"gray\"]], \"geo\": \"geo\", \"hovertemplate\": \"color=Tie<br>animation_frame=2002<br>locations=%{location}<extra></extra>\", \"locationmode\": \"USA-states\", \"locations\": [\"AR\", \"AR\", \"IA\", \"IA\", \"IL\", \"IL\", \"IN\", \"IN\", \"MO\", \"MO\", \"MT\", \"MT\", \"NC\", \"NC\", \"NE\", \"NE\", \"NM\", \"NM\", \"NULL\", \"NV\", \"NV\", \"OR\", \"OR\", \"RI\", \"RI\", \"SC\", \"SC\", \"VT\", \"VT\"], \"name\": \"Tie\", \"showlegend\": true, \"showscale\": false, \"z\": [1, 1, 1, 1, 1, 1, 1, 1, 1, 1, 1, 1, 1, 1, 1, 1, 1, 1, 1, 1, 1, 1, 1, 1, 1, 1, 1, 1, 1], \"type\": \"choropleth\"}, {\"colorscale\": [[0.0, \"blue\"], [1.0, \"blue\"]], \"geo\": \"geo\", \"hovertemplate\": \"color=Democrat<br>animation_frame=2002<br>locations=%{location}<extra></extra>\", \"locationmode\": \"USA-states\", \"locations\": [\"CA\", \"CT\", \"DE\", \"FL\", \"GA\", \"HI\", \"LA\", \"MA\", \"MD\", \"MI\", \"MN\", \"ND\", \"NJ\", \"NY\", \"SD\", \"WA\", \"WI\", \"WV\"], \"name\": \"Democrat\", \"showlegend\": true, \"showscale\": false, \"z\": [1, 1, 1, 1, 1, 1, 1, 1, 1, 1, 1, 1, 1, 1, 1, 1, 1, 1], \"type\": \"choropleth\"}], \"name\": \"2002\"}, {\"data\": [{\"colorscale\": [[0.0, \"red\"], [1.0, \"red\"]], \"geo\": \"geo\", \"hovertemplate\": \"color=Republican<br>animation_frame=2003<br>locations=%{location}<extra></extra>\", \"locationmode\": \"USA-states\", \"locations\": [\"AK\", \"AL\", \"AZ\", \"CO\", \"ID\", \"KS\", \"KY\", \"ME\", \"MO\", \"MS\", \"NH\", \"OH\", \"OK\", \"PA\", \"TN\", \"TX\", \"UT\", \"VA\", \"WY\"], \"name\": \"Republican\", \"showlegend\": true, \"showscale\": false, \"z\": [1, 1, 1, 1, 1, 1, 1, 1, 1, 1, 1, 1, 1, 1, 1, 1, 1, 1, 1], \"type\": \"choropleth\"}, {\"colorscale\": [[0.0, \"gray\"], [1.0, \"gray\"]], \"geo\": \"geo\", \"hovertemplate\": \"color=Tie<br>animation_frame=2003<br>locations=%{location}<extra></extra>\", \"locationmode\": \"USA-states\", \"locations\": [\"GA\", \"GA\", \"IA\", \"IA\", \"IL\", \"IL\", \"IN\", \"IN\", \"MN\", \"MN\", \"MT\", \"MT\", \"NC\", \"NC\", \"NE\", \"NE\", \"NM\", \"NM\", \"NULL\", \"NV\", \"NV\", \"OR\", \"OR\", \"RI\", \"RI\", \"SC\", \"SC\", \"VT\", \"VT\"], \"name\": \"Tie\", \"showlegend\": true, \"showscale\": false, \"z\": [1, 1, 1, 1, 1, 1, 1, 1, 1, 1, 1, 1, 1, 1, 1, 1, 1, 1, 1, 1, 1, 1, 1, 1, 1, 1, 1, 1, 1], \"type\": \"choropleth\"}, {\"colorscale\": [[0.0, \"blue\"], [1.0, \"blue\"]], \"geo\": \"geo\", \"hovertemplate\": \"color=Democrat<br>animation_frame=2003<br>locations=%{location}<extra></extra>\", \"locationmode\": \"USA-states\", \"locations\": [\"AR\", \"CA\", \"CT\", \"DE\", \"FL\", \"HI\", \"LA\", \"MA\", \"MD\", \"MI\", \"ND\", \"NJ\", \"NY\", \"SD\", \"WA\", \"WI\", \"WV\"], \"name\": \"Democrat\", \"showlegend\": true, \"showscale\": false, \"z\": [1, 1, 1, 1, 1, 1, 1, 1, 1, 1, 1, 1, 1, 1, 1, 1, 1], \"type\": \"choropleth\"}], \"name\": \"2003\"}, {\"data\": [{\"colorscale\": [[0.0, \"red\"], [1.0, \"red\"]], \"geo\": \"geo\", \"hovertemplate\": \"color=Republican<br>animation_frame=2004<br>locations=%{location}<extra></extra>\", \"locationmode\": \"USA-states\", \"locations\": [\"AK\", \"AL\", \"AZ\", \"CO\", \"ID\", \"KS\", \"KY\", \"ME\", \"MO\", \"MS\", \"NH\", \"OH\", \"OK\", \"PA\", \"TN\", \"TX\", \"UT\", \"VA\", \"WY\"], \"name\": \"Republican\", \"showlegend\": true, \"showscale\": false, \"z\": [1, 1, 1, 1, 1, 1, 1, 1, 1, 1, 1, 1, 1, 1, 1, 1, 1, 1, 1], \"type\": \"choropleth\"}, {\"colorscale\": [[0.0, \"gray\"], [1.0, \"gray\"]], \"geo\": \"geo\", \"hovertemplate\": \"color=Tie<br>animation_frame=2004<br>locations=%{location}<extra></extra>\", \"locationmode\": \"USA-states\", \"locations\": [\"GA\", \"GA\", \"IA\", \"IA\", \"IL\", \"IL\", \"IN\", \"IN\", \"MN\", \"MN\", \"MT\", \"MT\", \"NC\", \"NC\", \"NE\", \"NE\", \"NM\", \"NM\", \"NV\", \"NV\", \"OR\", \"OR\", \"RI\", \"RI\", \"SC\", \"SC\", \"VT\", \"VT\"], \"name\": \"Tie\", \"showlegend\": true, \"showscale\": false, \"z\": [1, 1, 1, 1, 1, 1, 1, 1, 1, 1, 1, 1, 1, 1, 1, 1, 1, 1, 1, 1, 1, 1, 1, 1, 1, 1, 1, 1], \"type\": \"choropleth\"}, {\"colorscale\": [[0.0, \"blue\"], [1.0, \"blue\"]], \"geo\": \"geo\", \"hovertemplate\": \"color=Democrat<br>animation_frame=2004<br>locations=%{location}<extra></extra>\", \"locationmode\": \"USA-states\", \"locations\": [\"AR\", \"CA\", \"CT\", \"DE\", \"FL\", \"HI\", \"LA\", \"MA\", \"MD\", \"MI\", \"ND\", \"NJ\", \"NY\", \"SD\", \"WA\", \"WI\", \"WV\"], \"name\": \"Democrat\", \"showlegend\": true, \"showscale\": false, \"z\": [1, 1, 1, 1, 1, 1, 1, 1, 1, 1, 1, 1, 1, 1, 1, 1, 1], \"type\": \"choropleth\"}], \"name\": \"2004\"}, {\"data\": [{\"colorscale\": [[0.0, \"red\"], [1.0, \"red\"]], \"geo\": \"geo\", \"hovertemplate\": \"color=Republican<br>animation_frame=2005<br>locations=%{location}<extra></extra>\", \"locationmode\": \"USA-states\", \"locations\": [\"AK\", \"AL\", \"AZ\", \"GA\", \"ID\", \"KS\", \"KY\", \"ME\", \"MO\", \"MS\", \"NC\", \"NH\", \"OH\", \"OK\", \"PA\", \"SC\", \"TN\", \"TX\", \"UT\", \"VA\", \"WY\"], \"name\": \"Republican\", \"showlegend\": true, \"showscale\": false, \"z\": [1, 1, 1, 1, 1, 1, 1, 1, 1, 1, 1, 1, 1, 1, 1, 1, 1, 1, 1, 1, 1], \"type\": \"choropleth\"}, {\"colorscale\": [[0.0, \"gray\"], [1.0, \"gray\"]], \"geo\": \"geo\", \"hovertemplate\": \"color=Tie<br>animation_frame=2005<br>locations=%{location}<extra></extra>\", \"locationmode\": \"USA-states\", \"locations\": [\"CO\", \"CO\", \"FL\", \"FL\", \"IA\", \"IA\", \"IN\", \"IN\", \"LA\", \"LA\", \"MN\", \"MN\", \"MT\", \"MT\", \"NE\", \"NE\", \"NM\", \"NM\", \"NULL\", \"NV\", \"NV\", \"OR\", \"OR\", \"RI\", \"RI\", \"SD\", \"SD\", \"VT\", \"VT\"], \"name\": \"Tie\", \"showlegend\": true, \"showscale\": false, \"z\": [1, 1, 1, 1, 1, 1, 1, 1, 1, 1, 1, 1, 1, 1, 1, 1, 1, 1, 1, 1, 1, 1, 1, 1, 1, 1, 1, 1, 1], \"type\": \"choropleth\"}, {\"colorscale\": [[0.0, \"blue\"], [1.0, \"blue\"]], \"geo\": \"geo\", \"hovertemplate\": \"color=Democrat<br>animation_frame=2005<br>locations=%{location}<extra></extra>\", \"locationmode\": \"USA-states\", \"locations\": [\"AR\", \"CA\", \"CT\", \"DE\", \"HI\", \"IL\", \"MA\", \"MD\", \"MI\", \"ND\", \"NJ\", \"NY\", \"WA\", \"WI\", \"WV\"], \"name\": \"Democrat\", \"showlegend\": true, \"showscale\": false, \"z\": [1, 1, 1, 1, 1, 1, 1, 1, 1, 1, 1, 1, 1, 1, 1], \"type\": \"choropleth\"}], \"name\": \"2005\"}, {\"data\": [{\"colorscale\": [[0.0, \"red\"], [1.0, \"red\"]], \"geo\": \"geo\", \"hovertemplate\": \"color=Republican<br>animation_frame=2006<br>locations=%{location}<extra></extra>\", \"locationmode\": \"USA-states\", \"locations\": [\"AK\", \"AL\", \"AZ\", \"GA\", \"ID\", \"KS\", \"KY\", \"ME\", \"MO\", \"MS\", \"NC\", \"NH\", \"OH\", \"OK\", \"PA\", \"SC\", \"TN\", \"TX\", \"UT\", \"VA\", \"WY\"], \"name\": \"Republican\", \"showlegend\": true, \"showscale\": false, \"z\": [1, 1, 1, 1, 1, 1, 1, 1, 1, 1, 1, 1, 1, 1, 1, 1, 1, 1, 1, 1, 1], \"type\": \"choropleth\"}, {\"colorscale\": [[0.0, \"gray\"], [1.0, \"gray\"]], \"geo\": \"geo\", \"hovertemplate\": \"color=Tie<br>animation_frame=2006<br>locations=%{location}<extra></extra>\", \"locationmode\": \"USA-states\", \"locations\": [\"CO\", \"CO\", \"FL\", \"FL\", \"IA\", \"IA\", \"IN\", \"IN\", \"LA\", \"LA\", \"MN\", \"MN\", \"MT\", \"MT\", \"NE\", \"NE\", \"NM\", \"NM\", \"NV\", \"NV\", \"OR\", \"OR\", \"RI\", \"RI\", \"SD\", \"SD\", \"VT\", \"VT\"], \"name\": \"Tie\", \"showlegend\": true, \"showscale\": false, \"z\": [1, 1, 1, 1, 1, 1, 1, 1, 1, 1, 1, 1, 1, 1, 1, 1, 1, 1, 1, 1, 1, 1, 1, 1, 1, 1, 1, 1], \"type\": \"choropleth\"}, {\"colorscale\": [[0.0, \"blue\"], [1.0, \"blue\"]], \"geo\": \"geo\", \"hovertemplate\": \"color=Democrat<br>animation_frame=2006<br>locations=%{location}<extra></extra>\", \"locationmode\": \"USA-states\", \"locations\": [\"AR\", \"CA\", \"CT\", \"DE\", \"HI\", \"IL\", \"MA\", \"MD\", \"MI\", \"ND\", \"NJ\", \"NY\", \"WA\", \"WI\", \"WV\"], \"name\": \"Democrat\", \"showlegend\": true, \"showscale\": false, \"z\": [1, 1, 1, 1, 1, 1, 1, 1, 1, 1, 1, 1, 1, 1, 1], \"type\": \"choropleth\"}], \"name\": \"2006\"}, {\"data\": [{\"colorscale\": [[0.0, \"red\"], [1.0, \"red\"]], \"geo\": \"geo\", \"hovertemplate\": \"color=Republican<br>animation_frame=2007<br>locations=%{location}<extra></extra>\", \"locationmode\": \"USA-states\", \"locations\": [\"AK\", \"AL\", \"AZ\", \"GA\", \"ID\", \"KS\", \"KY\", \"ME\", \"MS\", \"NC\", \"NH\", \"OK\", \"SC\", \"TN\", \"TX\", \"UT\", \"WY\"], \"name\": \"Republican\", \"showlegend\": true, \"showscale\": false, \"z\": [1, 1, 1, 1, 1, 1, 1, 1, 1, 1, 1, 1, 1, 1, 1, 1, 1], \"type\": \"choropleth\"}, {\"colorscale\": [[0.0, \"gray\"], [1.0, \"gray\"]], \"geo\": \"geo\", \"hovertemplate\": \"color=Tie<br>animation_frame=2007<br>locations=%{location}<extra></extra>\", \"locationmode\": \"USA-states\", \"locations\": [\"CO\", \"CO\", \"FL\", \"FL\", \"IA\", \"IA\", \"IN\", \"IN\", \"LA\", \"LA\", \"MN\", \"MN\", \"MO\", \"MO\", \"NE\", \"NE\", \"NM\", \"NM\", \"NV\", \"NV\", \"OH\", \"OH\", \"OR\", \"OR\", \"PA\", \"PA\", \"SD\", \"SD\", \"VA\", \"VA\", \"VT\", \"VT\"], \"name\": \"Tie\", \"showlegend\": true, \"showscale\": false, \"z\": [1, 1, 1, 1, 1, 1, 1, 1, 1, 1, 1, 1, 1, 1, 1, 1, 1, 1, 1, 1, 1, 1, 1, 1, 1, 1, 1, 1, 1, 1, 1, 1], \"type\": \"choropleth\"}, {\"colorscale\": [[0.0, \"blue\"], [1.0, \"blue\"]], \"geo\": \"geo\", \"hovertemplate\": \"color=Democrat<br>animation_frame=2007<br>locations=%{location}<extra></extra>\", \"locationmode\": \"USA-states\", \"locations\": [\"AR\", \"CA\", \"CT\", \"DE\", \"HI\", \"IL\", \"MA\", \"MD\", \"MI\", \"MT\", \"ND\", \"NJ\", \"NY\", \"RI\", \"WA\", \"WI\", \"WV\"], \"name\": \"Democrat\", \"showlegend\": true, \"showscale\": false, \"z\": [1, 1, 1, 1, 1, 1, 1, 1, 1, 1, 1, 1, 1, 1, 1, 1, 1], \"type\": \"choropleth\"}], \"name\": \"2007\"}, {\"data\": [{\"colorscale\": [[0.0, \"red\"], [1.0, \"red\"]], \"geo\": \"geo\", \"hovertemplate\": \"color=Republican<br>animation_frame=2008<br>locations=%{location}<extra></extra>\", \"locationmode\": \"USA-states\", \"locations\": [\"AK\", \"AL\", \"AZ\", \"GA\", \"ID\", \"KS\", \"KY\", \"ME\", \"MS\", \"NC\", \"NH\", \"OK\", \"SC\", \"TN\", \"TX\", \"UT\", \"WY\"], \"name\": \"Republican\", \"showlegend\": true, \"showscale\": false, \"z\": [1, 1, 1, 1, 1, 1, 1, 1, 1, 1, 1, 1, 1, 1, 1, 1, 1], \"type\": \"choropleth\"}, {\"colorscale\": [[0.0, \"gray\"], [1.0, \"gray\"]], \"geo\": \"geo\", \"hovertemplate\": \"color=Tie<br>animation_frame=2008<br>locations=%{location}<extra></extra>\", \"locationmode\": \"USA-states\", \"locations\": [\"CO\", \"CO\", \"FL\", \"FL\", \"IA\", \"IA\", \"IN\", \"IN\", \"LA\", \"LA\", \"MN\", \"MN\", \"MO\", \"MO\", \"NE\", \"NE\", \"NM\", \"NM\", \"NULL\", \"NV\", \"NV\", \"OH\", \"OH\", \"OR\", \"OR\", \"PA\", \"PA\", \"SD\", \"SD\", \"VA\", \"VA\", \"VT\", \"VT\"], \"name\": \"Tie\", \"showlegend\": true, \"showscale\": false, \"z\": [1, 1, 1, 1, 1, 1, 1, 1, 1, 1, 1, 1, 1, 1, 1, 1, 1, 1, 1, 1, 1, 1, 1, 1, 1, 1, 1, 1, 1, 1, 1, 1, 1], \"type\": \"choropleth\"}, {\"colorscale\": [[0.0, \"blue\"], [1.0, \"blue\"]], \"geo\": \"geo\", \"hovertemplate\": \"color=Democrat<br>animation_frame=2008<br>locations=%{location}<extra></extra>\", \"locationmode\": \"USA-states\", \"locations\": [\"AR\", \"CA\", \"CT\", \"DE\", \"HI\", \"IL\", \"MA\", \"MD\", \"MI\", \"MT\", \"ND\", \"NJ\", \"NY\", \"RI\", \"WA\", \"WI\", \"WV\"], \"name\": \"Democrat\", \"showlegend\": true, \"showscale\": false, \"z\": [1, 1, 1, 1, 1, 1, 1, 1, 1, 1, 1, 1, 1, 1, 1, 1, 1], \"type\": \"choropleth\"}], \"name\": \"2008\"}, {\"data\": [{\"colorscale\": [[0.0, \"red\"], [1.0, \"red\"]], \"geo\": \"geo\", \"hovertemplate\": \"color=Republican<br>animation_frame=2009<br>locations=%{location}<extra></extra>\", \"locationmode\": \"USA-states\", \"locations\": [\"AL\", \"AZ\", \"FL\", \"GA\", \"ID\", \"KS\", \"KY\", \"ME\", \"MS\", \"OK\", \"SC\", \"TN\", \"TX\", \"UT\", \"WY\"], \"name\": \"Republican\", \"showlegend\": true, \"showscale\": false, \"z\": [1, 1, 1, 1, 1, 1, 1, 1, 1, 1, 1, 1, 1, 1, 1], \"type\": \"choropleth\"}, {\"colorscale\": [[0.0, \"gray\"], [1.0, \"gray\"]], \"geo\": \"geo\", \"hovertemplate\": \"color=Tie<br>animation_frame=2009<br>locations=%{location}<extra></extra>\", \"locationmode\": \"USA-states\", \"locations\": [\"AK\", \"AK\", \"IA\", \"IA\", \"IN\", \"IN\", \"LA\", \"LA\", \"MO\", \"MO\", \"NC\", \"NC\", \"NE\", \"NE\", \"NH\", \"NH\", \"NV\", \"NV\", \"OH\", \"OH\", \"PA\", \"PA\", \"SD\", \"SD\", \"VT\", \"VT\"], \"name\": \"Tie\", \"showlegend\": true, \"showscale\": false, \"z\": [1, 1, 1, 1, 1, 1, 1, 1, 1, 1, 1, 1, 1, 1, 1, 1, 1, 1, 1, 1, 1, 1, 1, 1, 1, 1], \"type\": \"choropleth\"}, {\"colorscale\": [[0.0, \"blue\"], [1.0, \"blue\"]], \"geo\": \"geo\", \"hovertemplate\": \"color=Democrat<br>animation_frame=2009<br>locations=%{location}<extra></extra>\", \"locationmode\": \"USA-states\", \"locations\": [\"AR\", \"CA\", \"CO\", \"CT\", \"DE\", \"HI\", \"IL\", \"MA\", \"MD\", \"MI\", \"MN\", \"MT\", \"ND\", \"NJ\", \"NM\", \"NY\", \"OR\", \"RI\", \"VA\", \"WA\", \"WI\", \"WV\"], \"name\": \"Democrat\", \"showlegend\": true, \"showscale\": false, \"z\": [1, 1, 1, 1, 1, 1, 1, 1, 1, 1, 1, 1, 1, 1, 1, 1, 1, 1, 1, 1, 1, 1], \"type\": \"choropleth\"}], \"name\": \"2009\"}, {\"data\": [{\"colorscale\": [[0.0, \"red\"], [1.0, \"red\"]], \"geo\": \"geo\", \"hovertemplate\": \"color=Republican<br>animation_frame=2010<br>locations=%{location}<extra></extra>\", \"locationmode\": \"USA-states\", \"locations\": [\"AL\", \"AZ\", \"GA\", \"ID\", \"KS\", \"KY\", \"ME\", \"MS\", \"OK\", \"SC\", \"TN\", \"TX\", \"UT\", \"WY\"], \"name\": \"Republican\", \"showlegend\": true, \"showscale\": false, \"z\": [1, 1, 1, 1, 1, 1, 1, 1, 1, 1, 1, 1, 1, 1], \"type\": \"choropleth\"}, {\"colorscale\": [[0.0, \"gray\"], [1.0, \"gray\"]], \"geo\": \"geo\", \"hovertemplate\": \"color=Tie<br>animation_frame=2010<br>locations=%{location}<extra></extra>\", \"locationmode\": \"USA-states\", \"locations\": [\"AK\", \"AK\", \"FL\", \"FL\", \"IA\", \"IA\", \"IN\", \"IN\", \"LA\", \"LA\", \"MO\", \"MO\", \"NC\", \"NC\", \"NE\", \"NE\", \"NH\", \"NH\", \"NV\", \"NV\", \"OH\", \"OH\", \"PA\", \"PA\", \"SD\", \"SD\", \"VT\", \"VT\"], \"name\": \"Tie\", \"showlegend\": true, \"showscale\": false, \"z\": [1, 1, 1, 1, 1, 1, 1, 1, 1, 1, 1, 1, 1, 1, 1, 1, 1, 1, 1, 1, 1, 1, 1, 1, 1, 1, 1, 1], \"type\": \"choropleth\"}, {\"colorscale\": [[0.0, \"blue\"], [1.0, \"blue\"]], \"geo\": \"geo\", \"hovertemplate\": \"color=Democrat<br>animation_frame=2010<br>locations=%{location}<extra></extra>\", \"locationmode\": \"USA-states\", \"locations\": [\"AR\", \"CA\", \"CO\", \"CT\", \"DE\", \"HI\", \"IL\", \"MA\", \"MD\", \"MI\", \"MN\", \"MT\", \"ND\", \"NJ\", \"NM\", \"NY\", \"OR\", \"RI\", \"VA\", \"WA\", \"WI\", \"WV\"], \"name\": \"Democrat\", \"showlegend\": true, \"showscale\": false, \"z\": [1, 1, 1, 1, 1, 1, 1, 1, 1, 1, 1, 1, 1, 1, 1, 1, 1, 1, 1, 1, 1, 1], \"type\": \"choropleth\"}], \"name\": \"2010\"}, {\"data\": [{\"colorscale\": [[0.0, \"red\"], [1.0, \"red\"]], \"geo\": \"geo\", \"hovertemplate\": \"color=Republican<br>animation_frame=2011<br>locations=%{location}<extra></extra>\", \"locationmode\": \"USA-states\", \"locations\": [\"AL\", \"AZ\", \"GA\", \"ID\", \"IN\", \"KS\", \"KY\", \"ME\", \"MS\", \"NV\", \"OK\", \"SC\", \"TN\", \"TX\", \"UT\", \"WY\"], \"name\": \"Republican\", \"showlegend\": true, \"showscale\": false, \"z\": [1, 1, 1, 1, 1, 1, 1, 1, 1, 1, 1, 1, 1, 1, 1, 1], \"type\": \"choropleth\"}, {\"colorscale\": [[0.0, \"gray\"], [1.0, \"gray\"]], \"geo\": \"geo\", \"hovertemplate\": \"color=Tie<br>animation_frame=2011<br>locations=%{location}<extra></extra>\", \"locationmode\": \"USA-states\", \"locations\": [\"AK\", \"AK\", \"AR\", \"AR\", \"FL\", \"FL\", \"IA\", \"IA\", \"IL\", \"IL\", \"LA\", \"LA\", \"MA\", \"MA\", \"MO\", \"MO\", \"NC\", \"NC\", \"ND\", \"ND\", \"NE\", \"NE\", \"NH\", \"NH\", \"OH\", \"OH\", \"PA\", \"PA\", \"SD\", \"SD\", \"VT\", \"VT\", \"WI\", \"WI\"], \"name\": \"Tie\", \"showlegend\": true, \"showscale\": false, \"z\": [1, 1, 1, 1, 1, 1, 1, 1, 1, 1, 1, 1, 1, 1, 1, 1, 1, 1, 1, 1, 1, 1, 1, 1, 1, 1, 1, 1, 1, 1, 1, 1, 1, 1], \"type\": \"choropleth\"}, {\"colorscale\": [[0.0, \"blue\"], [1.0, \"blue\"]], \"geo\": \"geo\", \"hovertemplate\": \"color=Democrat<br>animation_frame=2011<br>locations=%{location}<extra></extra>\", \"locationmode\": \"USA-states\", \"locations\": [\"CA\", \"CO\", \"CT\", \"DE\", \"HI\", \"MD\", \"MI\", \"MN\", \"MT\", \"NJ\", \"NM\", \"NY\", \"OR\", \"RI\", \"VA\", \"WA\", \"WV\"], \"name\": \"Democrat\", \"showlegend\": true, \"showscale\": false, \"z\": [1, 1, 1, 1, 1, 1, 1, 1, 1, 1, 1, 1, 1, 1, 1, 1, 1], \"type\": \"choropleth\"}], \"name\": \"2011\"}, {\"data\": [{\"colorscale\": [[0.0, \"red\"], [1.0, \"red\"]], \"geo\": \"geo\", \"hovertemplate\": \"color=Republican<br>animation_frame=2012<br>locations=%{location}<extra></extra>\", \"locationmode\": \"USA-states\", \"locations\": [\"AL\", \"AZ\", \"GA\", \"ID\", \"IN\", \"KS\", \"KY\", \"ME\", \"MS\", \"OK\", \"SC\", \"TN\", \"TX\", \"UT\", \"WY\"], \"name\": \"Republican\", \"showlegend\": true, \"showscale\": false, \"z\": [1, 1, 1, 1, 1, 1, 1, 1, 1, 1, 1, 1, 1, 1, 1], \"type\": \"choropleth\"}, {\"colorscale\": [[0.0, \"gray\"], [1.0, \"gray\"]], \"geo\": \"geo\", \"hovertemplate\": \"color=Tie<br>animation_frame=2012<br>locations=%{location}<extra></extra>\", \"locationmode\": \"USA-states\", \"locations\": [\"AK\", \"AK\", \"AR\", \"AR\", \"FL\", \"FL\", \"IA\", \"IA\", \"IL\", \"IL\", \"LA\", \"LA\", \"MA\", \"MA\", \"MO\", \"MO\", \"NC\", \"NC\", \"ND\", \"ND\", \"NE\", \"NE\", \"NH\", \"NH\", \"NV\", \"NV\", \"OH\", \"OH\", \"PA\", \"PA\", \"SD\", \"SD\", \"VT\", \"VT\", \"WI\", \"WI\"], \"name\": \"Tie\", \"showlegend\": true, \"showscale\": false, \"z\": [1, 1, 1, 1, 1, 1, 1, 1, 1, 1, 1, 1, 1, 1, 1, 1, 1, 1, 1, 1, 1, 1, 1, 1, 1, 1, 1, 1, 1, 1, 1, 1, 1, 1, 1, 1], \"type\": \"choropleth\"}, {\"colorscale\": [[0.0, \"blue\"], [1.0, \"blue\"]], \"geo\": \"geo\", \"hovertemplate\": \"color=Democrat<br>animation_frame=2012<br>locations=%{location}<extra></extra>\", \"locationmode\": \"USA-states\", \"locations\": [\"CA\", \"CO\", \"CT\", \"DE\", \"HI\", \"MD\", \"MI\", \"MN\", \"MT\", \"NJ\", \"NM\", \"NY\", \"OR\", \"RI\", \"VA\", \"WA\", \"WV\"], \"name\": \"Democrat\", \"showlegend\": true, \"showscale\": false, \"z\": [1, 1, 1, 1, 1, 1, 1, 1, 1, 1, 1, 1, 1, 1, 1, 1, 1], \"type\": \"choropleth\"}], \"name\": \"2012\"}, {\"data\": [{\"colorscale\": [[0.0, \"red\"], [1.0, \"red\"]], \"geo\": \"geo\", \"hovertemplate\": \"color=Republican<br>animation_frame=2013<br>locations=%{location}<extra></extra>\", \"locationmode\": \"USA-states\", \"locations\": [\"AL\", \"AZ\", \"GA\", \"ID\", \"KS\", \"KY\", \"MS\", \"NE\", \"OK\", \"SC\", \"TN\", \"TX\", \"UT\", \"WY\"], \"name\": \"Republican\", \"showlegend\": true, \"showscale\": false, \"z\": [1, 1, 1, 1, 1, 1, 1, 1, 1, 1, 1, 1, 1, 1], \"type\": \"choropleth\"}, {\"colorscale\": [[0.0, \"gray\"], [1.0, \"gray\"]], \"geo\": \"geo\", \"hovertemplate\": \"color=Tie<br>animation_frame=2013<br>locations=%{location}<extra></extra>\", \"locationmode\": \"USA-states\", \"locations\": [\"AK\", \"AK\", \"AR\", \"AR\", \"FL\", \"FL\", \"IA\", \"IA\", \"IL\", \"IL\", \"IN\", \"IN\", \"LA\", \"LA\", \"ME\", \"ME\", \"MO\", \"MO\", \"NC\", \"NC\", \"ND\", \"ND\", \"NH\", \"NH\", \"NV\", \"NV\", \"OH\", \"OH\", \"PA\", \"PA\", \"SD\", \"SD\", \"VT\", \"VT\", \"WI\", \"WI\"], \"name\": \"Tie\", \"showlegend\": true, \"showscale\": false, \"z\": [1, 1, 1, 1, 1, 1, 1, 1, 1, 1, 1, 1, 1, 1, 1, 1, 1, 1, 1, 1, 1, 1, 1, 1, 1, 1, 1, 1, 1, 1, 1, 1, 1, 1, 1, 1], \"type\": \"choropleth\"}, {\"colorscale\": [[0.0, \"blue\"], [1.0, \"blue\"]], \"geo\": \"geo\", \"hovertemplate\": \"color=Democrat<br>animation_frame=2013<br>locations=%{location}<extra></extra>\", \"locationmode\": \"USA-states\", \"locations\": [\"CA\", \"CO\", \"CT\", \"DE\", \"HI\", \"MA\", \"MD\", \"MI\", \"MN\", \"MT\", \"NJ\", \"NM\", \"NY\", \"OR\", \"RI\", \"VA\", \"WA\", \"WV\"], \"name\": \"Democrat\", \"showlegend\": true, \"showscale\": false, \"z\": [1, 1, 1, 1, 1, 1, 1, 1, 1, 1, 1, 1, 1, 1, 1, 1, 1, 1], \"type\": \"choropleth\"}], \"name\": \"2013\"}, {\"data\": [{\"colorscale\": [[0.0, \"red\"], [1.0, \"red\"]], \"geo\": \"geo\", \"hovertemplate\": \"color=Republican<br>animation_frame=2014<br>locations=%{location}<extra></extra>\", \"locationmode\": \"USA-states\", \"locations\": [\"AL\", \"AZ\", \"GA\", \"ID\", \"KS\", \"KY\", \"MS\", \"NE\", \"OK\", \"SC\", \"TN\", \"TX\", \"UT\", \"WY\"], \"name\": \"Republican\", \"showlegend\": true, \"showscale\": false, \"z\": [1, 1, 1, 1, 1, 1, 1, 1, 1, 1, 1, 1, 1, 1], \"type\": \"choropleth\"}, {\"colorscale\": [[0.0, \"gray\"], [1.0, \"gray\"]], \"geo\": \"geo\", \"hovertemplate\": \"color=Tie<br>animation_frame=2014<br>locations=%{location}<extra></extra>\", \"locationmode\": \"USA-states\", \"locations\": [\"AK\", \"AK\", \"AR\", \"AR\", \"FL\", \"FL\", \"IA\", \"IA\", \"IL\", \"IL\", \"IN\", \"IN\", \"LA\", \"LA\", \"ME\", \"ME\", \"MO\", \"MO\", \"NC\", \"NC\", \"ND\", \"ND\", \"NH\", \"NH\", \"NV\", \"NV\", \"OH\", \"OH\", \"PA\", \"PA\", \"SD\", \"SD\", \"VT\", \"VT\", \"WI\", \"WI\"], \"name\": \"Tie\", \"showlegend\": true, \"showscale\": false, \"z\": [1, 1, 1, 1, 1, 1, 1, 1, 1, 1, 1, 1, 1, 1, 1, 1, 1, 1, 1, 1, 1, 1, 1, 1, 1, 1, 1, 1, 1, 1, 1, 1, 1, 1, 1, 1], \"type\": \"choropleth\"}, {\"colorscale\": [[0.0, \"blue\"], [1.0, \"blue\"]], \"geo\": \"geo\", \"hovertemplate\": \"color=Democrat<br>animation_frame=2014<br>locations=%{location}<extra></extra>\", \"locationmode\": \"USA-states\", \"locations\": [\"CA\", \"CO\", \"CT\", \"DE\", \"HI\", \"MA\", \"MD\", \"MI\", \"MN\", \"MT\", \"NJ\", \"NM\", \"NY\", \"OR\", \"RI\", \"VA\", \"WA\", \"WV\"], \"name\": \"Democrat\", \"showlegend\": true, \"showscale\": false, \"z\": [1, 1, 1, 1, 1, 1, 1, 1, 1, 1, 1, 1, 1, 1, 1, 1, 1, 1], \"type\": \"choropleth\"}], \"name\": \"2014\"}, {\"data\": [{\"colorscale\": [[0.0, \"red\"], [1.0, \"red\"]], \"geo\": \"geo\", \"hovertemplate\": \"color=Republican<br>animation_frame=2015<br>locations=%{location}<extra></extra>\", \"locationmode\": \"USA-states\", \"locations\": [\"AK\", \"AL\", \"AR\", \"AZ\", \"GA\", \"IA\", \"ID\", \"KS\", \"KY\", \"LA\", \"MS\", \"NC\", \"NE\", \"OK\", \"SC\", \"SD\", \"TN\", \"TX\", \"UT\", \"WY\"], \"name\": \"Republican\", \"showlegend\": true, \"showscale\": false, \"z\": [1, 1, 1, 1, 1, 1, 1, 1, 1, 1, 1, 1, 1, 1, 1, 1, 1, 1, 1, 1], \"type\": \"choropleth\"}, {\"colorscale\": [[0.0, \"gray\"], [1.0, \"gray\"]], \"geo\": \"geo\", \"hovertemplate\": \"color=Tie<br>animation_frame=2015<br>locations=%{location}<extra></extra>\", \"locationmode\": \"USA-states\", \"locations\": [\"CO\", \"CO\", \"FL\", \"FL\", \"IL\", \"IL\", \"IN\", \"IN\", \"ME\", \"ME\", \"MO\", \"MO\", \"MT\", \"MT\", \"ND\", \"ND\", \"NH\", \"NH\", \"NV\", \"NV\", \"OH\", \"OH\", \"PA\", \"PA\", \"VT\", \"VT\", \"WI\", \"WI\", \"WV\", \"WV\"], \"name\": \"Tie\", \"showlegend\": true, \"showscale\": false, \"z\": [1, 1, 1, 1, 1, 1, 1, 1, 1, 1, 1, 1, 1, 1, 1, 1, 1, 1, 1, 1, 1, 1, 1, 1, 1, 1, 1, 1, 1, 1], \"type\": \"choropleth\"}, {\"colorscale\": [[0.0, \"blue\"], [1.0, \"blue\"]], \"geo\": \"geo\", \"hovertemplate\": \"color=Democrat<br>animation_frame=2015<br>locations=%{location}<extra></extra>\", \"locationmode\": \"USA-states\", \"locations\": [\"CA\", \"CT\", \"DE\", \"HI\", \"MA\", \"MD\", \"MI\", \"MN\", \"NJ\", \"NM\", \"NY\", \"OR\", \"RI\", \"VA\", \"WA\"], \"name\": \"Democrat\", \"showlegend\": true, \"showscale\": false, \"z\": [1, 1, 1, 1, 1, 1, 1, 1, 1, 1, 1, 1, 1, 1, 1], \"type\": \"choropleth\"}], \"name\": \"2015\"}, {\"data\": [{\"colorscale\": [[0.0, \"red\"], [1.0, \"red\"]], \"geo\": \"geo\", \"hovertemplate\": \"color=Republican<br>animation_frame=2016<br>locations=%{location}<extra></extra>\", \"locationmode\": \"USA-states\", \"locations\": [\"AK\", \"AL\", \"AR\", \"AZ\", \"GA\", \"IA\", \"ID\", \"KS\", \"KY\", \"LA\", \"MS\", \"NC\", \"NE\", \"OK\", \"SC\", \"SD\", \"TN\", \"TX\", \"UT\", \"WY\"], \"name\": \"Republican\", \"showlegend\": true, \"showscale\": false, \"z\": [1, 1, 1, 1, 1, 1, 1, 1, 1, 1, 1, 1, 1, 1, 1, 1, 1, 1, 1, 1], \"type\": \"choropleth\"}, {\"colorscale\": [[0.0, \"gray\"], [1.0, \"gray\"]], \"geo\": \"geo\", \"hovertemplate\": \"color=Tie<br>animation_frame=2016<br>locations=%{location}<extra></extra>\", \"locationmode\": \"USA-states\", \"locations\": [\"CO\", \"CO\", \"FL\", \"FL\", \"IL\", \"IL\", \"IN\", \"IN\", \"ME\", \"ME\", \"MO\", \"MO\", \"MT\", \"MT\", \"ND\", \"ND\", \"NH\", \"NH\", \"NV\", \"NV\", \"OH\", \"OH\", \"PA\", \"PA\", \"VT\", \"VT\", \"WI\", \"WI\", \"WV\", \"WV\"], \"name\": \"Tie\", \"showlegend\": true, \"showscale\": false, \"z\": [1, 1, 1, 1, 1, 1, 1, 1, 1, 1, 1, 1, 1, 1, 1, 1, 1, 1, 1, 1, 1, 1, 1, 1, 1, 1, 1, 1, 1, 1], \"type\": \"choropleth\"}, {\"colorscale\": [[0.0, \"blue\"], [1.0, \"blue\"]], \"geo\": \"geo\", \"hovertemplate\": \"color=Democrat<br>animation_frame=2016<br>locations=%{location}<extra></extra>\", \"locationmode\": \"USA-states\", \"locations\": [\"CA\", \"CT\", \"DE\", \"HI\", \"MA\", \"MD\", \"MI\", \"MN\", \"NJ\", \"NM\", \"NY\", \"OR\", \"RI\", \"VA\", \"WA\"], \"name\": \"Democrat\", \"showlegend\": true, \"showscale\": false, \"z\": [1, 1, 1, 1, 1, 1, 1, 1, 1, 1, 1, 1, 1, 1, 1], \"type\": \"choropleth\"}], \"name\": \"2016\"}, {\"data\": [{\"colorscale\": [[0.0, \"red\"], [1.0, \"red\"]], \"geo\": \"geo\", \"hovertemplate\": \"color=Republican<br>animation_frame=2017<br>locations=%{location}<extra></extra>\", \"locationmode\": \"USA-states\", \"locations\": [\"AK\", \"AL\", \"AR\", \"AZ\", \"GA\", \"IA\", \"ID\", \"KS\", \"KY\", \"LA\", \"MS\", \"NC\", \"NE\", \"OK\", \"SC\", \"SD\", \"TN\", \"TX\", \"UT\", \"WY\"], \"name\": \"Republican\", \"showlegend\": true, \"showscale\": false, \"z\": [1, 1, 1, 1, 1, 1, 1, 1, 1, 1, 1, 1, 1, 1, 1, 1, 1, 1, 1, 1], \"type\": \"choropleth\"}, {\"colorscale\": [[0.0, \"gray\"], [1.0, \"gray\"]], \"geo\": \"geo\", \"hovertemplate\": \"color=Tie<br>animation_frame=2017<br>locations=%{location}<extra></extra>\", \"locationmode\": \"USA-states\", \"locations\": [\"CO\", \"CO\", \"FL\", \"FL\", \"IN\", \"IN\", \"ME\", \"ME\", \"MO\", \"MO\", \"MT\", \"MT\", \"ND\", \"ND\", \"NULL\", \"NV\", \"NV\", \"OH\", \"OH\", \"PA\", \"PA\", \"VT\", \"VT\", \"WI\", \"WI\", \"WV\", \"WV\"], \"name\": \"Tie\", \"showlegend\": true, \"showscale\": false, \"z\": [1, 1, 1, 1, 1, 1, 1, 1, 1, 1, 1, 1, 1, 1, 1, 1, 1, 1, 1, 1, 1, 1, 1, 1, 1, 1, 1], \"type\": \"choropleth\"}, {\"colorscale\": [[0.0, \"blue\"], [1.0, \"blue\"]], \"geo\": \"geo\", \"hovertemplate\": \"color=Democrat<br>animation_frame=2017<br>locations=%{location}<extra></extra>\", \"locationmode\": \"USA-states\", \"locations\": [\"CA\", \"CT\", \"DE\", \"HI\", \"IL\", \"MA\", \"MD\", \"MI\", \"MN\", \"NH\", \"NJ\", \"NM\", \"NY\", \"OR\", \"RI\", \"VA\", \"WA\"], \"name\": \"Democrat\", \"showlegend\": true, \"showscale\": false, \"z\": [1, 1, 1, 1, 1, 1, 1, 1, 1, 1, 1, 1, 1, 1, 1, 1, 1], \"type\": \"choropleth\"}], \"name\": \"2017\"}, {\"data\": [{\"colorscale\": [[0.0, \"red\"], [1.0, \"red\"]], \"geo\": \"geo\", \"hovertemplate\": \"color=Republican<br>animation_frame=2018<br>locations=%{location}<extra></extra>\", \"locationmode\": \"USA-states\", \"locations\": [\"AK\", \"AR\", \"AZ\", \"GA\", \"IA\", \"ID\", \"KS\", \"KY\", \"LA\", \"MS\", \"NC\", \"NE\", \"OK\", \"SC\", \"SD\", \"TN\", \"TX\", \"UT\", \"WY\"], \"name\": \"Republican\", \"showlegend\": true, \"showscale\": false, \"z\": [1, 1, 1, 1, 1, 1, 1, 1, 1, 1, 1, 1, 1, 1, 1, 1, 1, 1, 1], \"type\": \"choropleth\"}, {\"colorscale\": [[0.0, \"gray\"], [1.0, \"gray\"]], \"geo\": \"geo\", \"hovertemplate\": \"color=Tie<br>animation_frame=2018<br>locations=%{location}<extra></extra>\", \"locationmode\": \"USA-states\", \"locations\": [\"AL\", \"AL\", \"CO\", \"CO\", \"FL\", \"FL\", \"IN\", \"IN\", \"ME\", \"ME\", \"MO\", \"MO\", \"MT\", \"MT\", \"ND\", \"ND\", \"NULL\", \"NV\", \"NV\", \"OH\", \"OH\", \"PA\", \"PA\", \"VT\", \"VT\", \"WI\", \"WI\", \"WV\", \"WV\"], \"name\": \"Tie\", \"showlegend\": true, \"showscale\": false, \"z\": [1, 1, 1, 1, 1, 1, 1, 1, 1, 1, 1, 1, 1, 1, 1, 1, 1, 1, 1, 1, 1, 1, 1, 1, 1, 1, 1, 1, 1], \"type\": \"choropleth\"}, {\"colorscale\": [[0.0, \"blue\"], [1.0, \"blue\"]], \"geo\": \"geo\", \"hovertemplate\": \"color=Democrat<br>animation_frame=2018<br>locations=%{location}<extra></extra>\", \"locationmode\": \"USA-states\", \"locations\": [\"CA\", \"CT\", \"DE\", \"HI\", \"IL\", \"MA\", \"MD\", \"MI\", \"MN\", \"NH\", \"NJ\", \"NM\", \"NY\", \"OR\", \"RI\", \"VA\", \"WA\"], \"name\": \"Democrat\", \"showlegend\": true, \"showscale\": false, \"z\": [1, 1, 1, 1, 1, 1, 1, 1, 1, 1, 1, 1, 1, 1, 1, 1, 1], \"type\": \"choropleth\"}], \"name\": \"2018\"}, {\"data\": [{\"colorscale\": [[0.0, \"red\"], [1.0, \"red\"]], \"geo\": \"geo\", \"hovertemplate\": \"color=Republican<br>animation_frame=2019<br>locations=%{location}<extra></extra>\", \"locationmode\": \"USA-states\", \"locations\": [\"AK\", \"AR\", \"FL\", \"GA\", \"IA\", \"ID\", \"IN\", \"KS\", \"KY\", \"LA\", \"MO\", \"MS\", \"NC\", \"ND\", \"NE\", \"OK\", \"SC\", \"SD\", \"TN\", \"TX\", \"UT\", \"WY\"], \"name\": \"Republican\", \"showlegend\": true, \"showscale\": false, \"z\": [1, 1, 1, 1, 1, 1, 1, 1, 1, 1, 1, 1, 1, 1, 1, 1, 1, 1, 1, 1, 1, 1], \"type\": \"choropleth\"}, {\"colorscale\": [[0.0, \"gray\"], [1.0, \"gray\"]], \"geo\": \"geo\", \"hovertemplate\": \"color=Tie<br>animation_frame=2019<br>locations=%{location}<extra></extra>\", \"locationmode\": \"USA-states\", \"locations\": [\"AL\", \"AL\", \"AZ\", \"AZ\", \"CO\", \"CO\", \"ME\", \"ME\", \"MT\", \"MT\", \"OH\", \"OH\", \"PA\", \"PA\", \"VT\", \"VT\", \"WI\", \"WI\", \"WV\", \"WV\"], \"name\": \"Tie\", \"showlegend\": true, \"showscale\": false, \"z\": [1, 1, 1, 1, 1, 1, 1, 1, 1, 1, 1, 1, 1, 1, 1, 1, 1, 1, 1, 1], \"type\": \"choropleth\"}, {\"colorscale\": [[0.0, \"blue\"], [1.0, \"blue\"]], \"geo\": \"geo\", \"hovertemplate\": \"color=Democrat<br>animation_frame=2019<br>locations=%{location}<extra></extra>\", \"locationmode\": \"USA-states\", \"locations\": [\"CA\", \"CT\", \"DE\", \"HI\", \"IL\", \"MA\", \"MD\", \"MI\", \"MN\", \"NH\", \"NJ\", \"NM\", \"NV\", \"NY\", \"OR\", \"RI\", \"VA\", \"WA\"], \"name\": \"Democrat\", \"showlegend\": true, \"showscale\": false, \"z\": [1, 1, 1, 1, 1, 1, 1, 1, 1, 1, 1, 1, 1, 1, 1, 1, 1, 1], \"type\": \"choropleth\"}], \"name\": \"2019\"}, {\"data\": [{\"colorscale\": [[0.0, \"red\"], [1.0, \"red\"]], \"geo\": \"geo\", \"hovertemplate\": \"color=Republican<br>animation_frame=2020<br>locations=%{location}<extra></extra>\", \"locationmode\": \"USA-states\", \"locations\": [\"AK\", \"AR\", \"FL\", \"GA\", \"IA\", \"ID\", \"IN\", \"KS\", \"KY\", \"LA\", \"MO\", \"MS\", \"NC\", \"ND\", \"NE\", \"OK\", \"SC\", \"SD\", \"TN\", \"TX\", \"UT\", \"WY\"], \"name\": \"Republican\", \"showlegend\": true, \"showscale\": false, \"z\": [1, 1, 1, 1, 1, 1, 1, 1, 1, 1, 1, 1, 1, 1, 1, 1, 1, 1, 1, 1, 1, 1], \"type\": \"choropleth\"}, {\"colorscale\": [[0.0, \"gray\"], [1.0, \"gray\"]], \"geo\": \"geo\", \"hovertemplate\": \"color=Tie<br>animation_frame=2020<br>locations=%{location}<extra></extra>\", \"locationmode\": \"USA-states\", \"locations\": [\"AL\", \"AL\", \"CO\", \"CO\", \"ME\", \"ME\", \"MT\", \"MT\", \"OH\", \"OH\", \"PA\", \"PA\", \"VT\", \"VT\", \"WI\", \"WI\", \"WV\", \"WV\"], \"name\": \"Tie\", \"showlegend\": true, \"showscale\": false, \"z\": [1, 1, 1, 1, 1, 1, 1, 1, 1, 1, 1, 1, 1, 1, 1, 1, 1, 1], \"type\": \"choropleth\"}, {\"colorscale\": [[0.0, \"blue\"], [1.0, \"blue\"]], \"geo\": \"geo\", \"hovertemplate\": \"color=Democrat<br>animation_frame=2020<br>locations=%{location}<extra></extra>\", \"locationmode\": \"USA-states\", \"locations\": [\"AZ\", \"CA\", \"CT\", \"DE\", \"HI\", \"IL\", \"MA\", \"MD\", \"MI\", \"MN\", \"NH\", \"NJ\", \"NM\", \"NV\", \"NY\", \"OR\", \"RI\", \"VA\", \"WA\"], \"name\": \"Democrat\", \"showlegend\": true, \"showscale\": false, \"z\": [1, 1, 1, 1, 1, 1, 1, 1, 1, 1, 1, 1, 1, 1, 1, 1, 1, 1, 1], \"type\": \"choropleth\"}], \"name\": \"2020\"}]);\n",
       "                        }).then(function(){\n",
       "                            \n",
       "var gd = document.getElementById('d5bc48bc-53f8-4807-a31c-9423b933357e');\n",
       "var x = new MutationObserver(function (mutations, observer) {{\n",
       "        var display = window.getComputedStyle(gd).display;\n",
       "        if (!display || display === 'none') {{\n",
       "            console.log([gd, 'removed!']);\n",
       "            Plotly.purge(gd);\n",
       "            observer.disconnect();\n",
       "        }}\n",
       "}});\n",
       "\n",
       "// Listen for the removal of the full notebook cells\n",
       "var notebookContainer = gd.closest('#notebook-container');\n",
       "if (notebookContainer) {{\n",
       "    x.observe(notebookContainer, {childList: true});\n",
       "}}\n",
       "\n",
       "// Listen for the clearing of the current output cell\n",
       "var outputEl = gd.closest('.output');\n",
       "if (outputEl) {{\n",
       "    x.observe(outputEl, {childList: true});\n",
       "}}\n",
       "\n",
       "                        })                };                });            </script>        </div>"
      ]
     },
     "metadata": {},
     "output_type": "display_data"
    }
   ],
   "source": [
    "fig = px.choropleth(locations=state_parties['state'], locationmode=\"USA-states\", color=state_parties['party'], \n",
    "                    scope=\"usa\", animation_frame=state_parties['year'], \n",
    "                    color_discrete_map={'Republican': 'red', 'Democrat': 'blue', 'Independent': 'purple', 'Tie': 'gray'}, title=\"Senate Majority by State: 1989-2020\")\n",
    "fig.show()"
   ]
  },
  {
   "cell_type": "markdown",
   "metadata": {},
   "source": [
    "### Compare 1989 to 2020"
   ]
  },
  {
   "cell_type": "code",
   "execution_count": 17,
   "metadata": {},
   "outputs": [],
   "source": [
    "parties_1989 = state_parties.loc[state_parties['year']==1989, :]\n",
    "parties_2020 = state_parties.loc[state_parties['year']==2020, :]"
   ]
  },
  {
   "cell_type": "code",
   "execution_count": 19,
   "metadata": {},
   "outputs": [
    {
     "data": {
      "application/vnd.plotly.v1+json": {
       "config": {
        "plotlyServerURL": "https://plot.ly"
       },
       "data": [
        {
         "colorscale": [
          [
           0,
           "red"
          ],
          [
           1,
           "red"
          ]
         ],
         "geo": "geo",
         "hovertemplate": "color=Republican<br>locations=%{location}<extra></extra>",
         "locationmode": "USA-states",
         "locations": [
          "AK",
          "ID",
          "IN",
          "KS",
          "MN",
          "MO",
          "MS",
          "NH",
          "OR",
          "PA",
          "UT",
          "WY"
         ],
         "name": "Republican",
         "showlegend": true,
         "showscale": false,
         "type": "choropleth",
         "z": [
          1,
          1,
          1,
          1,
          1,
          1,
          1,
          1,
          1,
          1,
          1,
          1
         ]
        },
        {
         "colorscale": [
          [
           0,
           "gray"
          ],
          [
           1,
           "gray"
          ]
         ],
         "geo": "geo",
         "hovertemplate": "color=Tie<br>locations=%{location}<extra></extra>",
         "locationmode": "USA-states",
         "locations": [
          "AL",
          "AL",
          "AZ",
          "AZ",
          "CA",
          "CA",
          "CO",
          "CO",
          "DE",
          "DE",
          "FL",
          "FL",
          "IA",
          "IA",
          "KY",
          "KY",
          "ME",
          "ME",
          "MT",
          "MT",
          "NC",
          "NC",
          "NM",
          "NM",
          "NULL",
          "NY",
          "NY",
          "OK",
          "OK",
          "RI",
          "RI",
          "SC",
          "SC",
          "SD",
          "SD",
          "TN",
          "TX",
          "TX",
          "VA",
          "VA",
          "VT",
          "VT",
          "WA",
          "WA",
          "WI",
          "WI"
         ],
         "name": "Tie",
         "showlegend": true,
         "showscale": false,
         "type": "choropleth",
         "z": [
          1,
          1,
          1,
          1,
          1,
          1,
          1,
          1,
          1,
          1,
          1,
          1,
          1,
          1,
          1,
          1,
          1,
          1,
          1,
          1,
          1,
          1,
          1,
          1,
          1,
          1,
          1,
          1,
          1,
          1,
          1,
          1,
          1,
          1,
          1,
          1,
          1,
          1,
          1,
          1,
          1,
          1,
          1,
          1,
          1,
          1
         ]
        },
        {
         "colorscale": [
          [
           0,
           "blue"
          ],
          [
           1,
           "blue"
          ]
         ],
         "geo": "geo",
         "hovertemplate": "color=Democrat<br>locations=%{location}<extra></extra>",
         "locationmode": "USA-states",
         "locations": [
          "AR",
          "CT",
          "GA",
          "HI",
          "IL",
          "LA",
          "MA",
          "MD",
          "MI",
          "ND",
          "NE",
          "NJ",
          "NV",
          "OH",
          "WV"
         ],
         "name": "Democrat",
         "showlegend": true,
         "showscale": false,
         "type": "choropleth",
         "z": [
          1,
          1,
          1,
          1,
          1,
          1,
          1,
          1,
          1,
          1,
          1,
          1,
          1,
          1,
          1
         ]
        }
       ],
       "layout": {
        "geo": {
         "center": {},
         "domain": {
          "x": [
           0,
           1
          ],
          "y": [
           0,
           1
          ]
         },
         "scope": "usa"
        },
        "legend": {
         "title": {
          "text": "color"
         },
         "tracegroupgap": 0
        },
        "template": {
         "data": {
          "bar": [
           {
            "error_x": {
             "color": "#2a3f5f"
            },
            "error_y": {
             "color": "#2a3f5f"
            },
            "marker": {
             "line": {
              "color": "#E5ECF6",
              "width": 0.5
             }
            },
            "type": "bar"
           }
          ],
          "barpolar": [
           {
            "marker": {
             "line": {
              "color": "#E5ECF6",
              "width": 0.5
             }
            },
            "type": "barpolar"
           }
          ],
          "carpet": [
           {
            "aaxis": {
             "endlinecolor": "#2a3f5f",
             "gridcolor": "white",
             "linecolor": "white",
             "minorgridcolor": "white",
             "startlinecolor": "#2a3f5f"
            },
            "baxis": {
             "endlinecolor": "#2a3f5f",
             "gridcolor": "white",
             "linecolor": "white",
             "minorgridcolor": "white",
             "startlinecolor": "#2a3f5f"
            },
            "type": "carpet"
           }
          ],
          "choropleth": [
           {
            "colorbar": {
             "outlinewidth": 0,
             "ticks": ""
            },
            "type": "choropleth"
           }
          ],
          "contour": [
           {
            "colorbar": {
             "outlinewidth": 0,
             "ticks": ""
            },
            "colorscale": [
             [
              0,
              "#0d0887"
             ],
             [
              0.1111111111111111,
              "#46039f"
             ],
             [
              0.2222222222222222,
              "#7201a8"
             ],
             [
              0.3333333333333333,
              "#9c179e"
             ],
             [
              0.4444444444444444,
              "#bd3786"
             ],
             [
              0.5555555555555556,
              "#d8576b"
             ],
             [
              0.6666666666666666,
              "#ed7953"
             ],
             [
              0.7777777777777778,
              "#fb9f3a"
             ],
             [
              0.8888888888888888,
              "#fdca26"
             ],
             [
              1,
              "#f0f921"
             ]
            ],
            "type": "contour"
           }
          ],
          "contourcarpet": [
           {
            "colorbar": {
             "outlinewidth": 0,
             "ticks": ""
            },
            "type": "contourcarpet"
           }
          ],
          "heatmap": [
           {
            "colorbar": {
             "outlinewidth": 0,
             "ticks": ""
            },
            "colorscale": [
             [
              0,
              "#0d0887"
             ],
             [
              0.1111111111111111,
              "#46039f"
             ],
             [
              0.2222222222222222,
              "#7201a8"
             ],
             [
              0.3333333333333333,
              "#9c179e"
             ],
             [
              0.4444444444444444,
              "#bd3786"
             ],
             [
              0.5555555555555556,
              "#d8576b"
             ],
             [
              0.6666666666666666,
              "#ed7953"
             ],
             [
              0.7777777777777778,
              "#fb9f3a"
             ],
             [
              0.8888888888888888,
              "#fdca26"
             ],
             [
              1,
              "#f0f921"
             ]
            ],
            "type": "heatmap"
           }
          ],
          "heatmapgl": [
           {
            "colorbar": {
             "outlinewidth": 0,
             "ticks": ""
            },
            "colorscale": [
             [
              0,
              "#0d0887"
             ],
             [
              0.1111111111111111,
              "#46039f"
             ],
             [
              0.2222222222222222,
              "#7201a8"
             ],
             [
              0.3333333333333333,
              "#9c179e"
             ],
             [
              0.4444444444444444,
              "#bd3786"
             ],
             [
              0.5555555555555556,
              "#d8576b"
             ],
             [
              0.6666666666666666,
              "#ed7953"
             ],
             [
              0.7777777777777778,
              "#fb9f3a"
             ],
             [
              0.8888888888888888,
              "#fdca26"
             ],
             [
              1,
              "#f0f921"
             ]
            ],
            "type": "heatmapgl"
           }
          ],
          "histogram": [
           {
            "marker": {
             "colorbar": {
              "outlinewidth": 0,
              "ticks": ""
             }
            },
            "type": "histogram"
           }
          ],
          "histogram2d": [
           {
            "colorbar": {
             "outlinewidth": 0,
             "ticks": ""
            },
            "colorscale": [
             [
              0,
              "#0d0887"
             ],
             [
              0.1111111111111111,
              "#46039f"
             ],
             [
              0.2222222222222222,
              "#7201a8"
             ],
             [
              0.3333333333333333,
              "#9c179e"
             ],
             [
              0.4444444444444444,
              "#bd3786"
             ],
             [
              0.5555555555555556,
              "#d8576b"
             ],
             [
              0.6666666666666666,
              "#ed7953"
             ],
             [
              0.7777777777777778,
              "#fb9f3a"
             ],
             [
              0.8888888888888888,
              "#fdca26"
             ],
             [
              1,
              "#f0f921"
             ]
            ],
            "type": "histogram2d"
           }
          ],
          "histogram2dcontour": [
           {
            "colorbar": {
             "outlinewidth": 0,
             "ticks": ""
            },
            "colorscale": [
             [
              0,
              "#0d0887"
             ],
             [
              0.1111111111111111,
              "#46039f"
             ],
             [
              0.2222222222222222,
              "#7201a8"
             ],
             [
              0.3333333333333333,
              "#9c179e"
             ],
             [
              0.4444444444444444,
              "#bd3786"
             ],
             [
              0.5555555555555556,
              "#d8576b"
             ],
             [
              0.6666666666666666,
              "#ed7953"
             ],
             [
              0.7777777777777778,
              "#fb9f3a"
             ],
             [
              0.8888888888888888,
              "#fdca26"
             ],
             [
              1,
              "#f0f921"
             ]
            ],
            "type": "histogram2dcontour"
           }
          ],
          "mesh3d": [
           {
            "colorbar": {
             "outlinewidth": 0,
             "ticks": ""
            },
            "type": "mesh3d"
           }
          ],
          "parcoords": [
           {
            "line": {
             "colorbar": {
              "outlinewidth": 0,
              "ticks": ""
             }
            },
            "type": "parcoords"
           }
          ],
          "pie": [
           {
            "automargin": true,
            "type": "pie"
           }
          ],
          "scatter": [
           {
            "marker": {
             "colorbar": {
              "outlinewidth": 0,
              "ticks": ""
             }
            },
            "type": "scatter"
           }
          ],
          "scatter3d": [
           {
            "line": {
             "colorbar": {
              "outlinewidth": 0,
              "ticks": ""
             }
            },
            "marker": {
             "colorbar": {
              "outlinewidth": 0,
              "ticks": ""
             }
            },
            "type": "scatter3d"
           }
          ],
          "scattercarpet": [
           {
            "marker": {
             "colorbar": {
              "outlinewidth": 0,
              "ticks": ""
             }
            },
            "type": "scattercarpet"
           }
          ],
          "scattergeo": [
           {
            "marker": {
             "colorbar": {
              "outlinewidth": 0,
              "ticks": ""
             }
            },
            "type": "scattergeo"
           }
          ],
          "scattergl": [
           {
            "marker": {
             "colorbar": {
              "outlinewidth": 0,
              "ticks": ""
             }
            },
            "type": "scattergl"
           }
          ],
          "scattermapbox": [
           {
            "marker": {
             "colorbar": {
              "outlinewidth": 0,
              "ticks": ""
             }
            },
            "type": "scattermapbox"
           }
          ],
          "scatterpolar": [
           {
            "marker": {
             "colorbar": {
              "outlinewidth": 0,
              "ticks": ""
             }
            },
            "type": "scatterpolar"
           }
          ],
          "scatterpolargl": [
           {
            "marker": {
             "colorbar": {
              "outlinewidth": 0,
              "ticks": ""
             }
            },
            "type": "scatterpolargl"
           }
          ],
          "scatterternary": [
           {
            "marker": {
             "colorbar": {
              "outlinewidth": 0,
              "ticks": ""
             }
            },
            "type": "scatterternary"
           }
          ],
          "surface": [
           {
            "colorbar": {
             "outlinewidth": 0,
             "ticks": ""
            },
            "colorscale": [
             [
              0,
              "#0d0887"
             ],
             [
              0.1111111111111111,
              "#46039f"
             ],
             [
              0.2222222222222222,
              "#7201a8"
             ],
             [
              0.3333333333333333,
              "#9c179e"
             ],
             [
              0.4444444444444444,
              "#bd3786"
             ],
             [
              0.5555555555555556,
              "#d8576b"
             ],
             [
              0.6666666666666666,
              "#ed7953"
             ],
             [
              0.7777777777777778,
              "#fb9f3a"
             ],
             [
              0.8888888888888888,
              "#fdca26"
             ],
             [
              1,
              "#f0f921"
             ]
            ],
            "type": "surface"
           }
          ],
          "table": [
           {
            "cells": {
             "fill": {
              "color": "#EBF0F8"
             },
             "line": {
              "color": "white"
             }
            },
            "header": {
             "fill": {
              "color": "#C8D4E3"
             },
             "line": {
              "color": "white"
             }
            },
            "type": "table"
           }
          ]
         },
         "layout": {
          "annotationdefaults": {
           "arrowcolor": "#2a3f5f",
           "arrowhead": 0,
           "arrowwidth": 1
          },
          "autotypenumbers": "strict",
          "coloraxis": {
           "colorbar": {
            "outlinewidth": 0,
            "ticks": ""
           }
          },
          "colorscale": {
           "diverging": [
            [
             0,
             "#8e0152"
            ],
            [
             0.1,
             "#c51b7d"
            ],
            [
             0.2,
             "#de77ae"
            ],
            [
             0.3,
             "#f1b6da"
            ],
            [
             0.4,
             "#fde0ef"
            ],
            [
             0.5,
             "#f7f7f7"
            ],
            [
             0.6,
             "#e6f5d0"
            ],
            [
             0.7,
             "#b8e186"
            ],
            [
             0.8,
             "#7fbc41"
            ],
            [
             0.9,
             "#4d9221"
            ],
            [
             1,
             "#276419"
            ]
           ],
           "sequential": [
            [
             0,
             "#0d0887"
            ],
            [
             0.1111111111111111,
             "#46039f"
            ],
            [
             0.2222222222222222,
             "#7201a8"
            ],
            [
             0.3333333333333333,
             "#9c179e"
            ],
            [
             0.4444444444444444,
             "#bd3786"
            ],
            [
             0.5555555555555556,
             "#d8576b"
            ],
            [
             0.6666666666666666,
             "#ed7953"
            ],
            [
             0.7777777777777778,
             "#fb9f3a"
            ],
            [
             0.8888888888888888,
             "#fdca26"
            ],
            [
             1,
             "#f0f921"
            ]
           ],
           "sequentialminus": [
            [
             0,
             "#0d0887"
            ],
            [
             0.1111111111111111,
             "#46039f"
            ],
            [
             0.2222222222222222,
             "#7201a8"
            ],
            [
             0.3333333333333333,
             "#9c179e"
            ],
            [
             0.4444444444444444,
             "#bd3786"
            ],
            [
             0.5555555555555556,
             "#d8576b"
            ],
            [
             0.6666666666666666,
             "#ed7953"
            ],
            [
             0.7777777777777778,
             "#fb9f3a"
            ],
            [
             0.8888888888888888,
             "#fdca26"
            ],
            [
             1,
             "#f0f921"
            ]
           ]
          },
          "colorway": [
           "#636efa",
           "#EF553B",
           "#00cc96",
           "#ab63fa",
           "#FFA15A",
           "#19d3f3",
           "#FF6692",
           "#B6E880",
           "#FF97FF",
           "#FECB52"
          ],
          "font": {
           "color": "#2a3f5f"
          },
          "geo": {
           "bgcolor": "white",
           "lakecolor": "white",
           "landcolor": "#E5ECF6",
           "showlakes": true,
           "showland": true,
           "subunitcolor": "white"
          },
          "hoverlabel": {
           "align": "left"
          },
          "hovermode": "closest",
          "mapbox": {
           "style": "light"
          },
          "paper_bgcolor": "white",
          "plot_bgcolor": "#E5ECF6",
          "polar": {
           "angularaxis": {
            "gridcolor": "white",
            "linecolor": "white",
            "ticks": ""
           },
           "bgcolor": "#E5ECF6",
           "radialaxis": {
            "gridcolor": "white",
            "linecolor": "white",
            "ticks": ""
           }
          },
          "scene": {
           "xaxis": {
            "backgroundcolor": "#E5ECF6",
            "gridcolor": "white",
            "gridwidth": 2,
            "linecolor": "white",
            "showbackground": true,
            "ticks": "",
            "zerolinecolor": "white"
           },
           "yaxis": {
            "backgroundcolor": "#E5ECF6",
            "gridcolor": "white",
            "gridwidth": 2,
            "linecolor": "white",
            "showbackground": true,
            "ticks": "",
            "zerolinecolor": "white"
           },
           "zaxis": {
            "backgroundcolor": "#E5ECF6",
            "gridcolor": "white",
            "gridwidth": 2,
            "linecolor": "white",
            "showbackground": true,
            "ticks": "",
            "zerolinecolor": "white"
           }
          },
          "shapedefaults": {
           "line": {
            "color": "#2a3f5f"
           }
          },
          "ternary": {
           "aaxis": {
            "gridcolor": "white",
            "linecolor": "white",
            "ticks": ""
           },
           "baxis": {
            "gridcolor": "white",
            "linecolor": "white",
            "ticks": ""
           },
           "bgcolor": "#E5ECF6",
           "caxis": {
            "gridcolor": "white",
            "linecolor": "white",
            "ticks": ""
           }
          },
          "title": {
           "x": 0.05
          },
          "xaxis": {
           "automargin": true,
           "gridcolor": "white",
           "linecolor": "white",
           "ticks": "",
           "title": {
            "standoff": 15
           },
           "zerolinecolor": "white",
           "zerolinewidth": 2
          },
          "yaxis": {
           "automargin": true,
           "gridcolor": "white",
           "linecolor": "white",
           "ticks": "",
           "title": {
            "standoff": 15
           },
           "zerolinecolor": "white",
           "zerolinewidth": 2
          }
         }
        },
        "title": {
         "text": "Senate Majority by State: 1989"
        }
       }
      },
      "text/html": [
       "<div>                            <div id=\"5b5e213e-c574-4ee7-a6f4-11b8c1812fb1\" class=\"plotly-graph-div\" style=\"height:525px; width:100%;\"></div>            <script type=\"text/javascript\">                require([\"plotly\"], function(Plotly) {                    window.PLOTLYENV=window.PLOTLYENV || {};                                    if (document.getElementById(\"5b5e213e-c574-4ee7-a6f4-11b8c1812fb1\")) {                    Plotly.newPlot(                        \"5b5e213e-c574-4ee7-a6f4-11b8c1812fb1\",                        [{\"colorscale\": [[0.0, \"red\"], [1.0, \"red\"]], \"geo\": \"geo\", \"hovertemplate\": \"color=Republican<br>locations=%{location}<extra></extra>\", \"locationmode\": \"USA-states\", \"locations\": [\"AK\", \"ID\", \"IN\", \"KS\", \"MN\", \"MO\", \"MS\", \"NH\", \"OR\", \"PA\", \"UT\", \"WY\"], \"name\": \"Republican\", \"showlegend\": true, \"showscale\": false, \"type\": \"choropleth\", \"z\": [1, 1, 1, 1, 1, 1, 1, 1, 1, 1, 1, 1]}, {\"colorscale\": [[0.0, \"gray\"], [1.0, \"gray\"]], \"geo\": \"geo\", \"hovertemplate\": \"color=Tie<br>locations=%{location}<extra></extra>\", \"locationmode\": \"USA-states\", \"locations\": [\"AL\", \"AL\", \"AZ\", \"AZ\", \"CA\", \"CA\", \"CO\", \"CO\", \"DE\", \"DE\", \"FL\", \"FL\", \"IA\", \"IA\", \"KY\", \"KY\", \"ME\", \"ME\", \"MT\", \"MT\", \"NC\", \"NC\", \"NM\", \"NM\", \"NULL\", \"NY\", \"NY\", \"OK\", \"OK\", \"RI\", \"RI\", \"SC\", \"SC\", \"SD\", \"SD\", \"TN\", \"TX\", \"TX\", \"VA\", \"VA\", \"VT\", \"VT\", \"WA\", \"WA\", \"WI\", \"WI\"], \"name\": \"Tie\", \"showlegend\": true, \"showscale\": false, \"type\": \"choropleth\", \"z\": [1, 1, 1, 1, 1, 1, 1, 1, 1, 1, 1, 1, 1, 1, 1, 1, 1, 1, 1, 1, 1, 1, 1, 1, 1, 1, 1, 1, 1, 1, 1, 1, 1, 1, 1, 1, 1, 1, 1, 1, 1, 1, 1, 1, 1, 1]}, {\"colorscale\": [[0.0, \"blue\"], [1.0, \"blue\"]], \"geo\": \"geo\", \"hovertemplate\": \"color=Democrat<br>locations=%{location}<extra></extra>\", \"locationmode\": \"USA-states\", \"locations\": [\"AR\", \"CT\", \"GA\", \"HI\", \"IL\", \"LA\", \"MA\", \"MD\", \"MI\", \"ND\", \"NE\", \"NJ\", \"NV\", \"OH\", \"WV\"], \"name\": \"Democrat\", \"showlegend\": true, \"showscale\": false, \"type\": \"choropleth\", \"z\": [1, 1, 1, 1, 1, 1, 1, 1, 1, 1, 1, 1, 1, 1, 1]}],                        {\"geo\": {\"center\": {}, \"domain\": {\"x\": [0.0, 1.0], \"y\": [0.0, 1.0]}, \"scope\": \"usa\"}, \"legend\": {\"title\": {\"text\": \"color\"}, \"tracegroupgap\": 0}, \"template\": {\"data\": {\"bar\": [{\"error_x\": {\"color\": \"#2a3f5f\"}, \"error_y\": {\"color\": \"#2a3f5f\"}, \"marker\": {\"line\": {\"color\": \"#E5ECF6\", \"width\": 0.5}}, \"type\": \"bar\"}], \"barpolar\": [{\"marker\": {\"line\": {\"color\": \"#E5ECF6\", \"width\": 0.5}}, \"type\": \"barpolar\"}], \"carpet\": [{\"aaxis\": {\"endlinecolor\": \"#2a3f5f\", \"gridcolor\": \"white\", \"linecolor\": \"white\", \"minorgridcolor\": \"white\", \"startlinecolor\": \"#2a3f5f\"}, \"baxis\": {\"endlinecolor\": \"#2a3f5f\", \"gridcolor\": \"white\", \"linecolor\": \"white\", \"minorgridcolor\": \"white\", \"startlinecolor\": \"#2a3f5f\"}, \"type\": \"carpet\"}], \"choropleth\": [{\"colorbar\": {\"outlinewidth\": 0, \"ticks\": \"\"}, \"type\": \"choropleth\"}], \"contour\": [{\"colorbar\": {\"outlinewidth\": 0, \"ticks\": \"\"}, \"colorscale\": [[0.0, \"#0d0887\"], [0.1111111111111111, \"#46039f\"], [0.2222222222222222, \"#7201a8\"], [0.3333333333333333, \"#9c179e\"], [0.4444444444444444, \"#bd3786\"], [0.5555555555555556, \"#d8576b\"], [0.6666666666666666, \"#ed7953\"], [0.7777777777777778, \"#fb9f3a\"], [0.8888888888888888, \"#fdca26\"], [1.0, \"#f0f921\"]], \"type\": \"contour\"}], \"contourcarpet\": [{\"colorbar\": {\"outlinewidth\": 0, \"ticks\": \"\"}, \"type\": \"contourcarpet\"}], \"heatmap\": [{\"colorbar\": {\"outlinewidth\": 0, \"ticks\": \"\"}, \"colorscale\": [[0.0, \"#0d0887\"], [0.1111111111111111, \"#46039f\"], [0.2222222222222222, \"#7201a8\"], [0.3333333333333333, \"#9c179e\"], [0.4444444444444444, \"#bd3786\"], [0.5555555555555556, \"#d8576b\"], [0.6666666666666666, \"#ed7953\"], [0.7777777777777778, \"#fb9f3a\"], [0.8888888888888888, \"#fdca26\"], [1.0, \"#f0f921\"]], \"type\": \"heatmap\"}], \"heatmapgl\": [{\"colorbar\": {\"outlinewidth\": 0, \"ticks\": \"\"}, \"colorscale\": [[0.0, \"#0d0887\"], [0.1111111111111111, \"#46039f\"], [0.2222222222222222, \"#7201a8\"], [0.3333333333333333, \"#9c179e\"], [0.4444444444444444, \"#bd3786\"], [0.5555555555555556, \"#d8576b\"], [0.6666666666666666, \"#ed7953\"], [0.7777777777777778, \"#fb9f3a\"], [0.8888888888888888, \"#fdca26\"], [1.0, \"#f0f921\"]], \"type\": \"heatmapgl\"}], \"histogram\": [{\"marker\": {\"colorbar\": {\"outlinewidth\": 0, \"ticks\": \"\"}}, \"type\": \"histogram\"}], \"histogram2d\": [{\"colorbar\": {\"outlinewidth\": 0, \"ticks\": \"\"}, \"colorscale\": [[0.0, \"#0d0887\"], [0.1111111111111111, \"#46039f\"], [0.2222222222222222, \"#7201a8\"], [0.3333333333333333, \"#9c179e\"], [0.4444444444444444, \"#bd3786\"], [0.5555555555555556, \"#d8576b\"], [0.6666666666666666, \"#ed7953\"], [0.7777777777777778, \"#fb9f3a\"], [0.8888888888888888, \"#fdca26\"], [1.0, \"#f0f921\"]], \"type\": \"histogram2d\"}], \"histogram2dcontour\": [{\"colorbar\": {\"outlinewidth\": 0, \"ticks\": \"\"}, \"colorscale\": [[0.0, \"#0d0887\"], [0.1111111111111111, \"#46039f\"], [0.2222222222222222, \"#7201a8\"], [0.3333333333333333, \"#9c179e\"], [0.4444444444444444, \"#bd3786\"], [0.5555555555555556, \"#d8576b\"], [0.6666666666666666, \"#ed7953\"], [0.7777777777777778, \"#fb9f3a\"], [0.8888888888888888, \"#fdca26\"], [1.0, \"#f0f921\"]], \"type\": \"histogram2dcontour\"}], \"mesh3d\": [{\"colorbar\": {\"outlinewidth\": 0, \"ticks\": \"\"}, \"type\": \"mesh3d\"}], \"parcoords\": [{\"line\": {\"colorbar\": {\"outlinewidth\": 0, \"ticks\": \"\"}}, \"type\": \"parcoords\"}], \"pie\": [{\"automargin\": true, \"type\": \"pie\"}], \"scatter\": [{\"marker\": {\"colorbar\": {\"outlinewidth\": 0, \"ticks\": \"\"}}, \"type\": \"scatter\"}], \"scatter3d\": [{\"line\": {\"colorbar\": {\"outlinewidth\": 0, \"ticks\": \"\"}}, \"marker\": {\"colorbar\": {\"outlinewidth\": 0, \"ticks\": \"\"}}, \"type\": \"scatter3d\"}], \"scattercarpet\": [{\"marker\": {\"colorbar\": {\"outlinewidth\": 0, \"ticks\": \"\"}}, \"type\": \"scattercarpet\"}], \"scattergeo\": [{\"marker\": {\"colorbar\": {\"outlinewidth\": 0, \"ticks\": \"\"}}, \"type\": \"scattergeo\"}], \"scattergl\": [{\"marker\": {\"colorbar\": {\"outlinewidth\": 0, \"ticks\": \"\"}}, \"type\": \"scattergl\"}], \"scattermapbox\": [{\"marker\": {\"colorbar\": {\"outlinewidth\": 0, \"ticks\": \"\"}}, \"type\": \"scattermapbox\"}], \"scatterpolar\": [{\"marker\": {\"colorbar\": {\"outlinewidth\": 0, \"ticks\": \"\"}}, \"type\": \"scatterpolar\"}], \"scatterpolargl\": [{\"marker\": {\"colorbar\": {\"outlinewidth\": 0, \"ticks\": \"\"}}, \"type\": \"scatterpolargl\"}], \"scatterternary\": [{\"marker\": {\"colorbar\": {\"outlinewidth\": 0, \"ticks\": \"\"}}, \"type\": \"scatterternary\"}], \"surface\": [{\"colorbar\": {\"outlinewidth\": 0, \"ticks\": \"\"}, \"colorscale\": [[0.0, \"#0d0887\"], [0.1111111111111111, \"#46039f\"], [0.2222222222222222, \"#7201a8\"], [0.3333333333333333, \"#9c179e\"], [0.4444444444444444, \"#bd3786\"], [0.5555555555555556, \"#d8576b\"], [0.6666666666666666, \"#ed7953\"], [0.7777777777777778, \"#fb9f3a\"], [0.8888888888888888, \"#fdca26\"], [1.0, \"#f0f921\"]], \"type\": \"surface\"}], \"table\": [{\"cells\": {\"fill\": {\"color\": \"#EBF0F8\"}, \"line\": {\"color\": \"white\"}}, \"header\": {\"fill\": {\"color\": \"#C8D4E3\"}, \"line\": {\"color\": \"white\"}}, \"type\": \"table\"}]}, \"layout\": {\"annotationdefaults\": {\"arrowcolor\": \"#2a3f5f\", \"arrowhead\": 0, \"arrowwidth\": 1}, \"autotypenumbers\": \"strict\", \"coloraxis\": {\"colorbar\": {\"outlinewidth\": 0, \"ticks\": \"\"}}, \"colorscale\": {\"diverging\": [[0, \"#8e0152\"], [0.1, \"#c51b7d\"], [0.2, \"#de77ae\"], [0.3, \"#f1b6da\"], [0.4, \"#fde0ef\"], [0.5, \"#f7f7f7\"], [0.6, \"#e6f5d0\"], [0.7, \"#b8e186\"], [0.8, \"#7fbc41\"], [0.9, \"#4d9221\"], [1, \"#276419\"]], \"sequential\": [[0.0, \"#0d0887\"], [0.1111111111111111, \"#46039f\"], [0.2222222222222222, \"#7201a8\"], [0.3333333333333333, \"#9c179e\"], [0.4444444444444444, \"#bd3786\"], [0.5555555555555556, \"#d8576b\"], [0.6666666666666666, \"#ed7953\"], [0.7777777777777778, \"#fb9f3a\"], [0.8888888888888888, \"#fdca26\"], [1.0, \"#f0f921\"]], \"sequentialminus\": [[0.0, \"#0d0887\"], [0.1111111111111111, \"#46039f\"], [0.2222222222222222, \"#7201a8\"], [0.3333333333333333, \"#9c179e\"], [0.4444444444444444, \"#bd3786\"], [0.5555555555555556, \"#d8576b\"], [0.6666666666666666, \"#ed7953\"], [0.7777777777777778, \"#fb9f3a\"], [0.8888888888888888, \"#fdca26\"], [1.0, \"#f0f921\"]]}, \"colorway\": [\"#636efa\", \"#EF553B\", \"#00cc96\", \"#ab63fa\", \"#FFA15A\", \"#19d3f3\", \"#FF6692\", \"#B6E880\", \"#FF97FF\", \"#FECB52\"], \"font\": {\"color\": \"#2a3f5f\"}, \"geo\": {\"bgcolor\": \"white\", \"lakecolor\": \"white\", \"landcolor\": \"#E5ECF6\", \"showlakes\": true, \"showland\": true, \"subunitcolor\": \"white\"}, \"hoverlabel\": {\"align\": \"left\"}, \"hovermode\": \"closest\", \"mapbox\": {\"style\": \"light\"}, \"paper_bgcolor\": \"white\", \"plot_bgcolor\": \"#E5ECF6\", \"polar\": {\"angularaxis\": {\"gridcolor\": \"white\", \"linecolor\": \"white\", \"ticks\": \"\"}, \"bgcolor\": \"#E5ECF6\", \"radialaxis\": {\"gridcolor\": \"white\", \"linecolor\": \"white\", \"ticks\": \"\"}}, \"scene\": {\"xaxis\": {\"backgroundcolor\": \"#E5ECF6\", \"gridcolor\": \"white\", \"gridwidth\": 2, \"linecolor\": \"white\", \"showbackground\": true, \"ticks\": \"\", \"zerolinecolor\": \"white\"}, \"yaxis\": {\"backgroundcolor\": \"#E5ECF6\", \"gridcolor\": \"white\", \"gridwidth\": 2, \"linecolor\": \"white\", \"showbackground\": true, \"ticks\": \"\", \"zerolinecolor\": \"white\"}, \"zaxis\": {\"backgroundcolor\": \"#E5ECF6\", \"gridcolor\": \"white\", \"gridwidth\": 2, \"linecolor\": \"white\", \"showbackground\": true, \"ticks\": \"\", \"zerolinecolor\": \"white\"}}, \"shapedefaults\": {\"line\": {\"color\": \"#2a3f5f\"}}, \"ternary\": {\"aaxis\": {\"gridcolor\": \"white\", \"linecolor\": \"white\", \"ticks\": \"\"}, \"baxis\": {\"gridcolor\": \"white\", \"linecolor\": \"white\", \"ticks\": \"\"}, \"bgcolor\": \"#E5ECF6\", \"caxis\": {\"gridcolor\": \"white\", \"linecolor\": \"white\", \"ticks\": \"\"}}, \"title\": {\"x\": 0.05}, \"xaxis\": {\"automargin\": true, \"gridcolor\": \"white\", \"linecolor\": \"white\", \"ticks\": \"\", \"title\": {\"standoff\": 15}, \"zerolinecolor\": \"white\", \"zerolinewidth\": 2}, \"yaxis\": {\"automargin\": true, \"gridcolor\": \"white\", \"linecolor\": \"white\", \"ticks\": \"\", \"title\": {\"standoff\": 15}, \"zerolinecolor\": \"white\", \"zerolinewidth\": 2}}}, \"title\": {\"text\": \"Senate Majority by State: 1989\"}},                        {\"responsive\": true}                    ).then(function(){\n",
       "                            \n",
       "var gd = document.getElementById('5b5e213e-c574-4ee7-a6f4-11b8c1812fb1');\n",
       "var x = new MutationObserver(function (mutations, observer) {{\n",
       "        var display = window.getComputedStyle(gd).display;\n",
       "        if (!display || display === 'none') {{\n",
       "            console.log([gd, 'removed!']);\n",
       "            Plotly.purge(gd);\n",
       "            observer.disconnect();\n",
       "        }}\n",
       "}});\n",
       "\n",
       "// Listen for the removal of the full notebook cells\n",
       "var notebookContainer = gd.closest('#notebook-container');\n",
       "if (notebookContainer) {{\n",
       "    x.observe(notebookContainer, {childList: true});\n",
       "}}\n",
       "\n",
       "// Listen for the clearing of the current output cell\n",
       "var outputEl = gd.closest('.output');\n",
       "if (outputEl) {{\n",
       "    x.observe(outputEl, {childList: true});\n",
       "}}\n",
       "\n",
       "                        })                };                });            </script>        </div>"
      ]
     },
     "metadata": {},
     "output_type": "display_data"
    },
    {
     "data": {
      "application/vnd.plotly.v1+json": {
       "config": {
        "plotlyServerURL": "https://plot.ly"
       },
       "data": [
        {
         "colorscale": [
          [
           0,
           "red"
          ],
          [
           1,
           "red"
          ]
         ],
         "geo": "geo",
         "hovertemplate": "color=Republican<br>locations=%{location}<extra></extra>",
         "locationmode": "USA-states",
         "locations": [
          "AK",
          "AR",
          "FL",
          "GA",
          "IA",
          "ID",
          "IN",
          "KS",
          "KY",
          "LA",
          "MO",
          "MS",
          "NC",
          "ND",
          "NE",
          "OK",
          "SC",
          "SD",
          "TN",
          "TX",
          "UT",
          "WY"
         ],
         "name": "Republican",
         "showlegend": true,
         "showscale": false,
         "type": "choropleth",
         "z": [
          1,
          1,
          1,
          1,
          1,
          1,
          1,
          1,
          1,
          1,
          1,
          1,
          1,
          1,
          1,
          1,
          1,
          1,
          1,
          1,
          1,
          1
         ]
        },
        {
         "colorscale": [
          [
           0,
           "gray"
          ],
          [
           1,
           "gray"
          ]
         ],
         "geo": "geo",
         "hovertemplate": "color=Tie<br>locations=%{location}<extra></extra>",
         "locationmode": "USA-states",
         "locations": [
          "AL",
          "AL",
          "CO",
          "CO",
          "ME",
          "ME",
          "MT",
          "MT",
          "OH",
          "OH",
          "PA",
          "PA",
          "VT",
          "VT",
          "WI",
          "WI",
          "WV",
          "WV"
         ],
         "name": "Tie",
         "showlegend": true,
         "showscale": false,
         "type": "choropleth",
         "z": [
          1,
          1,
          1,
          1,
          1,
          1,
          1,
          1,
          1,
          1,
          1,
          1,
          1,
          1,
          1,
          1,
          1,
          1
         ]
        },
        {
         "colorscale": [
          [
           0,
           "blue"
          ],
          [
           1,
           "blue"
          ]
         ],
         "geo": "geo",
         "hovertemplate": "color=Democrat<br>locations=%{location}<extra></extra>",
         "locationmode": "USA-states",
         "locations": [
          "AZ",
          "CA",
          "CT",
          "DE",
          "HI",
          "IL",
          "MA",
          "MD",
          "MI",
          "MN",
          "NH",
          "NJ",
          "NM",
          "NV",
          "NY",
          "OR",
          "RI",
          "VA",
          "WA"
         ],
         "name": "Democrat",
         "showlegend": true,
         "showscale": false,
         "type": "choropleth",
         "z": [
          1,
          1,
          1,
          1,
          1,
          1,
          1,
          1,
          1,
          1,
          1,
          1,
          1,
          1,
          1,
          1,
          1,
          1,
          1
         ]
        }
       ],
       "layout": {
        "geo": {
         "center": {},
         "domain": {
          "x": [
           0,
           1
          ],
          "y": [
           0,
           1
          ]
         },
         "scope": "usa"
        },
        "legend": {
         "title": {
          "text": "color"
         },
         "tracegroupgap": 0
        },
        "template": {
         "data": {
          "bar": [
           {
            "error_x": {
             "color": "#2a3f5f"
            },
            "error_y": {
             "color": "#2a3f5f"
            },
            "marker": {
             "line": {
              "color": "#E5ECF6",
              "width": 0.5
             }
            },
            "type": "bar"
           }
          ],
          "barpolar": [
           {
            "marker": {
             "line": {
              "color": "#E5ECF6",
              "width": 0.5
             }
            },
            "type": "barpolar"
           }
          ],
          "carpet": [
           {
            "aaxis": {
             "endlinecolor": "#2a3f5f",
             "gridcolor": "white",
             "linecolor": "white",
             "minorgridcolor": "white",
             "startlinecolor": "#2a3f5f"
            },
            "baxis": {
             "endlinecolor": "#2a3f5f",
             "gridcolor": "white",
             "linecolor": "white",
             "minorgridcolor": "white",
             "startlinecolor": "#2a3f5f"
            },
            "type": "carpet"
           }
          ],
          "choropleth": [
           {
            "colorbar": {
             "outlinewidth": 0,
             "ticks": ""
            },
            "type": "choropleth"
           }
          ],
          "contour": [
           {
            "colorbar": {
             "outlinewidth": 0,
             "ticks": ""
            },
            "colorscale": [
             [
              0,
              "#0d0887"
             ],
             [
              0.1111111111111111,
              "#46039f"
             ],
             [
              0.2222222222222222,
              "#7201a8"
             ],
             [
              0.3333333333333333,
              "#9c179e"
             ],
             [
              0.4444444444444444,
              "#bd3786"
             ],
             [
              0.5555555555555556,
              "#d8576b"
             ],
             [
              0.6666666666666666,
              "#ed7953"
             ],
             [
              0.7777777777777778,
              "#fb9f3a"
             ],
             [
              0.8888888888888888,
              "#fdca26"
             ],
             [
              1,
              "#f0f921"
             ]
            ],
            "type": "contour"
           }
          ],
          "contourcarpet": [
           {
            "colorbar": {
             "outlinewidth": 0,
             "ticks": ""
            },
            "type": "contourcarpet"
           }
          ],
          "heatmap": [
           {
            "colorbar": {
             "outlinewidth": 0,
             "ticks": ""
            },
            "colorscale": [
             [
              0,
              "#0d0887"
             ],
             [
              0.1111111111111111,
              "#46039f"
             ],
             [
              0.2222222222222222,
              "#7201a8"
             ],
             [
              0.3333333333333333,
              "#9c179e"
             ],
             [
              0.4444444444444444,
              "#bd3786"
             ],
             [
              0.5555555555555556,
              "#d8576b"
             ],
             [
              0.6666666666666666,
              "#ed7953"
             ],
             [
              0.7777777777777778,
              "#fb9f3a"
             ],
             [
              0.8888888888888888,
              "#fdca26"
             ],
             [
              1,
              "#f0f921"
             ]
            ],
            "type": "heatmap"
           }
          ],
          "heatmapgl": [
           {
            "colorbar": {
             "outlinewidth": 0,
             "ticks": ""
            },
            "colorscale": [
             [
              0,
              "#0d0887"
             ],
             [
              0.1111111111111111,
              "#46039f"
             ],
             [
              0.2222222222222222,
              "#7201a8"
             ],
             [
              0.3333333333333333,
              "#9c179e"
             ],
             [
              0.4444444444444444,
              "#bd3786"
             ],
             [
              0.5555555555555556,
              "#d8576b"
             ],
             [
              0.6666666666666666,
              "#ed7953"
             ],
             [
              0.7777777777777778,
              "#fb9f3a"
             ],
             [
              0.8888888888888888,
              "#fdca26"
             ],
             [
              1,
              "#f0f921"
             ]
            ],
            "type": "heatmapgl"
           }
          ],
          "histogram": [
           {
            "marker": {
             "colorbar": {
              "outlinewidth": 0,
              "ticks": ""
             }
            },
            "type": "histogram"
           }
          ],
          "histogram2d": [
           {
            "colorbar": {
             "outlinewidth": 0,
             "ticks": ""
            },
            "colorscale": [
             [
              0,
              "#0d0887"
             ],
             [
              0.1111111111111111,
              "#46039f"
             ],
             [
              0.2222222222222222,
              "#7201a8"
             ],
             [
              0.3333333333333333,
              "#9c179e"
             ],
             [
              0.4444444444444444,
              "#bd3786"
             ],
             [
              0.5555555555555556,
              "#d8576b"
             ],
             [
              0.6666666666666666,
              "#ed7953"
             ],
             [
              0.7777777777777778,
              "#fb9f3a"
             ],
             [
              0.8888888888888888,
              "#fdca26"
             ],
             [
              1,
              "#f0f921"
             ]
            ],
            "type": "histogram2d"
           }
          ],
          "histogram2dcontour": [
           {
            "colorbar": {
             "outlinewidth": 0,
             "ticks": ""
            },
            "colorscale": [
             [
              0,
              "#0d0887"
             ],
             [
              0.1111111111111111,
              "#46039f"
             ],
             [
              0.2222222222222222,
              "#7201a8"
             ],
             [
              0.3333333333333333,
              "#9c179e"
             ],
             [
              0.4444444444444444,
              "#bd3786"
             ],
             [
              0.5555555555555556,
              "#d8576b"
             ],
             [
              0.6666666666666666,
              "#ed7953"
             ],
             [
              0.7777777777777778,
              "#fb9f3a"
             ],
             [
              0.8888888888888888,
              "#fdca26"
             ],
             [
              1,
              "#f0f921"
             ]
            ],
            "type": "histogram2dcontour"
           }
          ],
          "mesh3d": [
           {
            "colorbar": {
             "outlinewidth": 0,
             "ticks": ""
            },
            "type": "mesh3d"
           }
          ],
          "parcoords": [
           {
            "line": {
             "colorbar": {
              "outlinewidth": 0,
              "ticks": ""
             }
            },
            "type": "parcoords"
           }
          ],
          "pie": [
           {
            "automargin": true,
            "type": "pie"
           }
          ],
          "scatter": [
           {
            "marker": {
             "colorbar": {
              "outlinewidth": 0,
              "ticks": ""
             }
            },
            "type": "scatter"
           }
          ],
          "scatter3d": [
           {
            "line": {
             "colorbar": {
              "outlinewidth": 0,
              "ticks": ""
             }
            },
            "marker": {
             "colorbar": {
              "outlinewidth": 0,
              "ticks": ""
             }
            },
            "type": "scatter3d"
           }
          ],
          "scattercarpet": [
           {
            "marker": {
             "colorbar": {
              "outlinewidth": 0,
              "ticks": ""
             }
            },
            "type": "scattercarpet"
           }
          ],
          "scattergeo": [
           {
            "marker": {
             "colorbar": {
              "outlinewidth": 0,
              "ticks": ""
             }
            },
            "type": "scattergeo"
           }
          ],
          "scattergl": [
           {
            "marker": {
             "colorbar": {
              "outlinewidth": 0,
              "ticks": ""
             }
            },
            "type": "scattergl"
           }
          ],
          "scattermapbox": [
           {
            "marker": {
             "colorbar": {
              "outlinewidth": 0,
              "ticks": ""
             }
            },
            "type": "scattermapbox"
           }
          ],
          "scatterpolar": [
           {
            "marker": {
             "colorbar": {
              "outlinewidth": 0,
              "ticks": ""
             }
            },
            "type": "scatterpolar"
           }
          ],
          "scatterpolargl": [
           {
            "marker": {
             "colorbar": {
              "outlinewidth": 0,
              "ticks": ""
             }
            },
            "type": "scatterpolargl"
           }
          ],
          "scatterternary": [
           {
            "marker": {
             "colorbar": {
              "outlinewidth": 0,
              "ticks": ""
             }
            },
            "type": "scatterternary"
           }
          ],
          "surface": [
           {
            "colorbar": {
             "outlinewidth": 0,
             "ticks": ""
            },
            "colorscale": [
             [
              0,
              "#0d0887"
             ],
             [
              0.1111111111111111,
              "#46039f"
             ],
             [
              0.2222222222222222,
              "#7201a8"
             ],
             [
              0.3333333333333333,
              "#9c179e"
             ],
             [
              0.4444444444444444,
              "#bd3786"
             ],
             [
              0.5555555555555556,
              "#d8576b"
             ],
             [
              0.6666666666666666,
              "#ed7953"
             ],
             [
              0.7777777777777778,
              "#fb9f3a"
             ],
             [
              0.8888888888888888,
              "#fdca26"
             ],
             [
              1,
              "#f0f921"
             ]
            ],
            "type": "surface"
           }
          ],
          "table": [
           {
            "cells": {
             "fill": {
              "color": "#EBF0F8"
             },
             "line": {
              "color": "white"
             }
            },
            "header": {
             "fill": {
              "color": "#C8D4E3"
             },
             "line": {
              "color": "white"
             }
            },
            "type": "table"
           }
          ]
         },
         "layout": {
          "annotationdefaults": {
           "arrowcolor": "#2a3f5f",
           "arrowhead": 0,
           "arrowwidth": 1
          },
          "autotypenumbers": "strict",
          "coloraxis": {
           "colorbar": {
            "outlinewidth": 0,
            "ticks": ""
           }
          },
          "colorscale": {
           "diverging": [
            [
             0,
             "#8e0152"
            ],
            [
             0.1,
             "#c51b7d"
            ],
            [
             0.2,
             "#de77ae"
            ],
            [
             0.3,
             "#f1b6da"
            ],
            [
             0.4,
             "#fde0ef"
            ],
            [
             0.5,
             "#f7f7f7"
            ],
            [
             0.6,
             "#e6f5d0"
            ],
            [
             0.7,
             "#b8e186"
            ],
            [
             0.8,
             "#7fbc41"
            ],
            [
             0.9,
             "#4d9221"
            ],
            [
             1,
             "#276419"
            ]
           ],
           "sequential": [
            [
             0,
             "#0d0887"
            ],
            [
             0.1111111111111111,
             "#46039f"
            ],
            [
             0.2222222222222222,
             "#7201a8"
            ],
            [
             0.3333333333333333,
             "#9c179e"
            ],
            [
             0.4444444444444444,
             "#bd3786"
            ],
            [
             0.5555555555555556,
             "#d8576b"
            ],
            [
             0.6666666666666666,
             "#ed7953"
            ],
            [
             0.7777777777777778,
             "#fb9f3a"
            ],
            [
             0.8888888888888888,
             "#fdca26"
            ],
            [
             1,
             "#f0f921"
            ]
           ],
           "sequentialminus": [
            [
             0,
             "#0d0887"
            ],
            [
             0.1111111111111111,
             "#46039f"
            ],
            [
             0.2222222222222222,
             "#7201a8"
            ],
            [
             0.3333333333333333,
             "#9c179e"
            ],
            [
             0.4444444444444444,
             "#bd3786"
            ],
            [
             0.5555555555555556,
             "#d8576b"
            ],
            [
             0.6666666666666666,
             "#ed7953"
            ],
            [
             0.7777777777777778,
             "#fb9f3a"
            ],
            [
             0.8888888888888888,
             "#fdca26"
            ],
            [
             1,
             "#f0f921"
            ]
           ]
          },
          "colorway": [
           "#636efa",
           "#EF553B",
           "#00cc96",
           "#ab63fa",
           "#FFA15A",
           "#19d3f3",
           "#FF6692",
           "#B6E880",
           "#FF97FF",
           "#FECB52"
          ],
          "font": {
           "color": "#2a3f5f"
          },
          "geo": {
           "bgcolor": "white",
           "lakecolor": "white",
           "landcolor": "#E5ECF6",
           "showlakes": true,
           "showland": true,
           "subunitcolor": "white"
          },
          "hoverlabel": {
           "align": "left"
          },
          "hovermode": "closest",
          "mapbox": {
           "style": "light"
          },
          "paper_bgcolor": "white",
          "plot_bgcolor": "#E5ECF6",
          "polar": {
           "angularaxis": {
            "gridcolor": "white",
            "linecolor": "white",
            "ticks": ""
           },
           "bgcolor": "#E5ECF6",
           "radialaxis": {
            "gridcolor": "white",
            "linecolor": "white",
            "ticks": ""
           }
          },
          "scene": {
           "xaxis": {
            "backgroundcolor": "#E5ECF6",
            "gridcolor": "white",
            "gridwidth": 2,
            "linecolor": "white",
            "showbackground": true,
            "ticks": "",
            "zerolinecolor": "white"
           },
           "yaxis": {
            "backgroundcolor": "#E5ECF6",
            "gridcolor": "white",
            "gridwidth": 2,
            "linecolor": "white",
            "showbackground": true,
            "ticks": "",
            "zerolinecolor": "white"
           },
           "zaxis": {
            "backgroundcolor": "#E5ECF6",
            "gridcolor": "white",
            "gridwidth": 2,
            "linecolor": "white",
            "showbackground": true,
            "ticks": "",
            "zerolinecolor": "white"
           }
          },
          "shapedefaults": {
           "line": {
            "color": "#2a3f5f"
           }
          },
          "ternary": {
           "aaxis": {
            "gridcolor": "white",
            "linecolor": "white",
            "ticks": ""
           },
           "baxis": {
            "gridcolor": "white",
            "linecolor": "white",
            "ticks": ""
           },
           "bgcolor": "#E5ECF6",
           "caxis": {
            "gridcolor": "white",
            "linecolor": "white",
            "ticks": ""
           }
          },
          "title": {
           "x": 0.05
          },
          "xaxis": {
           "automargin": true,
           "gridcolor": "white",
           "linecolor": "white",
           "ticks": "",
           "title": {
            "standoff": 15
           },
           "zerolinecolor": "white",
           "zerolinewidth": 2
          },
          "yaxis": {
           "automargin": true,
           "gridcolor": "white",
           "linecolor": "white",
           "ticks": "",
           "title": {
            "standoff": 15
           },
           "zerolinecolor": "white",
           "zerolinewidth": 2
          }
         }
        },
        "title": {
         "text": "Senate Majority by State: 2020"
        }
       }
      },
      "text/html": [
       "<div>                            <div id=\"91962665-8add-43d4-bc24-a50961f380f7\" class=\"plotly-graph-div\" style=\"height:525px; width:100%;\"></div>            <script type=\"text/javascript\">                require([\"plotly\"], function(Plotly) {                    window.PLOTLYENV=window.PLOTLYENV || {};                                    if (document.getElementById(\"91962665-8add-43d4-bc24-a50961f380f7\")) {                    Plotly.newPlot(                        \"91962665-8add-43d4-bc24-a50961f380f7\",                        [{\"colorscale\": [[0.0, \"red\"], [1.0, \"red\"]], \"geo\": \"geo\", \"hovertemplate\": \"color=Republican<br>locations=%{location}<extra></extra>\", \"locationmode\": \"USA-states\", \"locations\": [\"AK\", \"AR\", \"FL\", \"GA\", \"IA\", \"ID\", \"IN\", \"KS\", \"KY\", \"LA\", \"MO\", \"MS\", \"NC\", \"ND\", \"NE\", \"OK\", \"SC\", \"SD\", \"TN\", \"TX\", \"UT\", \"WY\"], \"name\": \"Republican\", \"showlegend\": true, \"showscale\": false, \"type\": \"choropleth\", \"z\": [1, 1, 1, 1, 1, 1, 1, 1, 1, 1, 1, 1, 1, 1, 1, 1, 1, 1, 1, 1, 1, 1]}, {\"colorscale\": [[0.0, \"gray\"], [1.0, \"gray\"]], \"geo\": \"geo\", \"hovertemplate\": \"color=Tie<br>locations=%{location}<extra></extra>\", \"locationmode\": \"USA-states\", \"locations\": [\"AL\", \"AL\", \"CO\", \"CO\", \"ME\", \"ME\", \"MT\", \"MT\", \"OH\", \"OH\", \"PA\", \"PA\", \"VT\", \"VT\", \"WI\", \"WI\", \"WV\", \"WV\"], \"name\": \"Tie\", \"showlegend\": true, \"showscale\": false, \"type\": \"choropleth\", \"z\": [1, 1, 1, 1, 1, 1, 1, 1, 1, 1, 1, 1, 1, 1, 1, 1, 1, 1]}, {\"colorscale\": [[0.0, \"blue\"], [1.0, \"blue\"]], \"geo\": \"geo\", \"hovertemplate\": \"color=Democrat<br>locations=%{location}<extra></extra>\", \"locationmode\": \"USA-states\", \"locations\": [\"AZ\", \"CA\", \"CT\", \"DE\", \"HI\", \"IL\", \"MA\", \"MD\", \"MI\", \"MN\", \"NH\", \"NJ\", \"NM\", \"NV\", \"NY\", \"OR\", \"RI\", \"VA\", \"WA\"], \"name\": \"Democrat\", \"showlegend\": true, \"showscale\": false, \"type\": \"choropleth\", \"z\": [1, 1, 1, 1, 1, 1, 1, 1, 1, 1, 1, 1, 1, 1, 1, 1, 1, 1, 1]}],                        {\"geo\": {\"center\": {}, \"domain\": {\"x\": [0.0, 1.0], \"y\": [0.0, 1.0]}, \"scope\": \"usa\"}, \"legend\": {\"title\": {\"text\": \"color\"}, \"tracegroupgap\": 0}, \"template\": {\"data\": {\"bar\": [{\"error_x\": {\"color\": \"#2a3f5f\"}, \"error_y\": {\"color\": \"#2a3f5f\"}, \"marker\": {\"line\": {\"color\": \"#E5ECF6\", \"width\": 0.5}}, \"type\": \"bar\"}], \"barpolar\": [{\"marker\": {\"line\": {\"color\": \"#E5ECF6\", \"width\": 0.5}}, \"type\": \"barpolar\"}], \"carpet\": [{\"aaxis\": {\"endlinecolor\": \"#2a3f5f\", \"gridcolor\": \"white\", \"linecolor\": \"white\", \"minorgridcolor\": \"white\", \"startlinecolor\": \"#2a3f5f\"}, \"baxis\": {\"endlinecolor\": \"#2a3f5f\", \"gridcolor\": \"white\", \"linecolor\": \"white\", \"minorgridcolor\": \"white\", \"startlinecolor\": \"#2a3f5f\"}, \"type\": \"carpet\"}], \"choropleth\": [{\"colorbar\": {\"outlinewidth\": 0, \"ticks\": \"\"}, \"type\": \"choropleth\"}], \"contour\": [{\"colorbar\": {\"outlinewidth\": 0, \"ticks\": \"\"}, \"colorscale\": [[0.0, \"#0d0887\"], [0.1111111111111111, \"#46039f\"], [0.2222222222222222, \"#7201a8\"], [0.3333333333333333, \"#9c179e\"], [0.4444444444444444, \"#bd3786\"], [0.5555555555555556, \"#d8576b\"], [0.6666666666666666, \"#ed7953\"], [0.7777777777777778, \"#fb9f3a\"], [0.8888888888888888, \"#fdca26\"], [1.0, \"#f0f921\"]], \"type\": \"contour\"}], \"contourcarpet\": [{\"colorbar\": {\"outlinewidth\": 0, \"ticks\": \"\"}, \"type\": \"contourcarpet\"}], \"heatmap\": [{\"colorbar\": {\"outlinewidth\": 0, \"ticks\": \"\"}, \"colorscale\": [[0.0, \"#0d0887\"], [0.1111111111111111, \"#46039f\"], [0.2222222222222222, \"#7201a8\"], [0.3333333333333333, \"#9c179e\"], [0.4444444444444444, \"#bd3786\"], [0.5555555555555556, \"#d8576b\"], [0.6666666666666666, \"#ed7953\"], [0.7777777777777778, \"#fb9f3a\"], [0.8888888888888888, \"#fdca26\"], [1.0, \"#f0f921\"]], \"type\": \"heatmap\"}], \"heatmapgl\": [{\"colorbar\": {\"outlinewidth\": 0, \"ticks\": \"\"}, \"colorscale\": [[0.0, \"#0d0887\"], [0.1111111111111111, \"#46039f\"], [0.2222222222222222, \"#7201a8\"], [0.3333333333333333, \"#9c179e\"], [0.4444444444444444, \"#bd3786\"], [0.5555555555555556, \"#d8576b\"], [0.6666666666666666, \"#ed7953\"], [0.7777777777777778, \"#fb9f3a\"], [0.8888888888888888, \"#fdca26\"], [1.0, \"#f0f921\"]], \"type\": \"heatmapgl\"}], \"histogram\": [{\"marker\": {\"colorbar\": {\"outlinewidth\": 0, \"ticks\": \"\"}}, \"type\": \"histogram\"}], \"histogram2d\": [{\"colorbar\": {\"outlinewidth\": 0, \"ticks\": \"\"}, \"colorscale\": [[0.0, \"#0d0887\"], [0.1111111111111111, \"#46039f\"], [0.2222222222222222, \"#7201a8\"], [0.3333333333333333, \"#9c179e\"], [0.4444444444444444, \"#bd3786\"], [0.5555555555555556, \"#d8576b\"], [0.6666666666666666, \"#ed7953\"], [0.7777777777777778, \"#fb9f3a\"], [0.8888888888888888, \"#fdca26\"], [1.0, \"#f0f921\"]], \"type\": \"histogram2d\"}], \"histogram2dcontour\": [{\"colorbar\": {\"outlinewidth\": 0, \"ticks\": \"\"}, \"colorscale\": [[0.0, \"#0d0887\"], [0.1111111111111111, \"#46039f\"], [0.2222222222222222, \"#7201a8\"], [0.3333333333333333, \"#9c179e\"], [0.4444444444444444, \"#bd3786\"], [0.5555555555555556, \"#d8576b\"], [0.6666666666666666, \"#ed7953\"], [0.7777777777777778, \"#fb9f3a\"], [0.8888888888888888, \"#fdca26\"], [1.0, \"#f0f921\"]], \"type\": \"histogram2dcontour\"}], \"mesh3d\": [{\"colorbar\": {\"outlinewidth\": 0, \"ticks\": \"\"}, \"type\": \"mesh3d\"}], \"parcoords\": [{\"line\": {\"colorbar\": {\"outlinewidth\": 0, \"ticks\": \"\"}}, \"type\": \"parcoords\"}], \"pie\": [{\"automargin\": true, \"type\": \"pie\"}], \"scatter\": [{\"marker\": {\"colorbar\": {\"outlinewidth\": 0, \"ticks\": \"\"}}, \"type\": \"scatter\"}], \"scatter3d\": [{\"line\": {\"colorbar\": {\"outlinewidth\": 0, \"ticks\": \"\"}}, \"marker\": {\"colorbar\": {\"outlinewidth\": 0, \"ticks\": \"\"}}, \"type\": \"scatter3d\"}], \"scattercarpet\": [{\"marker\": {\"colorbar\": {\"outlinewidth\": 0, \"ticks\": \"\"}}, \"type\": \"scattercarpet\"}], \"scattergeo\": [{\"marker\": {\"colorbar\": {\"outlinewidth\": 0, \"ticks\": \"\"}}, \"type\": \"scattergeo\"}], \"scattergl\": [{\"marker\": {\"colorbar\": {\"outlinewidth\": 0, \"ticks\": \"\"}}, \"type\": \"scattergl\"}], \"scattermapbox\": [{\"marker\": {\"colorbar\": {\"outlinewidth\": 0, \"ticks\": \"\"}}, \"type\": \"scattermapbox\"}], \"scatterpolar\": [{\"marker\": {\"colorbar\": {\"outlinewidth\": 0, \"ticks\": \"\"}}, \"type\": \"scatterpolar\"}], \"scatterpolargl\": [{\"marker\": {\"colorbar\": {\"outlinewidth\": 0, \"ticks\": \"\"}}, \"type\": \"scatterpolargl\"}], \"scatterternary\": [{\"marker\": {\"colorbar\": {\"outlinewidth\": 0, \"ticks\": \"\"}}, \"type\": \"scatterternary\"}], \"surface\": [{\"colorbar\": {\"outlinewidth\": 0, \"ticks\": \"\"}, \"colorscale\": [[0.0, \"#0d0887\"], [0.1111111111111111, \"#46039f\"], [0.2222222222222222, \"#7201a8\"], [0.3333333333333333, \"#9c179e\"], [0.4444444444444444, \"#bd3786\"], [0.5555555555555556, \"#d8576b\"], [0.6666666666666666, \"#ed7953\"], [0.7777777777777778, \"#fb9f3a\"], [0.8888888888888888, \"#fdca26\"], [1.0, \"#f0f921\"]], \"type\": \"surface\"}], \"table\": [{\"cells\": {\"fill\": {\"color\": \"#EBF0F8\"}, \"line\": {\"color\": \"white\"}}, \"header\": {\"fill\": {\"color\": \"#C8D4E3\"}, \"line\": {\"color\": \"white\"}}, \"type\": \"table\"}]}, \"layout\": {\"annotationdefaults\": {\"arrowcolor\": \"#2a3f5f\", \"arrowhead\": 0, \"arrowwidth\": 1}, \"autotypenumbers\": \"strict\", \"coloraxis\": {\"colorbar\": {\"outlinewidth\": 0, \"ticks\": \"\"}}, \"colorscale\": {\"diverging\": [[0, \"#8e0152\"], [0.1, \"#c51b7d\"], [0.2, \"#de77ae\"], [0.3, \"#f1b6da\"], [0.4, \"#fde0ef\"], [0.5, \"#f7f7f7\"], [0.6, \"#e6f5d0\"], [0.7, \"#b8e186\"], [0.8, \"#7fbc41\"], [0.9, \"#4d9221\"], [1, \"#276419\"]], \"sequential\": [[0.0, \"#0d0887\"], [0.1111111111111111, \"#46039f\"], [0.2222222222222222, \"#7201a8\"], [0.3333333333333333, \"#9c179e\"], [0.4444444444444444, \"#bd3786\"], [0.5555555555555556, \"#d8576b\"], [0.6666666666666666, \"#ed7953\"], [0.7777777777777778, \"#fb9f3a\"], [0.8888888888888888, \"#fdca26\"], [1.0, \"#f0f921\"]], \"sequentialminus\": [[0.0, \"#0d0887\"], [0.1111111111111111, \"#46039f\"], [0.2222222222222222, \"#7201a8\"], [0.3333333333333333, \"#9c179e\"], [0.4444444444444444, \"#bd3786\"], [0.5555555555555556, \"#d8576b\"], [0.6666666666666666, \"#ed7953\"], [0.7777777777777778, \"#fb9f3a\"], [0.8888888888888888, \"#fdca26\"], [1.0, \"#f0f921\"]]}, \"colorway\": [\"#636efa\", \"#EF553B\", \"#00cc96\", \"#ab63fa\", \"#FFA15A\", \"#19d3f3\", \"#FF6692\", \"#B6E880\", \"#FF97FF\", \"#FECB52\"], \"font\": {\"color\": \"#2a3f5f\"}, \"geo\": {\"bgcolor\": \"white\", \"lakecolor\": \"white\", \"landcolor\": \"#E5ECF6\", \"showlakes\": true, \"showland\": true, \"subunitcolor\": \"white\"}, \"hoverlabel\": {\"align\": \"left\"}, \"hovermode\": \"closest\", \"mapbox\": {\"style\": \"light\"}, \"paper_bgcolor\": \"white\", \"plot_bgcolor\": \"#E5ECF6\", \"polar\": {\"angularaxis\": {\"gridcolor\": \"white\", \"linecolor\": \"white\", \"ticks\": \"\"}, \"bgcolor\": \"#E5ECF6\", \"radialaxis\": {\"gridcolor\": \"white\", \"linecolor\": \"white\", \"ticks\": \"\"}}, \"scene\": {\"xaxis\": {\"backgroundcolor\": \"#E5ECF6\", \"gridcolor\": \"white\", \"gridwidth\": 2, \"linecolor\": \"white\", \"showbackground\": true, \"ticks\": \"\", \"zerolinecolor\": \"white\"}, \"yaxis\": {\"backgroundcolor\": \"#E5ECF6\", \"gridcolor\": \"white\", \"gridwidth\": 2, \"linecolor\": \"white\", \"showbackground\": true, \"ticks\": \"\", \"zerolinecolor\": \"white\"}, \"zaxis\": {\"backgroundcolor\": \"#E5ECF6\", \"gridcolor\": \"white\", \"gridwidth\": 2, \"linecolor\": \"white\", \"showbackground\": true, \"ticks\": \"\", \"zerolinecolor\": \"white\"}}, \"shapedefaults\": {\"line\": {\"color\": \"#2a3f5f\"}}, \"ternary\": {\"aaxis\": {\"gridcolor\": \"white\", \"linecolor\": \"white\", \"ticks\": \"\"}, \"baxis\": {\"gridcolor\": \"white\", \"linecolor\": \"white\", \"ticks\": \"\"}, \"bgcolor\": \"#E5ECF6\", \"caxis\": {\"gridcolor\": \"white\", \"linecolor\": \"white\", \"ticks\": \"\"}}, \"title\": {\"x\": 0.05}, \"xaxis\": {\"automargin\": true, \"gridcolor\": \"white\", \"linecolor\": \"white\", \"ticks\": \"\", \"title\": {\"standoff\": 15}, \"zerolinecolor\": \"white\", \"zerolinewidth\": 2}, \"yaxis\": {\"automargin\": true, \"gridcolor\": \"white\", \"linecolor\": \"white\", \"ticks\": \"\", \"title\": {\"standoff\": 15}, \"zerolinecolor\": \"white\", \"zerolinewidth\": 2}}}, \"title\": {\"text\": \"Senate Majority by State: 2020\"}},                        {\"responsive\": true}                    ).then(function(){\n",
       "                            \n",
       "var gd = document.getElementById('91962665-8add-43d4-bc24-a50961f380f7');\n",
       "var x = new MutationObserver(function (mutations, observer) {{\n",
       "        var display = window.getComputedStyle(gd).display;\n",
       "        if (!display || display === 'none') {{\n",
       "            console.log([gd, 'removed!']);\n",
       "            Plotly.purge(gd);\n",
       "            observer.disconnect();\n",
       "        }}\n",
       "}});\n",
       "\n",
       "// Listen for the removal of the full notebook cells\n",
       "var notebookContainer = gd.closest('#notebook-container');\n",
       "if (notebookContainer) {{\n",
       "    x.observe(notebookContainer, {childList: true});\n",
       "}}\n",
       "\n",
       "// Listen for the clearing of the current output cell\n",
       "var outputEl = gd.closest('.output');\n",
       "if (outputEl) {{\n",
       "    x.observe(outputEl, {childList: true});\n",
       "}}\n",
       "\n",
       "                        })                };                });            </script>        </div>"
      ]
     },
     "metadata": {},
     "output_type": "display_data"
    }
   ],
   "source": [
    "fig = px.choropleth(locations=parties_1989['state'], locationmode=\"USA-states\", color=parties_1989['party'], scope=\"usa\",\n",
    "                    color_discrete_map={'Republican': 'red', 'Democrat': 'blue', 'Independent': 'purple', 'Tie': 'gray'}, title=\"Senate Majority by State: 1989\")\n",
    "fig.show()\n",
    "\n",
    "fig = px.choropleth(locations=parties_2020['state'], locationmode=\"USA-states\", color=parties_2020['party'], scope=\"usa\",\n",
    "                    color_discrete_map={'Republican': 'red', 'Democrat': 'blue', 'Independent': 'purple', 'Tie': 'gray'}, title=\"Senate Majority by State: 2020\")\n",
    "fig.show()"
   ]
  },
  {
   "cell_type": "code",
   "execution_count": null,
   "metadata": {},
   "outputs": [],
   "source": []
  },
  {
   "cell_type": "code",
   "execution_count": null,
   "metadata": {},
   "outputs": [],
   "source": []
  }
 ],
 "metadata": {
  "kernelspec": {
   "display_name": "Python 3",
   "language": "python",
   "name": "python3"
  },
  "language_info": {
   "codemirror_mode": {
    "name": "ipython",
    "version": 3
   },
   "file_extension": ".py",
   "mimetype": "text/x-python",
   "name": "python",
   "nbconvert_exporter": "python",
   "pygments_lexer": "ipython3",
   "version": "3.7.4"
  }
 },
 "nbformat": 4,
 "nbformat_minor": 2
}
